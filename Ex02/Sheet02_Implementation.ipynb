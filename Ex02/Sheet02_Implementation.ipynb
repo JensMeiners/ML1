{
 "metadata": {
  "name": ""
 },
 "nbformat": 3,
 "nbformat_minor": 0,
 "worksheets": [
  {
   "cells": [
    {
     "cell_type": "heading",
     "level": 1,
     "metadata": {},
     "source": [
      "Machine Learning I: WS 13/14"
     ]
    },
    {
     "cell_type": "heading",
     "level": 1,
     "metadata": {},
     "source": [
      "Introduction to Ipython Notebooks"
     ]
    },
    {
     "cell_type": "markdown",
     "metadata": {},
     "source": [
      "Please consult https://github.com/ipython/ipython/tree/master/examples/notebooks#a-collection-of-notebooks-for-using-ipython-effectively for use of ipython notebooks."
     ]
    },
    {
     "cell_type": "markdown",
     "metadata": {},
     "source": [
      "http://nbviewer.ipython.org/urls/raw.github.com/jrjohansson/scientific-python-lectures/master/Lecture-4-Matplotlib.ipynb provides great examples of plotting within ipynb"
     ]
    },
    {
     "cell_type": "markdown",
     "metadata": {},
     "source": [
      "Make sure you execute (shift + enter) all necessary code blocks before using them"
     ]
    },
    {
     "cell_type": "markdown",
     "metadata": {},
     "source": [
      "Please add titles to your plots and set the corresponding label to every axis. An example you can use:"
     ]
    },
    {
     "cell_type": "code",
     "collapsed": false,
     "input": [
      "# run this first if you want to plot the example yourself\n",
      "import numpy as np\n",
      "import matplotlib.pyplot as plt\n",
      "%pylab inline"
     ],
     "language": "python",
     "metadata": {},
     "outputs": [
      {
       "output_type": "stream",
       "stream": "stdout",
       "text": [
        "Populating the interactive namespace from numpy and matplotlib\n"
       ]
      },
      {
       "output_type": "stream",
       "stream": "stderr",
       "text": [
        "WARNING: pylab import has clobbered these variables: ['power', 'axes', 'random', 'fft', 'linalg', 'info']\n",
        "`%pylab --no-import-all` prevents importing * from pylab and numpy\n"
       ]
      }
     ],
     "prompt_number": 25
    },
    {
     "cell_type": "code",
     "collapsed": false,
     "input": [
      "# adjust it if you want to see the effects\n",
      "x = np.linspace(0,2)\n",
      "\n",
      "fig, axes = plt.subplots(nrows=1, ncols=2)\n",
      "for ax in axes:\n",
      "    ax.plot(x, x**2, label=r\"$f(x) = x^2$\")\n",
      "    ax.plot(x, x**0.5, label=r\"$f(x) = \\sqrt{x}$\")\n",
      "    ax.set_xlabel(r'$x$', fontsize=18)\n",
      "    ax.set_ylabel(r'$y$', fontsize=18)\n",
      "    ax.set_title('title') # ALWAYS set a title\n",
      "    ax.legend(loc=2) # Add a legend if necessary\n",
      "fig.tight_layout() # Make sure the figures don't overlap"
     ],
     "language": "python",
     "metadata": {},
     "outputs": [
      {
       "metadata": {},
       "output_type": "display_data",
       "png": "[encoded data removed]",
       "text": [
        "<matplotlib.figure.Figure at 0x3d9f1d0>"
       ]
      }
     ],
     "prompt_number": 26
    },
    {
     "cell_type": "heading",
     "level": 3,
     "metadata": {},
     "source": [
      "Utility Function:"
     ]
    },
    {
     "cell_type": "code",
     "collapsed": false,
     "input": [
      "# This function is used to compute the likelihood for estimation. No need to edit it, just run it\n",
      "\n",
      "def compute_likelihoods(m,trainingHam, trainingSpam, test, i):\n",
      "    likelihood_ham = 1.0\n",
      "    likelihood_spam = 1.0\n",
      "    for j in range(0,m):\n",
      "        likelihood_ham *= ((50+trainingHam[j])/1000.0)**(test[j,i])\n",
      "        likelihood_spam *= ((50+trainingSpam[j])/1000.0)**(test[j,i])\n",
      "        \n",
      "        # We are assuming that the presence of each word is Bernuli distributed\n",
      "        # 50 is added in case we've never seen the word in the given dataset\n",
      "        \n",
      "        \n",
      "        # We're scaling everything to make it easier to handle and interpret\n",
      "        val = max(likelihood_ham,likelihood_spam)\n",
      "        if(val<0.00001):\n",
      "            likelihood_ham*=1000\n",
      "            likelihood_spam*=1000\n",
      "    return likelihood_ham,likelihood_spam                     "
     ],
     "language": "python",
     "metadata": {},
     "outputs": [],
     "prompt_number": 27
    },
    {
     "cell_type": "heading",
     "level": 1,
     "metadata": {},
     "source": [
      "Exercise Sheet 2: Bayesian Decision Theory"
     ]
    },
    {
     "cell_type": "markdown",
     "metadata": {},
     "source": [
      "Naive Bayes classifiers are often employed for spam detection. One such dataset, available at (http://www.aueb.gr/users/ion/data/enron-spam/ ), has been preprocessed for use here. Training datasets are arrays which count the total number of occurrences of important words in the training dataset. Test matrices contain the number of occurences of the coresponding words in test messages. When marking use spam = 1, ham = 0. Your task is to implement the missing pieces of the classifier and test the effects of various parameters on the results. Each segment which requires implementation is marked with TODO: "
     ]
    },
    {
     "cell_type": "markdown",
     "metadata": {},
     "source": [
      "To ensure consistency, declare the packages you'll be using here. When running the notebook on your computer, don't forget to run the segment (shift + enter)"
     ]
    },
    {
     "cell_type": "code",
     "collapsed": false,
     "input": [
      "# Group packages in one place\n",
      "import numpy as np\n",
      "import scipy as sp\n",
      "import random\n",
      "from pylab import *\n",
      "from __future__ import division"
     ],
     "language": "python",
     "metadata": {},
     "outputs": [],
     "prompt_number": 28
    },
    {
     "cell_type": "heading",
     "level": 3,
     "metadata": {},
     "source": [
      "1: Calculating Posteriors"
     ]
    },
    {
     "cell_type": "markdown",
     "metadata": {},
     "source": [
      "Determine the posteriors P(HAM| message) and P(SPAM| message) using the Bayes rule."
     ]
    },
    {
     "cell_type": "markdown",
     "metadata": {},
     "source": [
      "$P(CLASS|message) = \\frac{P(message|class)P(class)}{P(message|ham)P(ham) + P(message|spam)P(spam)}$"
     ]
    },
    {
     "cell_type": "code",
     "collapsed": false,
     "input": [
      "def posteriors(prior_ham, prior_spam, likelihood_ham, likelihood_spam):\n",
      "    print prior_ham, prior_spam, likelihood_ham, likelihood_spam\n",
      "    # the likelihood in this case is P(message|class)\n",
      "    p_ham= (likelihood_ham * prior_ham) / (likelihood_ham * prior_ham + likelihood_spam * prior_spam)\n",
      "    p_spam=1-p_ham\n",
      "    # TODO(DONE): Implement the bayes rule\n",
      "    return p_ham,p_spam"
     ],
     "language": "python",
     "metadata": {},
     "outputs": [],
     "prompt_number": 29
    },
    {
     "cell_type": "heading",
     "level": 3,
     "metadata": {},
     "source": [
      "2: Classifying New Points"
     ]
    },
    {
     "cell_type": "markdown",
     "metadata": {},
     "source": [
      "For a given threshold T, classify message as spam for $P(spam|message) > T$. Use the first m features ($m\\leq1000)$. Size_ham and size_spam regulate the priors and can't break anything in the code (unless they're both set to 0)."
     ]
    },
    {
     "cell_type": "code",
     "collapsed": false,
     "input": [
      "def classify(trainingHam, trainingSpam, testHam, testSpam, T=0.5, m=50,size_ham=1000,size_spam=400):\n",
      "    # The result should consist of two vectors of length len(testHam) and len(testSpam) containing 0 for ham and 1 for spam\n",
      "    # Please keep this in mind (ham = 0, spam = 1).\n",
      "    prior_ham = size_ham/(size_ham+size_spam)\n",
      "    prior_spam = 1 - prior_ham\n",
      "    labels_ham = np.zeros(len(testHam)) # Write the labels for testHam here\n",
      "    labels_spam = np.zeros(len(testSpam)) # Write the labels for testSpam here\n",
      "    for i in range(0,size_ham):      \n",
      "        posterior_ham,posterior_spam = posteriors(prior_ham, prior_spam, compute_likelihood(m,trainingHam, testHam, i), compute_likelihood(m,trainingSpam, testHam, i))\n",
      "        # TODO(DONE): Classify the point and write the label in labels_ham. 1 := spam, 0 := ham\n",
      "        print posterior_spam\n",
      "        if posterior_spam > T:\n",
      "            labels_ham[i]=1\n",
      "    for i in range(0,size_spam):\n",
      "        posterior_ham,posterior_spam = posteriors(prior_ham, prior_spam, compute_likelihood(m,trainingHam, testSpam, i), compute_likelihood(m,trainingSpam, testSpam, i))\n",
      "        # TODO(DONE): Classify the point and write the label in labels_spam. 1 := spam, 0 := ham\n",
      "        if posterior_spam > T:\n",
      "            labels_spam[i]=1\n",
      "    return labels_ham, labels_spam"
     ],
     "language": "python",
     "metadata": {},
     "outputs": [],
     "prompt_number": 30
    },
    {
     "cell_type": "heading",
     "level": 3,
     "metadata": {},
     "source": [
      "3: Performance Measures"
     ]
    },
    {
     "cell_type": "markdown",
     "metadata": {},
     "source": [
      "Based on the results of classification, determine accuracy, sensitivity, specificity and F1 score."
     ]
    },
    {
     "cell_type": "code",
     "collapsed": false,
     "input": [
      "def performance_measures(labels_ham,labels_spam):\n",
      "    rp = 0 # right positive\n",
      "    rn = 0 # right negative\n",
      "    fp = 0 # false positive\n",
      "    fn = 0 # false negative\n",
      "    \n",
      "    for i in labels_ham:\n",
      "        if i == 0:\n",
      "            rn = rn + 1\n",
      "        else:\n",
      "            fp = fp + 1\n",
      "    for i in labels_spam:\n",
      "        if i == 0:\n",
      "            fn = fn + 1\n",
      "        else:\n",
      "            rp = rp + 1\n",
      "\n",
      "    sensitivity = rp / (rp + fn)\n",
      "    specificity = rn / (rn + fp)\n",
      "    if (rp + fp) == 0:\n",
      "        accuracy = 0\n",
      "    else:\n",
      "        accuracy = rp / (rp + fp)\n",
      "    if (accuracy+sensitivity) == 0:\n",
      "        F1 = 0\n",
      "    else:\n",
      "        F1 = 2 * (accuracy*sensitivity)/(accuracy+sensitivity)\n",
      "    return accuracy, sensitivity, specificity, F1"
     ],
     "language": "python",
     "metadata": {},
     "outputs": [],
     "prompt_number": 31
    },
    {
     "cell_type": "heading",
     "level": 3,
     "metadata": {},
     "source": [
      "4: ROC Curve"
     ]
    },
    {
     "cell_type": "markdown",
     "metadata": {},
     "source": [
      "Experiment with various values for T and visualize the results as an ROC curve. Also plot all the other performance measures as a function of T"
     ]
    },
    {
     "cell_type": "code",
     "collapsed": false,
     "input": [
      "trainingSpam= np.load('spamTraining.npy')\n",
      "trainingHam= np.load('hamTraining.npy')\n",
      "testSpam= np.load('spamTest.npy')\n",
      "testHam = np.load('hamTest.npy')\n",
      "# TODO: Vary T, plot results ( subplots )\n",
      "# adjust it if you want to see the effects\n",
      "T = [0.5]\n",
      "fig, axes = plt.subplots()\n",
      "axes.set_xlabel('False positive rate')\n",
      "axes.set_ylabel('True positive rate')\n",
      "axes.set_title('ROC curve for various thresholds');\n",
      "\n",
      "for i in T:\n",
      "    labels_ham, labels_spam = classify(trainingHam,trainingSpam,testHam,testSpam,i)\n",
      "    print labels_ham\n",
      "    print labels_spam\n",
      "    accuracy, sensitivity, specificity, F1 = performance_measures(labels_ham,labels_spam)\n",
      "    axes.plot(specificity, sensitivity, 'o')\n",
      "\n",
      "#x = np.zeros((len(T),1))\n",
      "#T = np.arange(0,1,0.1)\n",
      "#f = np.zeros((len(T),1))\n",
      "\n",
      "#for i in range(len(T)):\n",
      "#    t = T[i]\n",
      "#    labels_ham,labels_spam = classify(trainingHam,trainingSpam,testHam,testSpam,T=t)\n",
      "#    accuracy, sensitivity, specificity, F1 = performance_measures(labels_ham,labels_spam)\n",
      "#    x[i] = specificity\n",
      "#    f[i] = sensitivity\n",
      "    \n",
      "#print f\n",
      "#print x\n",
      "#print testSpam\n",
      "#print testHam\n",
      "\n",
      "#ax = axes\n",
      "#ax.plot(x, f, 'ro', label=r\"$f(x) = x^2$\")\n",
      "#ax.set_xlabel(r'$x$', fontsize=18)\n",
      "#ax.set_ylabel(r'$y$', fontsize=18)\n",
      "#ax.set_title('title') # ALWAYS set a title\n",
      "#ax.legend(loc=2) # Add a legend if necessary\n",
      "#fig.tight_layout() # Make sure the figures don't overlap"
     ],
     "language": "python",
     "metadata": {},
     "outputs": [
      {
       "ename": "NameError",
       "evalue": "global name 'compute_likelihood' is not defined",
       "output_type": "pyerr",
       "traceback": [
        "\u001b[1;31m---------------------------------------------------------------------------\u001b[0m\n\u001b[1;31mNameError\u001b[0m                                 Traceback (most recent call last)",
        "\u001b[1;32m<ipython-input-32-ac8e0c74b218>\u001b[0m in \u001b[0;36m<module>\u001b[1;34m()\u001b[0m\n\u001b[0;32m     12\u001b[0m \u001b[1;33m\u001b[0m\u001b[0m\n\u001b[0;32m     13\u001b[0m \u001b[1;32mfor\u001b[0m \u001b[0mi\u001b[0m \u001b[1;32min\u001b[0m \u001b[0mT\u001b[0m\u001b[1;33m:\u001b[0m\u001b[1;33m\u001b[0m\u001b[0m\n\u001b[1;32m---> 14\u001b[1;33m     \u001b[0mlabels_ham\u001b[0m\u001b[1;33m,\u001b[0m \u001b[0mlabels_spam\u001b[0m \u001b[1;33m=\u001b[0m \u001b[0mclassify\u001b[0m\u001b[1;33m(\u001b[0m\u001b[0mtrainingHam\u001b[0m\u001b[1;33m,\u001b[0m\u001b[0mtrainingSpam\u001b[0m\u001b[1;33m,\u001b[0m\u001b[0mtestHam\u001b[0m\u001b[1;33m,\u001b[0m\u001b[0mtestSpam\u001b[0m\u001b[1;33m,\u001b[0m\u001b[0mi\u001b[0m\u001b[1;33m)\u001b[0m\u001b[1;33m\u001b[0m\u001b[0m\n\u001b[0m\u001b[0;32m     15\u001b[0m     \u001b[1;32mprint\u001b[0m \u001b[0mlabels_ham\u001b[0m\u001b[1;33m\u001b[0m\u001b[0m\n\u001b[0;32m     16\u001b[0m     \u001b[1;32mprint\u001b[0m \u001b[0mlabels_spam\u001b[0m\u001b[1;33m\u001b[0m\u001b[0m\n",
        "\u001b[1;32m<ipython-input-30-c6f1d21bf531>\u001b[0m in \u001b[0;36mclassify\u001b[1;34m(trainingHam, trainingSpam, testHam, testSpam, T, m, size_ham, size_spam)\u001b[0m\n\u001b[0;32m      7\u001b[0m     \u001b[0mlabels_spam\u001b[0m \u001b[1;33m=\u001b[0m \u001b[0mnp\u001b[0m\u001b[1;33m.\u001b[0m\u001b[0mzeros\u001b[0m\u001b[1;33m(\u001b[0m\u001b[0mlen\u001b[0m\u001b[1;33m(\u001b[0m\u001b[0mtestSpam\u001b[0m\u001b[1;33m)\u001b[0m\u001b[1;33m)\u001b[0m \u001b[1;31m# Write the labels for testSpam here\u001b[0m\u001b[1;33m\u001b[0m\u001b[0m\n\u001b[0;32m      8\u001b[0m     \u001b[1;32mfor\u001b[0m \u001b[0mi\u001b[0m \u001b[1;32min\u001b[0m \u001b[0mrange\u001b[0m\u001b[1;33m(\u001b[0m\u001b[1;36m0\u001b[0m\u001b[1;33m,\u001b[0m\u001b[0msize_ham\u001b[0m\u001b[1;33m)\u001b[0m\u001b[1;33m:\u001b[0m\u001b[1;33m\u001b[0m\u001b[0m\n\u001b[1;32m----> 9\u001b[1;33m         \u001b[0mposterior_ham\u001b[0m\u001b[1;33m,\u001b[0m\u001b[0mposterior_spam\u001b[0m \u001b[1;33m=\u001b[0m \u001b[0mposteriors\u001b[0m\u001b[1;33m(\u001b[0m\u001b[0mprior_ham\u001b[0m\u001b[1;33m,\u001b[0m \u001b[0mprior_spam\u001b[0m\u001b[1;33m,\u001b[0m \u001b[0mcompute_likelihood\u001b[0m\u001b[1;33m(\u001b[0m\u001b[0mm\u001b[0m\u001b[1;33m,\u001b[0m\u001b[0mtrainingHam\u001b[0m\u001b[1;33m,\u001b[0m \u001b[0mtestHam\u001b[0m\u001b[1;33m,\u001b[0m \u001b[0mi\u001b[0m\u001b[1;33m)\u001b[0m\u001b[1;33m,\u001b[0m \u001b[0mcompute_likelihood\u001b[0m\u001b[1;33m(\u001b[0m\u001b[0mm\u001b[0m\u001b[1;33m,\u001b[0m\u001b[0mtrainingSpam\u001b[0m\u001b[1;33m,\u001b[0m \u001b[0mtestHam\u001b[0m\u001b[1;33m,\u001b[0m \u001b[0mi\u001b[0m\u001b[1;33m)\u001b[0m\u001b[1;33m)\u001b[0m\u001b[1;33m\u001b[0m\u001b[0m\n\u001b[0m\u001b[0;32m     10\u001b[0m         \u001b[1;31m# TODO(DONE): Classify the point and write the label in labels_ham. 1 := spam, 0 := ham\u001b[0m\u001b[1;33m\u001b[0m\u001b[1;33m\u001b[0m\u001b[0m\n\u001b[0;32m     11\u001b[0m         \u001b[1;32mprint\u001b[0m \u001b[0mposterior_spam\u001b[0m\u001b[1;33m\u001b[0m\u001b[0m\n",
        "\u001b[1;31mNameError\u001b[0m: global name 'compute_likelihood' is not defined"
       ]
      },
      {
       "metadata": {},
       "output_type": "display_data",
       "png": "[encoded data removed]",
       "text": [
        "<matplotlib.figure.Figure at 0x37e1c50>"
       ]
      }
     ],
     "prompt_number": 32
    },
    {
     "cell_type": "markdown",
     "metadata": {},
     "source": [
      "TODO: Comment on the results. How do the classifiers behave in regard to changing T. Which value would you use? Why?"
     ]
    },
    {
     "cell_type": "markdown",
     "metadata": {},
     "source": [
      "TODO: What kind of a threshold would you use in medical applications (spam = sick, ham = healthy)? How is this scenario different from spam detection?"
     ]
    },
    {
     "cell_type": "heading",
     "level": 3,
     "metadata": {},
     "source": [
      "5: Number of features"
     ]
    },
    {
     "cell_type": "markdown",
     "metadata": {},
     "source": [
      "Experiment with different values for m, $1\\leq m\\leq 1000$. Plot the various accuracy measures as a function of m. "
     ]
    },
    {
     "cell_type": "code",
     "collapsed": false,
     "input": [
      "trainingSpam= np.load('spamTraining.npy')\n",
      "trainingHam= np.load('hamTraining.npy')\n",
      "testSpam= np.load('spamTest.npy')\n",
      "testHam = np.load('hamTest.npy')\n",
      "M=[]\n",
      "#TODO: Vary m, use the best T from the previous experiment"
     ],
     "language": "python",
     "metadata": {},
     "outputs": []
    },
    {
     "cell_type": "heading",
     "level": 1,
     "metadata": {},
     "source": [
      "6: ${\\#ham}$ vs. ${\\#spam}$"
     ]
    },
    {
     "cell_type": "markdown",
     "metadata": {},
     "source": [
      "Experiment with different ratios of ham to spam messages. Make sure you show all significant combinations (|ham|>>|spam|, |ham| > |spam|, |ham| = |spam|,...). Plot the results as a function of the ratio"
     ]
    },
    {
     "cell_type": "code",
     "collapsed": false,
     "input": [
      "trainingSpam= np.load('spamTraining.npy')\n",
      "trainingHam= np.load('hamTraining.npy')\n",
      "testSpam= np.load('spamTest.npy')\n",
      "testHam = np.load('hamTest.npy')\n",
      "#TODO: select different values for size_spam and size_ham, visualize the effects the ratio has on the accuracy measures"
     ],
     "language": "python",
     "metadata": {},
     "outputs": []
    },
    {
     "cell_type": "markdown",
     "metadata": {},
     "source": [
      "TODO: Comment on the results. What kind of a ratio would you expect when building actual spam filters? How would you react to a sudden burst in spam messages?"
     ]
    }
   ],
   "metadata": {}
  }
 ]
}