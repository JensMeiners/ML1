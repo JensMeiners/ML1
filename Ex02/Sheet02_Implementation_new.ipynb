{
 "metadata": {
  "name": ""
 },
 "nbformat": 3,
 "nbformat_minor": 0,
 "worksheets": [
  {
   "cells": [
    {
     "cell_type": "heading",
     "level": 1,
     "metadata": {},
     "source": [
      "Machine Learning I: WS 13/14"
     ]
    },
    {
     "cell_type": "heading",
     "level": 1,
     "metadata": {},
     "source": [
      "Introduction to Ipython Notebooks"
     ]
    },
    {
     "cell_type": "markdown",
     "metadata": {},
     "source": [
      "Please consult https://github.com/ipython/ipython/tree/master/examples/notebooks#a-collection-of-notebooks-for-using-ipython-effectively for use of ipython notebooks."
     ]
    },
    {
     "cell_type": "markdown",
     "metadata": {},
     "source": [
      "http://nbviewer.ipython.org/urls/raw.github.com/jrjohansson/scientific-python-lectures/master/Lecture-4-Matplotlib.ipynb provides great examples of plotting within ipynb"
     ]
    },
    {
     "cell_type": "markdown",
     "metadata": {},
     "source": [
      "Make sure you execute (shift + enter) all necessary code blocks before using them"
     ]
    },
    {
     "cell_type": "markdown",
     "metadata": {},
     "source": [
      "Please add titles to your plots and set the corresponding label to every axis. An example you can use:"
     ]
    },
    {
     "cell_type": "code",
     "collapsed": false,
     "input": [
      "# run this first if you want to plot the example yourself\n",
      "import numpy as np\n",
      "import matplotlib.pyplot as plt\n",
      "%pylab inline"
     ],
     "language": "python",
     "metadata": {},
     "outputs": [
      {
       "output_type": "stream",
       "stream": "stdout",
       "text": [
        "Populating the interactive namespace from numpy and matplotlib\n"
       ]
      }
     ],
     "prompt_number": 1
    },
    {
     "cell_type": "code",
     "collapsed": false,
     "input": [
      "# adjust it if you want to see the effects\n",
      "x = np.linspace(0,2)\n",
      "\n",
      "fig, axes = plt.subplots(nrows=1, ncols=2)\n",
      "for ax in axes:\n",
      "    ax.plot(x, x**2, label=r\"$f(x) = x^2$\")\n",
      "    ax.plot(x, x**0.5, label=r\"$f(x) = \\sqrt{x}$\")\n",
      "    ax.set_xlabel(r'$x$', fontsize=18)\n",
      "    ax.set_ylabel(r'$y$', fontsize=18)\n",
      "    ax.set_title('title') # ALWAYS set a title\n",
      "    ax.legend(loc=2) # Add a legend if necessary\n",
      "fig.tight_layout() # Make sure the figures don't overlap"
     ],
     "language": "python",
     "metadata": {},
     "outputs": [
      {
       "metadata": {},
       "output_type": "display_data",
       "png": "[encoded data removed]",
       "text": [
        "<matplotlib.figure.Figure at 0x30de690>"
       ]
      }
     ],
     "prompt_number": 2
    },
    {
     "cell_type": "heading",
     "level": 3,
     "metadata": {},
     "source": [
      "Utility Function:"
     ]
    },
    {
     "cell_type": "markdown",
     "metadata": {},
     "source": [
      "We've switched to binary features in classification.\n",
      "\n",
      "$Training_{class}:$ number of messages of the given class in which specific words occur\n",
      "\n",
      "$Test_{class}: $ 400 columns where each column is a message in the given class and $ Test_{class}(j,i) = 1 \\Leftrightarrow $ $word(j)$ in $message(i)$\n"
     ]
    },
    {
     "cell_type": "code",
     "collapsed": false,
     "input": [
      "# This function is used to compute the likelihood for estimation. No need to edit it, just run it\n",
      "\n",
      "def compute_likelihoods(m,trainingHam, trainingSpam, test, i):\n",
      "    likelihood_ham = 1.0\n",
      "    likelihood_spam = 1.0\n",
      "    for j in range(0,m):\n",
      "        likelihood_ham *= ((50+trainingHam[j])/1000.0)**(test[j,i])\n",
      "        likelihood_spam *= ((50+trainingSpam[j])/1000.0)**(test[j,i])\n",
      "        \n",
      "        # We are assuming that the presence of each word is Bernuli distributed\n",
      "        # 50 is added in case we've never seen the word in the given dataset\n",
      "        \n",
      "        \n",
      "        # We're scaling everything to make it easier to handle and interpret\n",
      "        val = max(likelihood_ham,likelihood_spam)\n",
      "        if(val<0.00001):\n",
      "            likelihood_ham*=1000\n",
      "            likelihood_spam*=1000\n",
      "    return likelihood_ham,likelihood_spam                        "
     ],
     "language": "python",
     "metadata": {},
     "outputs": [],
     "prompt_number": 3
    },
    {
     "cell_type": "heading",
     "level": 1,
     "metadata": {},
     "source": [
      "Exercise Sheet 2: Bayesian Decision Theory"
     ]
    },
    {
     "cell_type": "markdown",
     "metadata": {},
     "source": [
      "Naive Bayes classifiers are often employed for spam detection. One such dataset, available at (http://www.aueb.gr/users/ion/data/enron-spam/ ), has been preprocessed by determining the most interesting words (those which occur in one class significantly more than the other) and checking for their occurrences in the test messages. \n",
      "\n",
      "Your task is to implement the missing pieces of the classifier and test the effects of various parameters on the results. Each segment which requires implementation is marked with TODO: "
     ]
    },
    {
     "cell_type": "markdown",
     "metadata": {},
     "source": [
      "To ensure consistency, declare the packages you'll be using here. When running the notebook on your computer, don't forget to run the segment (shift + enter)"
     ]
    },
    {
     "cell_type": "code",
     "collapsed": false,
     "input": [
      "# Group packages in one place\n",
      "import numpy as np\n",
      "import scipy as sp\n",
      "import random\n",
      "from pylab import *\n",
      "from __future__ import division"
     ],
     "language": "python",
     "metadata": {},
     "outputs": [],
     "prompt_number": 4
    },
    {
     "cell_type": "heading",
     "level": 3,
     "metadata": {},
     "source": [
      "1: Evaluate Feature Selection"
     ]
    },
    {
     "cell_type": "markdown",
     "metadata": {},
     "source": [
      "We've significantly changed the feature extraction pattern. Your task here is to examine the frequencies of the first 10 features within the ham and spam messages and visualize the results."
     ]
    },
    {
     "cell_type": "code",
     "collapsed": false,
     "input": [
      "trainingSpam= np.load('spamTraining.npy')\n",
      "trainingHam= np.load('hamTraining.npy')\n",
      "trainingSpam=trainingSpam[0:10]/1000\n",
      "trainingHam=trainingHam[0:10]/1000\n",
      "\n",
      "x = [x for x in range(10)]\n",
      "fig, ax = plt.subplots()\n",
      "ax.fill_between(x, 0, trainingHam[x], color=\"blue\")\n",
      "ax.fill_between(x, 0, trainingSpam[x], color=\"green\")\n",
      "\n",
      "ax.set_xlabel(r'feature', fontsize=18)\n",
      "ax.set_ylabel(r'frequency', fontsize=18)\n",
      "ax.set_title('Frequencies of the first 10 features') # ALWAYS set a title\n",
      "\n",
      "#TODO: Visualize  features indicate spam and which indicate ham messages\n",
      "#Use fill_between for visualization. Show everything in one plot\n",
      "#First fill in the frequencies for the ham data in blue (between x-axis and frequency)\n",
      "#Then fill the frequencies of spam data on top of that (so the value is added to the frequency of ham data)"
     ],
     "language": "python",
     "metadata": {},
     "outputs": [
      {
       "metadata": {},
       "output_type": "pyout",
       "prompt_number": 75,
       "text": [
        "<matplotlib.text.Text at 0x66ad750>"
       ]
      },
      {
       "metadata": {},
       "output_type": "display_data",
       "png": "[encoded data removed]",
       "text": [
        "<matplotlib.figure.Figure at 0x6cc90d0>"
       ]
      }
     ],
     "prompt_number": 75
    },
    {
     "cell_type": "heading",
     "level": 4,
     "metadata": {},
     "source": [
      "In the previous version of the code we've only checked the number of messages, regardless of type, in which words occur. \n",
      "\n",
      "In this version, we're focusing on spam-specific and ham-specific words (i.e. far more frequent in one dataset than the other)\n",
      "\n",
      "Why is the second approach yielding better results?"
     ]
    },
    {
     "cell_type": "markdown",
     "metadata": {},
     "source": [
      "TODO: Your (brief) analysis here\n",
      "\n",
      "Some words like 'the' occour verry often but give no information about the type of the message.\n"
     ]
    },
    {
     "cell_type": "markdown",
     "metadata": {},
     "source": [
      "TODO: Which category should the following words signify? (The ham dataset consists of emails from Enron's  R&D department)\n",
      "\n",
      "Research - ham\n",
      "\n",
      "Dollars - spam\n",
      "\n",
      "Transfer - spam\n",
      "\n",
      "Credit - spam\n",
      "\n",
      "Subscribe - spam\n",
      "\n",
      "Attachment - ham\n",
      "\n",
      "Conference - ham\n",
      "\n",
      "Plots - ham\n",
      "\n",
      "Viagra - spam\n",
      "\n",
      "Journal - ham\n",
      "\n",
      "Enron - ham"
     ]
    },
    {
     "cell_type": "heading",
     "level": 3,
     "metadata": {},
     "source": [
      "2: Calculating Posteriors"
     ]
    },
    {
     "cell_type": "heading",
     "level": 4,
     "metadata": {},
     "source": [
      "Determine the posteriors P(HAM| message) and P(SPAM| message) using the Bayes rule."
     ]
    },
    {
     "cell_type": "heading",
     "level": 4,
     "metadata": {},
     "source": [
      "$P(CLASS|message) = \\frac{P(message|class)P(class)}{P(message|ham)P(ham) + P(message|spam)P(spam)}$"
     ]
    },
    {
     "cell_type": "code",
     "collapsed": false,
     "input": [
      "def posterioirs(prior_ham, prior_spam, likelihood_ham, likelihood_spam):\n",
      "    # the likelihood in this case is P(message|class)\n",
      "    p_ham = (likelihood_ham * prior_ham) / (likelihood_ham * prior_ham + likelihood_spam * prior_spam)\n",
      "    p_spam=1-p_ham\n",
      "    # TODO: Implement the bayes rule\n",
      "    return p_ham,p_spam"
     ],
     "language": "python",
     "metadata": {},
     "outputs": [],
     "prompt_number": 6
    },
    {
     "cell_type": "heading",
     "level": 3,
     "metadata": {},
     "source": [
      "3: Classifying New Points"
     ]
    },
    {
     "cell_type": "heading",
     "level": 4,
     "metadata": {},
     "source": [
      "For a given threshold T, classify message as spam for $P(spam|message) > T$. Use the first m features ($m\\leq600)$. Size_ham and size_spam regulate the priors and can't break anything in the code (unless they're both set to 0)."
     ]
    },
    {
     "cell_type": "code",
     "collapsed": false,
     "input": [
      "def classify(trainingHam, trainingSpam, testHam, testSpam, T=0.5, m=50,size_ham=7000,size_spam=3000):\n",
      "    # The result should consist of two vectors of length len(testHam) and len(testSpam) containing 0 for ham and 1 for spam\n",
      "    # Please keep this in mind (ham = 0, spam = 1).\n",
      "    prior_ham = size_ham / ( size_ham + size_spam )\n",
      "    prior_spam = 1-prior_ham\n",
      "    labels_ham = np.zeros(testHam.shape[1]) # Write the labels for testHam here\n",
      "    labels_spam = np.zeros(testSpam.shape[1]) # Write the labels for testSpam here\n",
      "    for i in range(0,testHam.shape[1]):\n",
      "        likelihood_ham,likelihood_spam=compute_likelihoods(m,trainingHam,trainingSpam, testHam, i)\n",
      "        #print \"likelihoods HAM \" + str(likelihood_ham) + \" -- \" + str(likelihood_spam)\n",
      "        #TODO: Determine the posteriors and classify the message        \n",
      "        p_ham,p_spam = posterioirs(prior_ham, prior_spam, likelihood_ham, likelihood_spam)\n",
      "        if p_spam > T:\n",
      "            labels_ham[i]=1\n",
      "    for i in range(0,testSpam.shape[1]):\n",
      "        likelihood_ham,likelihood_spam=compute_likelihoods(m,trainingHam,trainingSpam, testSpam, i)\n",
      "        #print \"likelihoods SPAM \" + str(likelihood_ham) + str(likelihood_spam)\n",
      "        #TODO: Determine the posteriors and classify the message  \n",
      "        p_ham,p_spam = posterioirs(prior_ham, prior_spam, likelihood_ham, likelihood_spam)\n",
      "        if p_spam > T:\n",
      "            labels_spam[i]=1\n",
      "    return labels_ham, labels_spam"
     ],
     "language": "python",
     "metadata": {},
     "outputs": [],
     "prompt_number": 15
    },
    {
     "cell_type": "heading",
     "level": 3,
     "metadata": {},
     "source": [
      "4: Performance Measures"
     ]
    },
    {
     "cell_type": "heading",
     "level": 4,
     "metadata": {},
     "source": [
      "Based on the results of classification, determine accuracy, sensitivity, specificity and F1 score."
     ]
    },
    {
     "cell_type": "code",
     "collapsed": false,
     "input": [
      "def performance_measures(labels_ham,labels_spam):\n",
      "    # TODO: Calculate the values\n",
      "    rp = 0 # right positive\n",
      "    rn = 0 # right negative\n",
      "    fp = 0 # false positive\n",
      "    fn = 0 # false negative\n",
      "    \n",
      "    for i in labels_ham:\n",
      "        if i == 0:\n",
      "            rn = rn + 1\n",
      "        else:\n",
      "            fp = fp + 1\n",
      "    for i in labels_spam:\n",
      "        if i == 0:\n",
      "            fn = fn + 1\n",
      "        else:\n",
      "            rp = rp + 1\n",
      "\n",
      "    sensitivity = rp / (rp + fn)\n",
      "    specificity = rn / (rn + fp)\n",
      "    if (rp + fp) == 0:\n",
      "        accuracy = 0\n",
      "    else:\n",
      "        accuracy = rp / (rp + fp)\n",
      "    if (accuracy+sensitivity) == 0:\n",
      "        F1 = 0\n",
      "    else:\n",
      "        F1 = 2 * (accuracy*sensitivity)/(accuracy+sensitivity)\n",
      "    return accuracy, sensitivity, specificity, F1"
     ],
     "language": "python",
     "metadata": {},
     "outputs": [],
     "prompt_number": 10
    },
    {
     "cell_type": "heading",
     "level": 3,
     "metadata": {},
     "source": [
      "5: ROC Curve"
     ]
    },
    {
     "cell_type": "heading",
     "level": 4,
     "metadata": {},
     "source": [
      "Experiment with various values for T and visualize the results as an ROC curve. Also plot all the other performance measures as a function of T"
     ]
    },
    {
     "cell_type": "code",
     "collapsed": false,
     "input": [
      "trainingSpam= np.load('spamTraining.npy')\n",
      "trainingHam= np.load('hamTraining.npy')\n",
      "testSpam= np.load('spamTest.npy')\n",
      "testHam = np.load('hamTest.npy')\n",
      "#print \"HAM\"\n",
      "#print testHam.shape\n",
      "#print \"SPAM\"\n",
      "#print testSpam.shape\n",
      "    \n",
      "# TODO: Vary T, plot results ( subplots )\n",
      "T = np.arange(0,1,0.01)\n",
      "#T = [0.5]\n",
      "print \"please wait\"\n",
      "sens = []\n",
      "spec = []\n",
      "diag = [0,1]\n",
      "\n",
      "\n",
      "fig, axes = plt.subplots()\n",
      "axes.set_xlabel('False positive rate')\n",
      "axes.set_ylabel('True positive rate')\n",
      "axes.set_title('ROC curve for various thresholds');\n",
      "\n",
      "for i in T:\n",
      "    labels_ham, labels_spam = classify(trainingHam,trainingSpam,testHam,testSpam,i)\n",
      "    accuracy, sensitivity, specificity, F1 = performance_measures(labels_ham,labels_spam)\n",
      "\n",
      "    #print \"i: \"+str(i),\n",
      "    #print \"youden: \" + str(sensitivity + specificity - 1),\n",
      "    #print \"ham: \"+str(np.mean(labels_ham)),\n",
      "    #print \"spam: \"+str(np.mean(labels_spam)),\n",
      "    print \"#\",\n",
      "    #print \"sens \" + str(sensitivity),\n",
      "    #print \"spec \" + str(1-specificity),\n",
      "    #print \"acc \" + str(accuracy),\n",
      "    #print \"F1 \" + str(F1)\n",
      "    sens.append(sensitivity)\n",
      "    spec.append(1-specificity)\n",
      "\n",
      "axes.plot(spec,sens, 'bo-')\n",
      "axes.plot(diag,diag, '-r')\n",
      "axes.plot(0.18,0.8575, 'ro')\n"
     ],
     "language": "python",
     "metadata": {},
     "outputs": [
      {
       "output_type": "stream",
       "stream": "stdout",
       "text": [
        "please wait\n",
        "#"
       ]
      },
      {
       "output_type": "stream",
       "stream": "stdout",
       "text": [
        " # "
       ]
      },
      {
       "output_type": "stream",
       "stream": "stdout",
       "text": [
        "# "
       ]
      },
      {
       "output_type": "stream",
       "stream": "stdout",
       "text": [
        "# "
       ]
      },
      {
       "output_type": "stream",
       "stream": "stdout",
       "text": [
        "# "
       ]
      },
      {
       "output_type": "stream",
       "stream": "stdout",
       "text": [
        "# "
       ]
      },
      {
       "output_type": "stream",
       "stream": "stdout",
       "text": [
        "# "
       ]
      },
      {
       "output_type": "stream",
       "stream": "stdout",
       "text": [
        "# "
       ]
      },
      {
       "output_type": "stream",
       "stream": "stdout",
       "text": [
        "# "
       ]
      },
      {
       "output_type": "stream",
       "stream": "stdout",
       "text": [
        "# "
       ]
      },
      {
       "output_type": "stream",
       "stream": "stdout",
       "text": [
        "# "
       ]
      },
      {
       "output_type": "stream",
       "stream": "stdout",
       "text": [
        "# "
       ]
      },
      {
       "output_type": "stream",
       "stream": "stdout",
       "text": [
        "# "
       ]
      },
      {
       "output_type": "stream",
       "stream": "stdout",
       "text": [
        "# "
       ]
      },
      {
       "output_type": "stream",
       "stream": "stdout",
       "text": [
        "# "
       ]
      },
      {
       "output_type": "stream",
       "stream": "stdout",
       "text": [
        "# "
       ]
      },
      {
       "output_type": "stream",
       "stream": "stdout",
       "text": [
        "# "
       ]
      },
      {
       "output_type": "stream",
       "stream": "stdout",
       "text": [
        "# "
       ]
      },
      {
       "output_type": "stream",
       "stream": "stdout",
       "text": [
        "# "
       ]
      },
      {
       "output_type": "stream",
       "stream": "stdout",
       "text": [
        "# "
       ]
      },
      {
       "output_type": "stream",
       "stream": "stdout",
       "text": [
        "# "
       ]
      },
      {
       "output_type": "stream",
       "stream": "stdout",
       "text": [
        "# "
       ]
      },
      {
       "output_type": "stream",
       "stream": "stdout",
       "text": [
        "# "
       ]
      },
      {
       "output_type": "stream",
       "stream": "stdout",
       "text": [
        "# "
       ]
      },
      {
       "output_type": "stream",
       "stream": "stdout",
       "text": [
        "# "
       ]
      },
      {
       "output_type": "stream",
       "stream": "stdout",
       "text": [
        "# "
       ]
      },
      {
       "output_type": "stream",
       "stream": "stdout",
       "text": [
        "# "
       ]
      },
      {
       "output_type": "stream",
       "stream": "stdout",
       "text": [
        "# "
       ]
      },
      {
       "output_type": "stream",
       "stream": "stdout",
       "text": [
        "# "
       ]
      },
      {
       "output_type": "stream",
       "stream": "stdout",
       "text": [
        "# "
       ]
      },
      {
       "output_type": "stream",
       "stream": "stdout",
       "text": [
        "# "
       ]
      },
      {
       "output_type": "stream",
       "stream": "stdout",
       "text": [
        "# "
       ]
      },
      {
       "output_type": "stream",
       "stream": "stdout",
       "text": [
        "# "
       ]
      },
      {
       "output_type": "stream",
       "stream": "stdout",
       "text": [
        "# "
       ]
      },
      {
       "output_type": "stream",
       "stream": "stdout",
       "text": [
        "# "
       ]
      },
      {
       "output_type": "stream",
       "stream": "stdout",
       "text": [
        "# "
       ]
      },
      {
       "output_type": "stream",
       "stream": "stdout",
       "text": [
        "# "
       ]
      },
      {
       "output_type": "stream",
       "stream": "stdout",
       "text": [
        "# "
       ]
      },
      {
       "output_type": "stream",
       "stream": "stdout",
       "text": [
        "# "
       ]
      },
      {
       "output_type": "stream",
       "stream": "stdout",
       "text": [
        "# "
       ]
      },
      {
       "output_type": "stream",
       "stream": "stdout",
       "text": [
        "# "
       ]
      },
      {
       "output_type": "stream",
       "stream": "stdout",
       "text": [
        "# "
       ]
      },
      {
       "output_type": "stream",
       "stream": "stdout",
       "text": [
        "# "
       ]
      },
      {
       "output_type": "stream",
       "stream": "stdout",
       "text": [
        "# "
       ]
      },
      {
       "output_type": "stream",
       "stream": "stdout",
       "text": [
        "# "
       ]
      },
      {
       "output_type": "stream",
       "stream": "stdout",
       "text": [
        "# "
       ]
      },
      {
       "output_type": "stream",
       "stream": "stdout",
       "text": [
        "# "
       ]
      },
      {
       "output_type": "stream",
       "stream": "stdout",
       "text": [
        "# "
       ]
      },
      {
       "output_type": "stream",
       "stream": "stdout",
       "text": [
        "# "
       ]
      },
      {
       "output_type": "stream",
       "stream": "stdout",
       "text": [
        "# "
       ]
      },
      {
       "output_type": "stream",
       "stream": "stdout",
       "text": [
        "# "
       ]
      },
      {
       "output_type": "stream",
       "stream": "stdout",
       "text": [
        "# "
       ]
      },
      {
       "output_type": "stream",
       "stream": "stdout",
       "text": [
        "# "
       ]
      },
      {
       "output_type": "stream",
       "stream": "stdout",
       "text": [
        "# "
       ]
      },
      {
       "output_type": "stream",
       "stream": "stdout",
       "text": [
        "# "
       ]
      },
      {
       "output_type": "stream",
       "stream": "stdout",
       "text": [
        "# "
       ]
      },
      {
       "output_type": "stream",
       "stream": "stdout",
       "text": [
        "# "
       ]
      },
      {
       "output_type": "stream",
       "stream": "stdout",
       "text": [
        "# "
       ]
      },
      {
       "output_type": "stream",
       "stream": "stdout",
       "text": [
        "# "
       ]
      },
      {
       "output_type": "stream",
       "stream": "stdout",
       "text": [
        "# "
       ]
      },
      {
       "output_type": "stream",
       "stream": "stdout",
       "text": [
        "# "
       ]
      },
      {
       "output_type": "stream",
       "stream": "stdout",
       "text": [
        "# "
       ]
      },
      {
       "output_type": "stream",
       "stream": "stdout",
       "text": [
        "# "
       ]
      },
      {
       "output_type": "stream",
       "stream": "stdout",
       "text": [
        "# "
       ]
      },
      {
       "output_type": "stream",
       "stream": "stdout",
       "text": [
        "# "
       ]
      },
      {
       "output_type": "stream",
       "stream": "stdout",
       "text": [
        "# "
       ]
      },
      {
       "output_type": "stream",
       "stream": "stdout",
       "text": [
        "# "
       ]
      },
      {
       "output_type": "stream",
       "stream": "stdout",
       "text": [
        "# "
       ]
      },
      {
       "output_type": "stream",
       "stream": "stdout",
       "text": [
        "# "
       ]
      },
      {
       "output_type": "stream",
       "stream": "stdout",
       "text": [
        "# "
       ]
      },
      {
       "output_type": "stream",
       "stream": "stdout",
       "text": [
        "# "
       ]
      },
      {
       "output_type": "stream",
       "stream": "stdout",
       "text": [
        "# "
       ]
      },
      {
       "output_type": "stream",
       "stream": "stdout",
       "text": [
        "# "
       ]
      },
      {
       "output_type": "stream",
       "stream": "stdout",
       "text": [
        "# "
       ]
      },
      {
       "output_type": "stream",
       "stream": "stdout",
       "text": [
        "# "
       ]
      },
      {
       "output_type": "stream",
       "stream": "stdout",
       "text": [
        "# "
       ]
      },
      {
       "output_type": "stream",
       "stream": "stdout",
       "text": [
        "# "
       ]
      },
      {
       "output_type": "stream",
       "stream": "stdout",
       "text": [
        "# "
       ]
      },
      {
       "output_type": "stream",
       "stream": "stdout",
       "text": [
        "# "
       ]
      },
      {
       "output_type": "stream",
       "stream": "stdout",
       "text": [
        "# "
       ]
      },
      {
       "output_type": "stream",
       "stream": "stdout",
       "text": [
        "# "
       ]
      },
      {
       "output_type": "stream",
       "stream": "stdout",
       "text": [
        "# "
       ]
      },
      {
       "output_type": "stream",
       "stream": "stdout",
       "text": [
        "# "
       ]
      },
      {
       "output_type": "stream",
       "stream": "stdout",
       "text": [
        "# "
       ]
      },
      {
       "output_type": "stream",
       "stream": "stdout",
       "text": [
        "# "
       ]
      },
      {
       "output_type": "stream",
       "stream": "stdout",
       "text": [
        "# "
       ]
      },
      {
       "output_type": "stream",
       "stream": "stdout",
       "text": [
        "# "
       ]
      },
      {
       "output_type": "stream",
       "stream": "stdout",
       "text": [
        "# "
       ]
      },
      {
       "output_type": "stream",
       "stream": "stdout",
       "text": [
        "# "
       ]
      },
      {
       "output_type": "stream",
       "stream": "stdout",
       "text": [
        "# "
       ]
      },
      {
       "output_type": "stream",
       "stream": "stdout",
       "text": [
        "# "
       ]
      },
      {
       "output_type": "stream",
       "stream": "stdout",
       "text": [
        "# "
       ]
      },
      {
       "output_type": "stream",
       "stream": "stdout",
       "text": [
        "# "
       ]
      },
      {
       "output_type": "stream",
       "stream": "stdout",
       "text": [
        "# "
       ]
      },
      {
       "output_type": "stream",
       "stream": "stdout",
       "text": [
        "# "
       ]
      },
      {
       "output_type": "stream",
       "stream": "stdout",
       "text": [
        "# "
       ]
      },
      {
       "output_type": "stream",
       "stream": "stdout",
       "text": [
        "# "
       ]
      },
      {
       "output_type": "stream",
       "stream": "stdout",
       "text": [
        "# "
       ]
      },
      {
       "output_type": "stream",
       "stream": "stdout",
       "text": [
        "# "
       ]
      },
      {
       "output_type": "stream",
       "stream": "stdout",
       "text": [
        "#"
       ]
      },
      {
       "metadata": {},
       "output_type": "pyout",
       "prompt_number": 91,
       "text": [
        "[<matplotlib.lines.Line2D at 0x88f6950>]"
       ]
      },
      {
       "output_type": "stream",
       "stream": "stdout",
       "text": [
        "\n"
       ]
      },
      {
       "metadata": {},
       "output_type": "display_data",
       "png": "[encoded data removed]",
       "text": [
        "<matplotlib.figure.Figure at 0x7a29050>"
       ]
      }
     ],
     "prompt_number": 91
    },
    {
     "cell_type": "markdown",
     "metadata": {},
     "source": [
      "TODO: Comment on the results. How do the classifiers behave in regard to changing T. Which value would you use? Why?\n",
      "\n",
      "with a low value for T the sensitivity and fp-rate are high. With increasing T both values decrease.\n",
      "We can use the Youden value (sensitivity + specificity - 1)  to determine the best threshold. We found the maximum youden value for T = 0.3:\n",
      "\n",
      "for T = 0.3:\n",
      "\n",
      "youden: 0.6775 \n",
      "\n",
      "ham_lable_mean: 0.18 \n",
      "\n",
      "spam_lable_mean: 0.8575 \n",
      "\n",
      "sensitivity: 0.8575 \n",
      "\n",
      "specificity: 0.18 \n",
      "\n",
      "accuracy: 0.826506024096 \n",
      "\n",
      "F1: 0.841717791411\n",
      "\n"
     ]
    },
    {
     "cell_type": "markdown",
     "metadata": {},
     "source": [
      "TODO: What kind of a threshold would you use in medical applications (spam = sick, ham = healthy)? How is this scenario different from spam detection?\n",
      "\n",
      "we would choose the threshold so that the true positive rate are is higher so we are less likely to classify a sick person as healthy. In our case the threshold should be less than 0.3"
     ]
    },
    {
     "cell_type": "heading",
     "level": 3,
     "metadata": {},
     "source": [
      "6: Number of features"
     ]
    },
    {
     "cell_type": "heading",
     "level": 4,
     "metadata": {},
     "source": [
      "Experiment with different values for m, $2\\leq m\\leq 600$. Plot the various accuracy measures as a function of m. "
     ]
    },
    {
     "cell_type": "code",
     "collapsed": false,
     "input": [
      "trainingSpam= np.load('spamTraining.npy')\n",
      "trainingHam= np.load('hamTraining.npy')\n",
      "testSpam= np.load('spamTest.npy')\n",
      "testHam = np.load('hamTest.npy')\n",
      "#TODO: Vary m, use the best T from the previous experiment or select one you think should work well\n",
      "\n",
      "\n",
      "#print \"HAM\"\n",
      "#print testHam.shape\n",
      "#print \"SPAM\"\n",
      "#print testSpam.shape\n",
      "    \n",
      "# TODO: Vary T, plot results ( subplots )\n",
      "T = [0.3]\n",
      "print \"please wait\"\n",
      "\n",
      "M = np.arange(2,600,50)\n",
      "\n",
      "listm = []\n",
      "listacc = []\n",
      "\n",
      "fig, axes = plt.subplots()\n",
      "axes.set_xlabel('m')\n",
      "axes.set_ylabel('Accuracy')\n",
      "axes.set_title('accuracy for various m');\n",
      "\n",
      "for m in M:\n",
      "\n",
      "    labels_ham, labels_spam = classify(trainingHam,trainingSpam,testHam,testSpam,T,m)\n",
      "    accuracy, sensitivity, specificity, F1 = performance_measures(labels_ham,labels_spam)\n",
      "    #print \"m: \" + str(m) + \" - acc: \" + str(accuracy)\n",
      "    listm.append(m)\n",
      "    listacc.append(accuracy)\n",
      "    print \"#\",\n",
      "    \n",
      "axes.plot(listm, listacc, 'bo-')\n"
     ],
     "language": "python",
     "metadata": {},
     "outputs": [
      {
       "output_type": "stream",
       "stream": "stdout",
       "text": [
        "please wait\n",
        "#"
       ]
      },
      {
       "output_type": "stream",
       "stream": "stdout",
       "text": [
        " # "
       ]
      },
      {
       "output_type": "stream",
       "stream": "stdout",
       "text": [
        "# "
       ]
      },
      {
       "output_type": "stream",
       "stream": "stdout",
       "text": [
        "# "
       ]
      },
      {
       "output_type": "stream",
       "stream": "stdout",
       "text": [
        "# "
       ]
      },
      {
       "output_type": "stream",
       "stream": "stdout",
       "text": [
        "# "
       ]
      },
      {
       "output_type": "stream",
       "stream": "stdout",
       "text": [
        "# "
       ]
      },
      {
       "output_type": "stream",
       "stream": "stdout",
       "text": [
        "# "
       ]
      },
      {
       "output_type": "stream",
       "stream": "stdout",
       "text": [
        "# "
       ]
      },
      {
       "output_type": "stream",
       "stream": "stdout",
       "text": [
        "# "
       ]
      },
      {
       "output_type": "stream",
       "stream": "stdout",
       "text": [
        "# "
       ]
      },
      {
       "output_type": "stream",
       "stream": "stdout",
       "text": [
        "#"
       ]
      },
      {
       "metadata": {},
       "output_type": "pyout",
       "prompt_number": 93,
       "text": [
        "[<matplotlib.lines.Line2D at 0x86c1290>]"
       ]
      },
      {
       "output_type": "stream",
       "stream": "stdout",
       "text": [
        "\n"
       ]
      },
      {
       "metadata": {},
       "output_type": "display_data",
       "png": "[encoded data removed]",
       "text": [
        "<matplotlib.figure.Figure at 0x8097690>"
       ]
      }
     ],
     "prompt_number": 93
    },
    {
     "cell_type": "heading",
     "level": 1,
     "metadata": {},
     "source": [
      "7: $\\frac{|ham|}{|spam|}$"
     ]
    },
    {
     "cell_type": "heading",
     "level": 4,
     "metadata": {},
     "source": [
      "Experiment with different ratios of ham to spam messages using a combination of m and T you previously found to work best. Make sure you show all significant combinations (|ham|>>|spam|, |ham| > |spam|, |ham| = |spam|,...). Plot the results as a function of the ratio"
     ]
    },
    {
     "cell_type": "code",
     "collapsed": false,
     "input": [
      "trainingSpam= np.load('spamTraining.npy')\n",
      "trainingHam= np.load('hamTraining.npy')\n",
      "testSpam= np.load('spamTest.npy')\n",
      "testHam = np.load('hamTest.npy')\n",
      "#TODO: Set m and T which you think were good before\n",
      "#TODO: select different values for size_spam and size_ham, visualize the effects the ratio has on the accuracy measures\n",
      "#Reminder: the default values were size_ham=7000,size_spam=3000\n",
      "\n",
      "T = [0.3]\n",
      "print \"please wait\"\n",
      "\n",
      "m = 202\n",
      "\n",
      "listr = []\n",
      "listacc = []\n",
      "\n",
      "fig, axes = plt.subplots()\n",
      "axes.set_xlabel('r')\n",
      "axes.set_ylabel('Accuracy')\n",
      "axes.set_title('accuracy for various m');\n",
      "\n",
      "R = [2**x for x in range(-10,10)]\n",
      "size_ham = 10000 \n",
      "\n",
      "for r in R:\n",
      "    size_spam = r * size_ham\n",
      "    labels_ham, labels_spam = classify(trainingHam,trainingSpam,testHam,testSpam,T,m,size_ham, size_spam )\n",
      "    \n",
      "    accuracy, sensitivity, specificity, F1 = performance_measures(labels_ham,labels_spam)\n",
      "    #print \"r: \" + str(r) + \" - acc: \" + str(accuracy) + \" - size_spam: \" + str(size_spam)\n",
      "    listacc.append(accuracy)\n",
      "    listr.append(r)\n",
      "    print \"#\",\n",
      "    \n",
      "axes.set_xscale('log')\n",
      "axes.plot(listr, listacc, 'bo-')\n"
     ],
     "language": "python",
     "metadata": {},
     "outputs": [
      {
       "output_type": "stream",
       "stream": "stdout",
       "text": [
        "please wait\n",
        "#"
       ]
      },
      {
       "output_type": "stream",
       "stream": "stdout",
       "text": [
        " # "
       ]
      },
      {
       "output_type": "stream",
       "stream": "stdout",
       "text": [
        "# "
       ]
      },
      {
       "output_type": "stream",
       "stream": "stdout",
       "text": [
        "# "
       ]
      },
      {
       "output_type": "stream",
       "stream": "stdout",
       "text": [
        "# "
       ]
      },
      {
       "output_type": "stream",
       "stream": "stdout",
       "text": [
        "# "
       ]
      },
      {
       "output_type": "stream",
       "stream": "stdout",
       "text": [
        "# "
       ]
      },
      {
       "output_type": "stream",
       "stream": "stdout",
       "text": [
        "# "
       ]
      },
      {
       "output_type": "stream",
       "stream": "stdout",
       "text": [
        "# "
       ]
      },
      {
       "output_type": "stream",
       "stream": "stdout",
       "text": [
        "# "
       ]
      },
      {
       "output_type": "stream",
       "stream": "stdout",
       "text": [
        "# "
       ]
      },
      {
       "output_type": "stream",
       "stream": "stdout",
       "text": [
        "# "
       ]
      },
      {
       "output_type": "stream",
       "stream": "stdout",
       "text": [
        "# "
       ]
      },
      {
       "output_type": "stream",
       "stream": "stdout",
       "text": [
        "# "
       ]
      },
      {
       "output_type": "stream",
       "stream": "stdout",
       "text": [
        "# "
       ]
      },
      {
       "output_type": "stream",
       "stream": "stdout",
       "text": [
        "# "
       ]
      },
      {
       "output_type": "stream",
       "stream": "stdout",
       "text": [
        "# "
       ]
      },
      {
       "output_type": "stream",
       "stream": "stdout",
       "text": [
        "# "
       ]
      },
      {
       "output_type": "stream",
       "stream": "stdout",
       "text": [
        "# "
       ]
      },
      {
       "output_type": "stream",
       "stream": "stdout",
       "text": [
        "#"
       ]
      },
      {
       "metadata": {},
       "output_type": "pyout",
       "prompt_number": 94,
       "text": [
        "[<matplotlib.lines.Line2D at 0x838fe50>]"
       ]
      },
      {
       "output_type": "stream",
       "stream": "stdout",
       "text": [
        "\n"
       ]
      },
      {
       "metadata": {},
       "output_type": "display_data",
       "png": "[encoded data removed]",
       "text": [
        "<matplotlib.figure.Figure at 0x838ffd0>"
       ]
      }
     ],
     "prompt_number": 94
    },
    {
     "cell_type": "markdown",
     "metadata": {},
     "source": [
      "TODO: Comment on the results. What kind of a ratio would you expect when building actual spam filters? \n",
      "\n",
      "You would like to have a very low ratio. so that spam_size is very low and ham_size very high."
     ]
    },
    {
     "cell_type": "code",
     "collapsed": false,
     "input": [],
     "language": "python",
     "metadata": {},
     "outputs": []
    }
   ],
   "metadata": {}
  }
 ]
}