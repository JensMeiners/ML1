{
 "metadata": {
  "name": ""
 },
 "nbformat": 3,
 "nbformat_minor": 0,
 "worksheets": [
  {
   "cells": [
    {
     "cell_type": "heading",
     "level": 1,
     "metadata": {},
     "source": [
      "Exercise Sheet 05"
     ]
    },
    {
     "cell_type": "markdown",
     "metadata": {},
     "source": [
      "**Insert the full name and matriculation number of every member of the group here**\n",
      "\n",
      "- Felix Bauer 331805\n",
      "\n",
      "- Jens Meiners 332697"
     ]
    },
    {
     "cell_type": "heading",
     "level": 2,
     "metadata": {},
     "source": [
      "Intro"
     ]
    },
    {
     "cell_type": "markdown",
     "metadata": {},
     "source": [
      "**In this assignment we wish to:**\n",
      "\n",
      " - examine the use of Fisher Discriminant Analysis for facial recognition and image processing\n",
      " \n",
      " - compare its results with Principar Component Analysis\n",
      " \n",
      " - look at FDA with a simple gradient ascent technique\n",
      " \n",
      " - compare the running times of the eigenvalue formulation and the gradient method\n",
      " \n",
      "The images will be presented as vectors of size width*height. There are 15 images of every class. \n",
      " \n",
      "We will use the faces dataset available at  http://vismod.media.mit.edu/vismod/classes/mas622-00/datasets/"
     ]
    },
    {
     "cell_type": "markdown",
     "metadata": {},
     "source": [
      "When working with high-dimensional datasets we want to compute as few matrix products, inversions and square roots as possible. **Avoid unnecessary computation.**"
     ]
    },
    {
     "cell_type": "code",
     "collapsed": false,
     "input": [
      "import numpy as np\n",
      "import Image\n",
      "from scipy import misc\n",
      "from scipy import linalg as lin\n",
      "import matplotlib.pyplot as plt\n",
      "import os\n",
      "%pylab inline"
     ],
     "language": "python",
     "metadata": {},
     "outputs": [
      {
       "output_type": "stream",
       "stream": "stdout",
       "text": [
        "Populating the interactive namespace from numpy and matplotlib\n"
       ]
      }
     ],
     "prompt_number": 1
    },
    {
     "cell_type": "heading",
     "level": 3,
     "metadata": {},
     "source": [
      "Part 1: FDA on images (10P)"
     ]
    },
    {
     "cell_type": "markdown",
     "metadata": {},
     "source": [
      "Your task here is to implement FDA and examine the results of running FDA on the images provided. The given function takes a list of  2-D numpy arrays containing the classes as input and returns the vector $w$ determined by FDA "
     ]
    },
    {
     "cell_type": "markdown",
     "metadata": {},
     "source": [
      "This part is split for convenience, allowing you to test your method on 2D data before applying it to images. First you'll write the function which computes FDA then test it on the images provided."
     ]
    },
    {
     "cell_type": "markdown",
     "metadata": {},
     "source": [
      ">Note that the number of samples is much smaller than the number of dimensions. You need to use the pseudoinverse (available in numpy). Scipy has a function for determining the square root of a matrix."
     ]
    },
    {
     "cell_type": "markdown",
     "metadata": {},
     "source": [
      ">Matrix singularity when computing the square root may become an issue, so you might have to regularize"
     ]
    },
    {
     "cell_type": "markdown",
     "metadata": {},
     "source": [
      "Use $S_w = \\sum_{c \\in Classes}\\sum_{i \\in c} (x_i - \\mu_c)(x_i-\\mu_c)^T$ and $S_b = \\sum_{c \\in Classes}(\\mu_c - \\mu)(\\mu_c-\\mu)^T$, where $\\mu$ is the mean of the entire data and $\\mu_c$ the mean of class $c$"
     ]
    },
    {
     "cell_type": "code",
     "collapsed": false,
     "input": [
      "def calculate_w(classes):\n",
      "    \"\"\"\n",
      "        classes: A list of 2D numpy arrays. classes[i] of size dxN_i, where N_i is the number of points in class i\n",
      "        \n",
      "        returns: w determined by FDA\n",
      "    \"\"\"\n",
      "    n = len(classes)\n",
      "    print \"n: \"+str(n)\n",
      "    \n",
      "    assert (n > 0), \"The list is empty\"\n",
      "    d = classes[0].shape[0]\n",
      "    for i in range(1, n):\n",
      "        assert (classes[i].shape[0]==d), \"Some classes have different dimensions\"\n",
      "    for i in range(n):\n",
      "        print \"class \"+str(i)+\" shape\"+str(classes[i].shape)\n",
      "    # Compute the means\n",
      "    mean_c = []\n",
      "    for i in range(0, n):\n",
      "        mean_c.append(np.mean(classes[i],1))\n",
      "        print \"mean_\"+str(i)+\": \"+str(mean_c[i].shape)\n",
      "    mean = np.mean(mean_c,1)\n",
      "    print \"mean: \"+str(mean.shape)\n",
      "    \n",
      "    # Compute S_b\n",
      "    #S_b = 0\n",
      "    #for i in range(0, n):\n",
      "    #    S_b += np.dot((mean_c[i] - mean) * np.transpose(mean_c[i] - mean))\n",
      "    #print \"S_b: \"+str(S_b)\n",
      "    \n",
      "    #Compute S_w\n",
      "    #print \"S1:\\n\"+str(classes[0][:,0] - mean_c[0])\n",
      "    #print \"S2:\\n\"+str(np.matrix(classes[0][:,0] - mean_c[0]).T)\n",
      "    S_w = np.zeros((classes[0].shape[0],classes[0].shape[0]))\n",
      "    S_i = np.zeros((classes[0].shape[0],classes[0].shape[0]))\n",
      "    for c in range(n):\n",
      "        for i in range(classes[c].shape[1]):        \n",
      "            S_i += np.outer((classes[c][:,i] - mean_c[c]) , np.matrix(classes[c][:,i] - mean_c[c]).T)\n",
      "    #    print \"S_i_ges:\\n\" + str(S_i)\n",
      "        S_w += S_i\n",
      "    \n",
      "    #print \"S_w:\\n\"+str(S_w)\n",
      "    \n",
      "    # Compute w\n",
      "    w = np.linalg.pinv(S_w)\n",
      "    print w.shape\n",
      "    print mean.shape\n",
      "    w = np.dot(w,mean)\n",
      "    #print \"w: \"+str(w)\n",
      "    \n",
      "    assert (w.shape[0]==d), \"w is not in R^d\"\n",
      "    \n",
      "    return w"
     ],
     "language": "python",
     "metadata": {},
     "outputs": [],
     "prompt_number": 156
    },
    {
     "cell_type": "code",
     "collapsed": false,
     "input": [
      "# This portion of the code is for checking the quality of your solution. If your projections overlap or are too close to each\n",
      "# other, then it's likely something went wrong in the method\n",
      "\n",
      "# Blue and green points are the two classes, red and yellow are their projections onto w\n",
      "\n",
      "# You can edit the standard deviations and means of the clusters to check your results\n",
      "\n",
      "sigma_A = 0.45\n",
      "sigma_B = 0.45\n",
      "\n",
      "mean_A_x=-1.5\n",
      "mean_A_y=0.5\n",
      "\n",
      "mean_B_x=1.1\n",
      "mean_B_y=-2.1\n",
      "\n",
      "A = sigma_A* np.random.randn(2,80)+np.tile(np.array([[mean_A_x],[mean_A_y]]),(1,80))\n",
      "B = sigma_B* np.random.randn(2,80)+np.tile(np.array([[mean_B_x],[mean_B_y]]),(1,80))\n",
      "\n",
      "#Scatter the original data\n",
      "plt.scatter(A[0,:],A[1,:],c='g')\n",
      "plt.scatter(B[0,:],B[1,:],c='b')\n",
      "\n",
      "#w = calculate_w([A,B])\n",
      "w = calculate_w([A, B])\n",
      "w = w/np.linalg.norm(w) # Set its length to 1 for projection purposes\n",
      "\n",
      "P = np.outer(w,w)\n",
      "\n",
      "# Calculate the projections\n",
      "A = np.dot(P,A) \n",
      "B = np.dot(P,B)\n",
      "\n",
      "plt.scatter(A[0,:],A[1,:],c='r')\n",
      "plt.scatter(B[0,:],B[1,:],c='y')\n",
      "\n",
      "\n",
      "#Format a bit\n",
      "plt.plot( [-3,3],[0,0],'k-')\n",
      "plt.plot([0,0],[-3,3],'k-')\n",
      "plt.title(\"Check if your projections make sense\")\n",
      "plt.grid()\n",
      "fig = matplotlib.pyplot.gcf()\n",
      "fig.set_size_inches(10,10)\n",
      "plt.axis([-3,3,-3,3])"
     ],
     "language": "python",
     "metadata": {},
     "outputs": [
      {
       "output_type": "stream",
       "stream": "stdout",
       "text": [
        "n: 2\n",
        "class 0 shape(2, 80)\n",
        "class 1 shape(2, 80)\n",
        "mean_0: (2,)\n",
        "mean_1: (2,)\n",
        "mean: (2,)\n",
        "(2, 2)\n",
        "(2,)\n"
       ]
      },
      {
       "metadata": {},
       "output_type": "pyout",
       "prompt_number": 157,
       "text": [
        "[-3, 3, -3, 3]"
       ]
      },
      {
       "metadata": {},
       "output_type": "display_data",
       "png": "[encoded data removed]",
       "text": [
        "<matplotlib.figure.Figure at 0x3e2dd50>"
       ]
      }
     ],
     "prompt_number": 157
    },
    {
     "cell_type": "markdown",
     "metadata": {},
     "source": [
      "You can now test your solution on images of faces. You'll need this function to extract the data provided on ISIS"
     ]
    },
    {
     "cell_type": "code",
     "collapsed": false,
     "input": [
      "\t\n",
      "\n",
      "def extract_images(address_of_folder,width=32, height=28):\n",
      "    \"\"\"\n",
      "    This method processes the images provided on ISIS and returns them as several 2D arrays of size widthxheight,15\n",
      "       \n",
      "    Tuning width and height will increase the image quality but may drastically decrease performance.\n",
      "       \n",
      "    address_of_folder = string containing the location of the data ex \"C:\\Users\\username\\Desktop\\Data\" (windows) or\n",
      "    \"/home/username/Desktop/Data\" (linux)\n",
      "    width = the width to which the images will be scaled to.\n",
      "    height = the height to which the images will be scaled to\n",
      "       \n",
      "       \n",
      "    returns: 2D arrays of size (width * height, 15) containing the images marked as glasses, noglasses, happy, sad, sleepy, wink\n",
      "    \"\"\"\n",
      "    #No need to edit it\n",
      "       \n",
      "    os.chdir(address_of_folder)\n",
      "       \n",
      "       \n",
      "    glasses = np.zeros((width*height,15))\n",
      "    noglasses = np.zeros((width*height,15))\n",
      "    happy = np.zeros((width*height,15))\n",
      "    sad = np.zeros((width*height,15))\n",
      "    sleepy = np.zeros((width*height,15))\n",
      "    wink = np.zeros((width*height,15))\n",
      "       \n",
      "    ind_glasses = 0\n",
      "    ind_noglasses = 0\n",
      "    ind_happy = 0\n",
      "    ind_sad = 0\n",
      "    ind_sleepy = 0\n",
      "    ind_wink = 0\n",
      "       \n",
      "    import re\n",
      "       \n",
      "    num = re.compile('\\d+')\n",
      "    for files in os.listdir(\".\"):\n",
      "        name = files.title()\n",
      "        b=misc.imread(files,flatten=1)\n",
      "        b=misc.imresize(b,(width,height),interp=\"bicubic\")\n",
      "        a=b.flatten()\n",
      "        a=a/np.linalg.norm(a)\n",
      "        ind = int(num.search(name).group())-1\n",
      "        if(\"Glasses\" in name):\n",
      "            glasses[:,ind]=a\n",
      "        if(\"Noglasses\" in name):\n",
      "            noglasses[:,ind]=a\n",
      "        if(\"Happy\" in name):\n",
      "            happy[:,ind]=a\n",
      "        if(\"Sad\" in name):\n",
      "            sad[:,ind]=a\n",
      "        if(\"Sleepy\" in name):\n",
      "            sleepy[:,ind]=a\n",
      "        if(\"Wink\" in name):\n",
      "            wink[:,ind]=a\n",
      "       \n",
      "    return glasses, noglasses, happy, sad, sleepy, wink\n",
      "\n"
     ],
     "language": "python",
     "metadata": {},
     "outputs": [],
     "prompt_number": 147
    },
    {
     "cell_type": "markdown",
     "metadata": {},
     "source": [
      "Now do the following:\n",
      "\n",
      "- Input the location you've extracted your data to in the string *address*\n",
      "\n",
      "- Define the *width* and *height* you'll be working with. They're already set to reasonable values which should take ~10 seconds per function call to compute. If your computer is struggling, you might want to further reduce the number of pixels.\n",
      "\n",
      "- Display the vectors w which are returned by FDA as images. Compute them for **glasses/noglasses, happy/sad, wink/sad, happy/wink**. \n",
      "\n",
      "- Calculate the values of projections of every point (face) onto w for both classes **($w^Tx$)**\n",
      "\n",
      "- Provide some measure of how good the separation is. It can be simple, just explain why you used it"
     ]
    },
    {
     "cell_type": "markdown",
     "metadata": {},
     "source": [
      ">The values returned by FDA might be complex (with small imaginary parts)\n",
      ">\n",
      ">If you wish to handle the class combinations separately, you can use multiple code cells\n",
      ">\n",
      ">It might be a good idea to define functions which perform some of the tasks listed above"
     ]
    },
    {
     "cell_type": "code",
     "collapsed": false,
     "input": [
      "address = \"/home/jens/Dokumente/Uni/MachineLearning/WorkSpace-ML/ML1/Ex05/Data\" #TODO: Input the address\n",
      "\n",
      "wi = 32 # You can edit the width here\n",
      "h = 28 # You can edit the height here\n",
      "glasses, noglasses, happy, sad, sleepy, wink = extract_images(address, width = wi, height=h)\n",
      "\n",
      "# glasses/noglasses, \n",
      "w = calculate_w([glasses, noglasses])\n",
      "plt.imshow(np.reshape(w[:,0],(wi,h)))\n",
      "plt.set_cmap(\"gray\")\n",
      "# happy/sad, \n",
      "\n",
      "# wink/sad,\n",
      "\n",
      "# happy/wink."
     ],
     "language": "python",
     "metadata": {},
     "outputs": [
      {
       "output_type": "stream",
       "stream": "stdout",
       "text": [
        "n: 2\n",
        "class 0 shape(896, 15)\n",
        "class 1 shape(896, 15)\n",
        "mean_0: (896,)\n",
        "mean_1: (896,)\n",
        "mean: (2,)\n",
        "(896, 896)"
       ]
      },
      {
       "ename": "ValueError",
       "evalue": "matrices are not aligned",
       "output_type": "pyerr",
       "traceback": [
        "\u001b[1;31m---------------------------------------------------------------------------\u001b[0m\n\u001b[1;31mValueError\u001b[0m                                Traceback (most recent call last)",
        "\u001b[1;32m<ipython-input-151-577bfadb36a7>\u001b[0m in \u001b[0;36m<module>\u001b[1;34m()\u001b[0m\n\u001b[0;32m      6\u001b[0m \u001b[1;33m\u001b[0m\u001b[0m\n\u001b[0;32m      7\u001b[0m \u001b[1;31m# glasses/noglasses,\u001b[0m\u001b[1;33m\u001b[0m\u001b[1;33m\u001b[0m\u001b[0m\n\u001b[1;32m----> 8\u001b[1;33m \u001b[0mw\u001b[0m \u001b[1;33m=\u001b[0m \u001b[0mcalculate_w\u001b[0m\u001b[1;33m(\u001b[0m\u001b[1;33m[\u001b[0m\u001b[0mglasses\u001b[0m\u001b[1;33m,\u001b[0m \u001b[0mnoglasses\u001b[0m\u001b[1;33m]\u001b[0m\u001b[1;33m)\u001b[0m\u001b[1;33m\u001b[0m\u001b[0m\n\u001b[0m\u001b[0;32m      9\u001b[0m \u001b[0mplt\u001b[0m\u001b[1;33m.\u001b[0m\u001b[0mimshow\u001b[0m\u001b[1;33m(\u001b[0m\u001b[0mnp\u001b[0m\u001b[1;33m.\u001b[0m\u001b[0mreshape\u001b[0m\u001b[1;33m(\u001b[0m\u001b[0mw\u001b[0m\u001b[1;33m[\u001b[0m\u001b[1;33m:\u001b[0m\u001b[1;33m,\u001b[0m\u001b[1;36m0\u001b[0m\u001b[1;33m]\u001b[0m\u001b[1;33m,\u001b[0m\u001b[1;33m(\u001b[0m\u001b[0mwi\u001b[0m\u001b[1;33m,\u001b[0m\u001b[0mh\u001b[0m\u001b[1;33m)\u001b[0m\u001b[1;33m)\u001b[0m\u001b[1;33m)\u001b[0m\u001b[1;33m\u001b[0m\u001b[0m\n\u001b[0;32m     10\u001b[0m \u001b[0mplt\u001b[0m\u001b[1;33m.\u001b[0m\u001b[0mset_cmap\u001b[0m\u001b[1;33m(\u001b[0m\u001b[1;34m\"gray\"\u001b[0m\u001b[1;33m)\u001b[0m\u001b[1;33m\u001b[0m\u001b[0m\n",
        "\u001b[1;32m<ipython-input-149-da92c28e6c60>\u001b[0m in \u001b[0;36mcalculate_w\u001b[1;34m(classes)\u001b[0m\n\u001b[0;32m     45\u001b[0m     \u001b[1;32mprint\u001b[0m \u001b[0mw\u001b[0m\u001b[1;33m.\u001b[0m\u001b[0mshape\u001b[0m\u001b[1;33m\u001b[0m\u001b[0m\n\u001b[0;32m     46\u001b[0m     \u001b[1;32mprint\u001b[0m \u001b[0mmean\u001b[0m\u001b[1;33m.\u001b[0m\u001b[0mshape\u001b[0m\u001b[1;33m\u001b[0m\u001b[0m\n\u001b[1;32m---> 47\u001b[1;33m     \u001b[0mw\u001b[0m \u001b[1;33m=\u001b[0m \u001b[0mnp\u001b[0m\u001b[1;33m.\u001b[0m\u001b[0mdot\u001b[0m\u001b[1;33m(\u001b[0m\u001b[0mw\u001b[0m\u001b[1;33m,\u001b[0m\u001b[0mmean\u001b[0m\u001b[1;33m)\u001b[0m\u001b[1;33m\u001b[0m\u001b[0m\n\u001b[0m\u001b[0;32m     48\u001b[0m     \u001b[1;31m#print \"w: \"+str(w)\u001b[0m\u001b[1;33m\u001b[0m\u001b[1;33m\u001b[0m\u001b[0m\n\u001b[0;32m     49\u001b[0m \u001b[1;33m\u001b[0m\u001b[0m\n",
        "\u001b[1;31mValueError\u001b[0m: matrices are not aligned"
       ]
      },
      {
       "output_type": "stream",
       "stream": "stdout",
       "text": [
        "\n",
        "(2,)\n"
       ]
      }
     ],
     "prompt_number": 151
    },
    {
     "cell_type": "code",
     "collapsed": false,
     "input": [
      "#Here's an example of how you can plot your results\n",
      "plt.imshow(np.reshape(glasses[:,0],(wi,h)))\n",
      "plt.set_cmap(\"gray\")"
     ],
     "language": "python",
     "metadata": {},
     "outputs": [
      {
       "ename": "NameError",
       "evalue": "name 'glasses' is not defined",
       "output_type": "pyerr",
       "traceback": [
        "\u001b[1;31m---------------------------------------------------------------------------\u001b[0m\n\u001b[1;31mNameError\u001b[0m                                 Traceback (most recent call last)",
        "\u001b[1;32m<ipython-input-123-e769ad91468b>\u001b[0m in \u001b[0;36m<module>\u001b[1;34m()\u001b[0m\n\u001b[0;32m      1\u001b[0m \u001b[1;31m#Here's an example of how you can plot your results\u001b[0m\u001b[1;33m\u001b[0m\u001b[1;33m\u001b[0m\u001b[0m\n\u001b[1;32m----> 2\u001b[1;33m \u001b[0mplt\u001b[0m\u001b[1;33m.\u001b[0m\u001b[0mimshow\u001b[0m\u001b[1;33m(\u001b[0m\u001b[0mnp\u001b[0m\u001b[1;33m.\u001b[0m\u001b[0mreshape\u001b[0m\u001b[1;33m(\u001b[0m\u001b[0mglasses\u001b[0m\u001b[1;33m[\u001b[0m\u001b[1;33m:\u001b[0m\u001b[1;33m,\u001b[0m\u001b[1;36m0\u001b[0m\u001b[1;33m]\u001b[0m\u001b[1;33m,\u001b[0m\u001b[1;33m(\u001b[0m\u001b[0mwi\u001b[0m\u001b[1;33m,\u001b[0m\u001b[0mh\u001b[0m\u001b[1;33m)\u001b[0m\u001b[1;33m)\u001b[0m\u001b[1;33m)\u001b[0m\u001b[1;33m\u001b[0m\u001b[0m\n\u001b[0m\u001b[0;32m      3\u001b[0m \u001b[0mplt\u001b[0m\u001b[1;33m.\u001b[0m\u001b[0mset_cmap\u001b[0m\u001b[1;33m(\u001b[0m\u001b[1;34m\"gray\"\u001b[0m\u001b[1;33m)\u001b[0m\u001b[1;33m\u001b[0m\u001b[0m\n",
        "\u001b[1;31mNameError\u001b[0m: name 'glasses' is not defined"
       ]
      }
     ],
     "prompt_number": 123
    },
    {
     "cell_type": "code",
     "collapsed": false,
     "input": [
      "#TODO: Process the combinations glasses/noglasses, happy/sad, wink/sad, happy/wink"
     ],
     "language": "python",
     "metadata": {},
     "outputs": [],
     "prompt_number": 366
    },
    {
     "cell_type": "heading",
     "level": 3,
     "metadata": {},
     "source": [
      "What do these faces represent? Do the results make sense to you?"
     ]
    },
    {
     "cell_type": "markdown",
     "metadata": {},
     "source": [
      "*TODO: Your analysis here*"
     ]
    },
    {
     "cell_type": "heading",
     "level": 3,
     "metadata": {},
     "source": [
      " Which classes are clearly distinguishable from each other? Which aren't?"
     ]
    },
    {
     "cell_type": "markdown",
     "metadata": {},
     "source": [
      "*TODO: Your brief analysis here*"
     ]
    },
    {
     "cell_type": "heading",
     "level": 2,
     "metadata": {},
     "source": [
      "Part 2: PCA on images (10P)"
     ]
    },
    {
     "cell_type": "markdown",
     "metadata": {},
     "source": [
      "Your task is to determine the principal components of the images as well as the individual classes and visualize them. You need to show the first **5 PCs** for every dataset you're analyzing. That's a total of 5 (all the data) + 5*6 (number of classes) = 35 images"
     ]
    },
    {
     "cell_type": "markdown",
     "metadata": {},
     "source": [
      "First implement a method which calculates the first < num > PCs for the given data. "
     ]
    },
    {
     "cell_type": "heading",
     "level": 4,
     "metadata": {},
     "source": [
      "Take care that you'll be using it on high dimensional points later with very few PCs returned. Select the appropriate algorithm."
     ]
    },
    {
     "cell_type": "code",
     "collapsed": false,
     "input": [
      "def calculate_principal_components(data, num):\n",
      "    \"\"\"\n",
      "        classes: A 2D numpy array of size dxN\n",
      "        num: An integer containing the number of PCs we wish the method to return for every class\n",
      "        \n",
      "        returns: pcs = a 2D numpy array of size dxnum, containing the first num PCs\n",
      "    \"\"\"\n",
      "    \n",
      "    #TODO: Calculate first num PCs\n",
      "    \n",
      "    \n",
      "    return pcs"
     ],
     "language": "python",
     "metadata": {},
     "outputs": [],
     "prompt_number": 488
    },
    {
     "cell_type": "code",
     "collapsed": false,
     "input": [
      "#TODO: Show the PCs"
     ],
     "language": "python",
     "metadata": {},
     "outputs": [],
     "prompt_number": 489
    },
    {
     "cell_type": "heading",
     "level": 3,
     "metadata": {},
     "source": [
      "Can we use these PCs to try to distinguish emotions or if people are wearing glasses? Briefly analyze what they show."
     ]
    },
    {
     "cell_type": "markdown",
     "metadata": {},
     "source": [
      "*TODO: Your brief analysis here*"
     ]
    },
    {
     "cell_type": "heading",
     "level": 3,
     "metadata": {},
     "source": [
      "Part 3: FDA with gradient ascent(10P + 5B)"
     ]
    },
    {
     "cell_type": "markdown",
     "metadata": {},
     "source": [
      "In this task, you'll be examining an alternative method for caclulating w and testing it on the images."
     ]
    },
    {
     "cell_type": "markdown",
     "metadata": {},
     "source": [
      "Our original problem is $\\max_w J(w) = \\frac{w^TS_Bw}{w^TS_Ww}$.\n",
      "\n",
      "Differentiating w.r.t w gives; $\\frac{d}{dw}{J(w)}=J(w)(\\frac{2S_Bw}{w^TS_Bw} - \\frac{2S_Ww}{w^TS_Ww})$. \n",
      "\n",
      "We want to try determining w iteratively by gradient ascent, where we do the following:\n",
      "\n",
      "- initialize $w = \\sum_{x \\in Data}x$\n",
      "\n",
      "- Normalize w ( ||w|| = 1 )\n",
      "\n",
      "- iterate until J(w) increases by less than 0.000001 (or decreases) or we've taken 10000 steps\n",
      "\n",
      "    - compute the gradient: $g =  J(w)(\\frac{2S_Bw}{w^TS_Bw} - \\frac{2S_Ww}{w^TS_Ww})$\n",
      "    \n",
      "    - update $w$ with $w = w + \\eta*g$, where $\\eta$ is the learning rate\n",
      "    \n",
      "    - normalize w"
     ]
    },
    {
     "cell_type": "markdown",
     "metadata": {},
     "source": [
      ">Take extra care to have as few expensive operations per iteration as possible. Do not compute same products mutliple times. You can reuse many values you've already calculated.\n",
      ">\n",
      ">Make sure you don't take steps that reduce $J(w)$. This can become especially important with a large learning rate"
     ]
    },
    {
     "cell_type": "code",
     "collapsed": false,
     "input": [
      "def calculate_w_gradient_ascent(classes, eta):\n",
      "    \"\"\"\n",
      "        classes: A list of 2D numpy arrays. classes[i] of size dxN_i, where N_i is the number of points in class i\n",
      "        eta : The learning rate\n",
      "        \n",
      "        returns: w determined by the method described above\n",
      "    \"\"\"\n",
      "    assert (len(classes)>0), \"The list is empty\"\n",
      "    d = classes[0].shape[0]\n",
      "    for i in range(1,len(classes)):\n",
      "        assert (classes[1].shape[0]==d), \"Some classes have different dimensions\"\n",
      "    \n",
      "    iterations = 0\n",
      "    \n",
      "    #TODO: Calculate w with the method described above\n",
      "    \n",
      "    max_iter = 10000\n",
      "    \n",
      "    if(iterations<max_iter):\n",
      "        print \"Converged on its own after \", iterations\n",
      "    if(iterations>=max_iter):\n",
      "        print \"Stopped after \",iterations\n",
      "    return w"
     ],
     "language": "python",
     "metadata": {},
     "outputs": [],
     "prompt_number": 478
    },
    {
     "cell_type": "code",
     "collapsed": false,
     "input": [
      "#Here's an example of our output\n",
      "w = calculate_w_gradient_ascent([happy,sad],eta)\n",
      "\n",
      "plt.imshow(np.reshape(w,(wi,h)))"
     ],
     "language": "python",
     "metadata": {},
     "outputs": [
      {
       "output_type": "stream",
       "stream": "stdout",
       "text": [
        "0.000112525142068\n",
        "0.000291464038422"
       ]
      },
      {
       "output_type": "stream",
       "stream": "stdout",
       "text": [
        "\n",
        "0.000786133547161"
       ]
      },
      {
       "output_type": "stream",
       "stream": "stdout",
       "text": [
        "\n",
        "0.00261847032646"
       ]
      },
      {
       "output_type": "stream",
       "stream": "stdout",
       "text": [
        "\n",
        "Converged on its own after"
       ]
      },
      {
       "output_type": "stream",
       "stream": "stdout",
       "text": [
        " 190\n"
       ]
      },
      {
       "metadata": {},
       "output_type": "pyout",
       "prompt_number": 480,
       "text": [
        "<matplotlib.image.AxesImage at 0x29579668>"
       ]
      },
      {
       "metadata": {},
       "output_type": "display_data",
       "png": "[encoded data removed]",
       "text": [
        "<matplotlib.figure.Figure at 0x2972e630>"
       ]
      }
     ],
     "prompt_number": 480
    },
    {
     "cell_type": "markdown",
     "metadata": {},
     "source": [
      "Perform the same analysis of this method as in part 1. You can increase the resolution here for better results, as it should be faster."
     ]
    },
    {
     "cell_type": "code",
     "collapsed": false,
     "input": [
      "#TODO: Select some learning rate, determine w's, visualize the results and determine their quality"
     ],
     "language": "python",
     "metadata": {},
     "outputs": []
    },
    {
     "cell_type": "markdown",
     "metadata": {},
     "source": [
      "**Are the results comparable to standard FDA? What are the advantages of this approach?**"
     ]
    },
    {
     "cell_type": "markdown",
     "metadata": {},
     "source": [
      "*TODO: Your brief analysis here*"
     ]
    },
    {
     "cell_type": "markdown",
     "metadata": {},
     "source": [
      "**How does the learning rate affect the solution? What about the convergence speed?**"
     ]
    },
    {
     "cell_type": "markdown",
     "metadata": {},
     "source": [
      "*TODO: Your brief analysis here*"
     ]
    },
    {
     "cell_type": "markdown",
     "metadata": {},
     "source": [
      "**Now examine the running times of methods implemented in parts 1 and 3. Vary the resolution (at least 4 different combinations of width and height, preferably with a similar width/height ratio) and only look at a single combination (for example glasses/noglasses).**"
     ]
    },
    {
     "cell_type": "code",
     "collapsed": false,
     "input": [
      "#TODO: Compare running times"
     ],
     "language": "python",
     "metadata": {},
     "outputs": [],
     "prompt_number": 490
    },
    {
     "cell_type": "heading",
     "level": 3,
     "metadata": {},
     "source": [
      "Bonus(5P)"
     ]
    },
    {
     "cell_type": "markdown",
     "metadata": {},
     "source": [
      "**How do these methods compare in terms of complexity? How does the number of points impact the running time? What about the number of dimensions? Which method would you use for 1024x768 images?**"
     ]
    },
    {
     "cell_type": "markdown",
     "metadata": {},
     "source": [
      "*BONUS: Your analysis here*"
     ]
    }
   ],
   "metadata": {}
  }
 ]
}