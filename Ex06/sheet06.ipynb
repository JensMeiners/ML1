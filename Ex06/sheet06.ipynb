{
 "metadata": {
  "name": ""
 },
 "nbformat": 3,
 "nbformat_minor": 0,
 "worksheets": [
  {
   "cells": [
    {
     "cell_type": "markdown",
     "metadata": {},
     "source": [
      "<h1>Exercise Sheet 6 (cont.)</h1>\n",
      "\n",
      "<h2>Exercise 4: Programming Exercise (5+5+5+15+10 P)</h2>\n",
      "\n",
      "In this exercise, you are asked to apply ICA to modeling natural image patches. After some preprocessing of the data (tiling, normalization and whitening), you are required to implement the FastICA algorithm described in Section 6 of Hyv\u00e4rinen and Oja (2000).\n",
      "\n",
      "Below are some helper functions for converting a JPG image into a numpy array and for displaying a mosaic of small image patches (as in the programming exercise of sheet 4)."
     ]
    },
    {
     "cell_type": "code",
     "collapsed": false,
     "input": [
      "import pickle,Image,numpy,numpy.linalg,scipy,scipy.linalg,io,IPython\n",
      "\n",
      "def getdata():\n",
      "    src = Image.open(\"images/tulips.jpg\")\n",
      "    src = src.convert(mode=\"RGB\")\n",
      "    return numpy.asarray(src)\n",
      "\n",
      "\n",
      "s = 16\n",
      "\n",
      "def show(x):\n",
      "    \n",
      "    assert(x.ndim == 4)\n",
      "    assert(x.shape[0]%5==0) # number of image patches to visualize\n",
      "                             #   (should be a multiple of 5)\n",
      "    assert(x.shape[1] == s) # height of image patches\n",
      "    assert(x.shape[2] == s) # width of image patches\n",
      "    assert(x.shape[3] == 3) # color channels (RGB = 3 channels)\n",
      "    \n",
      "    # normalize\n",
      "    x = x - x.min()\n",
      "    x = x / x.max()\n",
      "\n",
      "    # create the mosaic\n",
      "    h,w = 5,x.shape[0]/5\n",
      "    x = x.reshape([h,w,s,s,x.shape[3]])\n",
      "    z = numpy.ones([h,w,s+2,s+2,x.shape[4]])\n",
      "    z[:,:,1:-1,1:-1,:] = x\n",
      "    z = z.transpose([0,2,1,3,4]).reshape([h*(s+2),w*(s+2),3])\n",
      "    \n",
      "    # display the mosaic\n",
      "    b = io.BytesIO()\n",
      "    Image.fromarray((z*255).astype('byte'),'RGB').save(b,format='png')\n",
      "    return lambda: IPython.core.display.Image(data=b.getvalue(),format='png', embed=True)\n"
     ],
     "language": "python",
     "metadata": {},
     "outputs": [],
     "prompt_number": 1
    },
    {
     "cell_type": "markdown",
     "metadata": {},
     "source": [
      "<h3>(a) Preprocessing (5 P)</h3>\n",
      "\n",
      "i. <em>Create</em> a function <code>split</code> that decomposes the image into thousands of small adjacent image patches of size $16 \\times 16$.\n",
      "\n",
      "ii. <em>Create</em> a function <code>merge</code> that reconstitutes the original image from these image patches.\n",
      "\n",
      "iii. <em>Visualize</em> 250 random image patches taken from the original image using the function <code>show</code>."
     ]
    },
    {
     "cell_type": "code",
     "collapsed": false,
     "input": [
      "X = getdata()"
     ],
     "language": "python",
     "metadata": {},
     "outputs": [],
     "prompt_number": 2
    },
    {
     "cell_type": "markdown",
     "metadata": {},
     "source": [
      "<h3>(b) Implementing PCA (5 P)</h3>\n",
      "\n",
      "i. <em>Implement</em> principal component analysis on the images patches\n",
      "\n",
      "ii. <em>Visualize</em> the first 250 principal components using the function <code>show</code>."
     ]
    },
    {
     "cell_type": "code",
     "collapsed": false,
     "input": [],
     "language": "python",
     "metadata": {},
     "outputs": [],
     "prompt_number": 5
    },
    {
     "cell_type": "markdown",
     "metadata": {},
     "source": [
      "<h3>(c) Implementing and Visualizing Whitening (5 P)</h3>\n",
      "\n",
      "i. Apply whitening to image patches using Eq. 35 of Hyv\u00e4rinen and Oja.\n",
      "\n",
      "ii. Visualize the full whitened image using the function <code>merge</code> programmed in (a).\n",
      "\n",
      "iii. Discuss how this whitened image compares to the original one."
     ]
    },
    {
     "cell_type": "code",
     "collapsed": false,
     "input": [],
     "language": "python",
     "metadata": {},
     "outputs": [],
     "prompt_number": 5
    },
    {
     "cell_type": "markdown",
     "metadata": {},
     "source": [
      "<h3>(d) Implementing FastICA (15 P)</h3>\n",
      "\n",
      "i. <em>Implement</em> the derivative $g(y)$ and second order derivative $g'(y)$ for the function $G(y) = \\frac1{a_1} \\log \\cosh (a_1 y)$ intervening in the approximation of the negentropy.\n",
      "\n",
      "ii. <em>Create</em> a function <code>decorrelate(W)</code> that takes a set of vectors $W = (w_1,\\dots,w_n)$ (i.e. a matrix) as input and decorrelates them using Equation (45) of Hyv\u00e4rinen and Oja (2000).\n",
      "\n",
      "iii. <em>Implement</em> the FastICA method described in Section 6 of Hyv\u00e4rinen and Oja (2000). Learn $100$ independent components simultaneously and for at least 50 iterations and for appropriate parameter $1 \\leq a_1 \\leq 2$ (it should take less than 1 minute if you make efficient use of matrix operations).\n",
      "\n",
      "iv. <em>Visualize</em> the learned image filters using the function <code>show()</code> and compare to those obtained with PCA."
     ]
    },
    {
     "cell_type": "code",
     "collapsed": false,
     "input": [],
     "language": "python",
     "metadata": {},
     "outputs": [],
     "prompt_number": 5
    },
    {
     "cell_type": "markdown",
     "metadata": {},
     "source": [
      "<h3>(e) Analysis (10 P)</h3>\n",
      "\n",
      "i. <em>Discuss</em> which solution (principal components vs. independent components) is best suited for modeling objects in natural images.\n",
      "\n",
      "ii. <em>Run</em> FastICA using patches from other images (<code>street.jpg</code>, <code>palace.jpg</code>). Are obtained patches similar to the previous ones? How does the type of image relate to the types of independent components that are found?\n",
      "\n",
      "iii. Someone argues that the reason why ICA produces better independent component than PCA, because the image has been whitened initially, and that running PCA on whitened images would be equally good. <em>Argue</em> in favor or against this statement."
     ]
    },
    {
     "cell_type": "markdown",
     "metadata": {},
     "source": [
      "<h3>Submission guidelines</h3>\n",
      "\n",
      "To facilitate grading, please export the notebook to PDF format. This can be done easily by installing the required packages and running\n",
      "\n",
      "<code>ipython nbconvert --to latex sheet06.ipynb && pdflatex sheet06.tex</code>"
     ]
    }
   ],
   "metadata": {}
  }
 ]
}