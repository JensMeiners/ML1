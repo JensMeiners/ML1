{
 "metadata": {
  "name": ""
 },
 "nbformat": 3,
 "nbformat_minor": 0,
 "worksheets": [
  {
   "cells": [
    {
     "cell_type": "markdown",
     "metadata": {},
     "source": [
      "<h1>Exercise Sheet 7: K-means Clustering (100 P)</h1>\n",
      "\n",
      "**Intro:** In this scenario we will simulate finding good locations for warehouses of a multi-national company and some scenarios which can occur. The company is expanding to Europe and surrounding countries and is looking for locations which would maximize its profits. We will attempt to find the number of warehouses and their locations by using k-means clustering. We will look at several scenarios and how they impact the proposed model.\n",
      "\n",
      "In this exercise we will using data available at: http://sedac.ciesin.columbia.edu/ . The data contains a number of (x,y) coordinates on the map, the number of inhabitants of that section and the corresponding country. "
     ]
    },
    {
     "cell_type": "code",
     "collapsed": false,
     "input": [
      "import pickle,numpy\n",
      "import scipy\n",
      "import scipy.spatial.distance\n",
      "import os\n",
      "import random\n",
      "import io,IPython,Image\n",
      "import matplotlib.pyplot as plt"
     ],
     "language": "python",
     "metadata": {},
     "outputs": [],
     "prompt_number": 1
    },
    {
     "cell_type": "markdown",
     "metadata": {},
     "source": [
      "The following helper function reads the data provided. It returns:\n",
      "\n",
      "- **xnid** : an array of integers indicating the country at each latitude/longitude on the map\n",
      "- **xpop** : an array of integers counting the population size at each latitude/longitude on the map\n",
      "- **nx**   : the number of latitudes considered\n",
      "- **ny**   : the number of longitudes considered"
     ]
    },
    {
     "cell_type": "code",
     "collapsed": false,
     "input": [
      "def getData():\n",
      "\n",
      "    def reading(filename):\n",
      "        with open(filename, 'rb') as st:\n",
      "            source = pickle.loads(st.read())\n",
      "        return source\n",
      "\n",
      "    xpop = reading('data/pop.pkl')\n",
      "    xpop = numpy.array([xpop[i::5,j::5] for i in range(5) for j in range(5)]).sum(axis=0)\n",
      "    nx,ny = xpop.shape\n",
      "    \n",
      "    \n",
      "    xnid = reading('data/nid.pkl')\n",
      "    xnid = xnid[2::5,2::5]\n",
      "    return xnid, xpop, nx,ny"
     ],
     "language": "python",
     "metadata": {},
     "outputs": [],
     "prompt_number": 2
    },
    {
     "cell_type": "markdown",
     "metadata": {},
     "source": [
      "<h3>Part 1: Examine the Data and Generate Various Maps (10 P)</h3>\n",
      "\n",
      "In this section we will utilize the data to show 4 different maps:\n",
      "\n",
      "- A map containing the borders between countries in our data (already provided for you)\n",
      "- A map where every country is colored differently (or at least assignes different colors to  neighbouring countries) \n",
      "- A map which shows population density in our data\n",
      "- A map that combines border indicators and population density\n",
      "\n",
      "Sample maps are given in the folder /maps. Your maps can be generated using the function imshow of the matplotlib library. The last hybrid map will be used in the rest of the exercise sheet."
     ]
    },
    {
     "cell_type": "code",
     "collapsed": false,
     "input": [
      "# 1a: Political map\n",
      "xnid,xpop,nx,ny = getData()\n",
      "plt.imshow(xnid*(1029743.9384958475)%1)\n",
      "plt.title('political map')\n",
      "plt.show()\n",
      "\n",
      "\n"
     ],
     "language": "python",
     "metadata": {},
     "outputs": [],
     "prompt_number": 4
    },
    {
     "cell_type": "code",
     "collapsed": false,
     "input": [
      "# 1b: Map showing the borders between countries\n",
      "xnid,xpop,nx,ny = getData()\n",
      "border_map = numpy.zeros(xnid.shape)\n",
      "border_map[1:nx,1:ny] = xnid[0:nx-1,0:ny-1]\n",
      "border_map = border_map - xnid\n",
      "border_map = border_map != 0\n",
      "plt.title('borders')\n",
      "plt.imshow(border_map,cmap='Greys')\n",
      "plt.show()\n"
     ],
     "language": "python",
     "metadata": {},
     "outputs": [],
     "prompt_number": 4
    },
    {
     "cell_type": "code",
     "collapsed": false,
     "input": [
      "# 1c: Map showing population density\n",
      "xnid,xpop,nx,ny = getData()\n",
      "imgplot = plt.imshow(numpy.log(xpop))\n",
      "imgplot.set_cmap('spectral')\n",
      "plt.colorbar()\n",
      "plt.title('population density map')\n",
      "plt.show()"
     ],
     "language": "python",
     "metadata": {},
     "outputs": [],
     "prompt_number": 5
    },
    {
     "cell_type": "code",
     "collapsed": false,
     "input": [
      "# 1c: Map superposing population density and borders\n",
      "xnid,xpop,nx,ny = getData()\n",
      "dens_border = numpy.log(xpop)\n",
      "for i,x in enumerate(dens_border):\n",
      "    for j,y in enumerate(x):\n",
      "        if border_map[i,j] == True:\n",
      "            dens_border[i,j] = -10\n",
      "imgplot = plt.imshow(dens_border)\n",
      "imgplot.set_cmap('spectral')\n",
      "plt.colorbar()\n",
      "plt.title('population density map')\n",
      "plt.show()"
     ],
     "language": "python",
     "metadata": {},
     "outputs": [],
     "prompt_number": 14
    },
    {
     "cell_type": "markdown",
     "metadata": {},
     "source": [
      "<h3>Part 2: Implementing one step of weighted k-means (20 P)</h3>\n",
      "\n",
      "Your task is to implement the k-means algorithm using weighted data. Here, instead of considering each inhabitant as a separate point, we consider each geographic coordinate as an inhabitant with a different weight corresponding to the number of people living at this coordinate.\n",
      "\n",
      "- **initial centroids**: the x and y coordinates of initial centroids\n",
      "- **points** : x and y coordinates of points with number of inhabitants > 0\n",
      "- **weights** : Containing the number of people living in every section\n",
      "\n",
      "The function should output the following:\n",
      "\n",
      "- **final centroids** : the final centroids after many iterations\n",
      "- **cost function** : the value of the cost function $J(c) = \\sum_{x_i \\in \\text{points}} w_i ||x_i-c(x_i)||_2^2$ where $c(x_i)$ denotes the centroid associated to $x_i$ and $w_i$ is the weight of each data point $x_i$."
     ]
    },
    {
     "cell_type": "markdown",
     "metadata": {},
     "source": [
      "*Do not restrict your solution to only two dimensions. Avoid loops when possible.*"
     ]
    },
    {
     "cell_type": "code",
     "collapsed": false,
     "input": [
      "def wkmeans(centroids, points, weights):\n",
      "\n",
      "    return centroids,J"
     ],
     "language": "python",
     "metadata": {},
     "outputs": [],
     "prompt_number": 12
    },
    {
     "cell_type": "markdown",
     "metadata": {},
     "source": [
      "<h3>Part 3: Building an initialization heuristic (20 P)</h3>\n",
      "\n",
      "Here, you are requested to implement an heuristic for choosing initial centroids. The idea is the following: We assign a random score $s(i,j)$ to each geographical coordinate $(i,j)$. The score is computed as $s(i,j) = w(i,j) - N$ where $w(i,j)$ is the number of inhabitants at a certain location and $N$ is a random variable drawn from an exponential distribution of scale parameter $\\lambda$ to be determined. Then, the $k$ locations with largest score are assigned a centroid.\n",
      "\n",
      "(a) Implement the initialization heuristic\n",
      "\n",
      "(b) Generate a map superposing the centroids to the population density map\n",
      "\n",
      "(c) Test different parameters $\\lambda$ and $k$\n",
      "\n",
      "Comment: <br><h4>The convention is that $\\lambda = \\frac{1}{\\beta}$ is named the rate parameter which is the inverse of the scale Parameter $\\beta$. But because you explicitly called $\\lambda$ to be the scale parameter, we will not calculate any $\\beta$ or something but use $\\lambda$ directly</h4> discribed <a href=\"http://docs.scipy.org/doc/numpy/reference/generated/numpy.random.exponential.html\">here</a>"
     ]
    },
    {
     "cell_type": "code",
     "collapsed": false,
     "input": [
      "lambd = 1.0\n",
      "k = 10\n",
      "\n",
      "# width and heigth of the drawn centroids\n",
      "x = 2\n",
      "y = 2"
     ],
     "language": "python",
     "metadata": {},
     "outputs": [],
     "prompt_number": 36
    },
    {
     "cell_type": "code",
     "collapsed": false,
     "input": [
      "def initialize(pop,k):\n",
      "    dim = pop.shape\n",
      "    N = numpy.random.exponential(lambd,dim)\n",
      "    score = pop - N\n",
      "    centroids = []\n",
      "    for l in range(k):\n",
      "        i,j = numpy.unravel_index(score.argmax(), dim)\n",
      "        centroids.append((i,j))\n",
      "        score[i,j] = 0\n",
      "    return centroids"
     ],
     "language": "python",
     "metadata": {},
     "outputs": [],
     "prompt_number": 32
    },
    {
     "cell_type": "code",
     "collapsed": false,
     "input": [
      "def draw_centroids_map(centroids):\n",
      "    plt.clf()\n",
      "    dot_matrix = numpy.zeros((x*2,y*2)) - 4\n",
      "    map_image = numpy.array(dens_border, copy=True)\n",
      "    for c in centroids:\n",
      "        map_image[c[0]-x:c[0]+x,c[1]-y:c[1]+y] =  dot_matrix\n",
      "    imgplot = plt.imshow(map_image)\n",
      "    imgplot.set_cmap('spectral')\n",
      "    plt.colorbar()\n",
      "    plt.title('population density map with centroids')\n",
      "    plt.show()\n"
     ],
     "language": "python",
     "metadata": {},
     "outputs": [],
     "prompt_number": 33
    },
    {
     "cell_type": "code",
     "collapsed": false,
     "input": [
      "# testing - get Centroids\n",
      "xnid,xpop,nx,ny = getData()\n",
      "centroids = initialize(xpop,k)\n",
      "print centroids\n"
     ],
     "language": "python",
     "metadata": {},
     "outputs": [
      {
       "output_type": "stream",
       "stream": "stdout",
       "text": [
        "[(113, 135), (80, 304), (100, 123), (165, 237), (80, 303), (149, 134), (113, 134), (81, 304), (198, 267), (171, 139)]\n"
       ]
      }
     ],
     "prompt_number": 34
    },
    {
     "cell_type": "code",
     "collapsed": false,
     "input": [
      "# testing - draw initial Map\n",
      "draw_centroids_map(centroids)"
     ],
     "language": "python",
     "metadata": {},
     "outputs": [],
     "prompt_number": 37
    },
    {
     "cell_type": "markdown",
     "metadata": {},
     "source": [
      "<h3>Part 4: Running weighted k-means (20 P)</h3>\n",
      "\n",
      "The company wishes to find good locations of warehouses. We assume that the same percentage of inhabitants of every country uses their services, so the number of users can be approximated with the number of inhabitants. We assume that the cost of transporting their products to users is proportional to the squared euclidian distance to the closest warehouse.\n",
      "\n",
      "(a) Run the k-means algorithm with the number of clusters $k = 100$. Save your results, as they will be used later. Run at least $20$ iterations of k-means.\n",
      "\n",
      "(b) Plot the path of the centroids throughout the training procedure (for example, the initial centroids as a black dot, the final centroids as a white dot and the path that they followed as a black line). The path should be plotted in superposition to the hybrid map built in Part 1."
     ]
    },
    {
     "cell_type": "code",
     "collapsed": false,
     "input": [
      "xnid, xpop, nx,ny = getData()\n",
      "\n",
      "#Initialize centroids\n",
      "\n",
      "# start k-means\n",
      "\n",
      "# Visualize results"
     ],
     "language": "python",
     "metadata": {},
     "outputs": [],
     "prompt_number": 8
    },
    {
     "cell_type": "markdown",
     "metadata": {},
     "source": [
      "<h3>Part 5: Focusing on the German market (10 P)</h3>\n",
      "\n",
      "We have determined that our initial assumption that the number of customers in a country is proportional to its number of inhabitants is incorrect. Analysis has shown that customers in Germany (xnid=111), Austria(xnid=104) and Switzerland (xnid=109) are three times more likely to buy the product than customers in other countries.\n",
      "\n",
      "(a) Explain how the model should be modified to take into account this new constraint\n",
      "\n",
      "(b) Run k-means on this new problem with $k = 50$ and show the same type of map as in Part 5 for this new setting.\n",
      "\n",
      "(c) Describe the qualitative change in the allocation of factories accross Europe."
     ]
    },
    {
     "cell_type": "code",
     "collapsed": false,
     "input": [
      "xnid, xpop, nx,ny = getData()\n"
     ],
     "language": "python",
     "metadata": {},
     "outputs": [],
     "prompt_number": 9
    },
    {
     "cell_type": "markdown",
     "metadata": {},
     "source": [
      "<h3>Part 6: Shipping restrictions (10pt)</h3>\n",
      "\n",
      "Due to new shipping regulations in the EU, transporting the product across borders is now taxed heavily.\n",
      "\n",
      "(a) Explain how the new problem can be understood as a k-means problem in a higher-dimensional space (i.e. extending the original longitude/latitude two-dimensional space to more dimensions).\n",
      "\n",
      "(b) Implement the higher-dimensional k-means problem and produce a map similar to the one produced in Part 5.\n",
      "\n",
      "(c) Explain what are the qualitative difference between the distribution of factories as a function of the level of cross-border taxation."
     ]
    },
    {
     "cell_type": "code",
     "collapsed": false,
     "input": [],
     "language": "python",
     "metadata": {},
     "outputs": []
    },
    {
     "cell_type": "markdown",
     "metadata": {},
     "source": [
      "<h3>Part 7: Discussion (10pt)</h3>\n",
      "\n",
      "Discuss in approximately three paragraphs what are the advantages and limitation of the k-means model to the problem of optimal resource allocation. The discussion could cover points such as validity of the Euclidean distance as a measure of shipping cost, temporal evolution of consumer demand, supply side constraints. Then, discuss how the basic model could be extended to these more realistic scenarios."
     ]
    },
    {
     "cell_type": "markdown",
     "metadata": {},
     "source": [
      "<h3>Submission guidelines</h3>\n",
      "\n",
      "To facilitate grading, please export the notebook to PDF format. This can be done easily by installing the required packages and running\n",
      "\n",
      "**Do not upload the data**\n",
      "\n",
      "<code>ipython nbconvert --to latex sheet07.ipynb && pdflatex sheet07.tex</code>"
     ]
    }
   ],
   "metadata": {}
  }
 ]
}