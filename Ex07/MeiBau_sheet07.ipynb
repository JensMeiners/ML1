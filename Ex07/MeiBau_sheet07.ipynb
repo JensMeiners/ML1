{
 "metadata": {
  "name": ""
 },
 "nbformat": 3,
 "nbformat_minor": 0,
 "worksheets": [
  {
   "cells": [
    {
     "cell_type": "markdown",
     "metadata": {},
     "source": [
      "<h1>Exercise Sheet 7: K-means Clustering (100 P)</h1>\n",
      "\n",
      "**Intro:** In this scenario we will simulate finding good locations for warehouses of a multi-national company and some scenarios which can occur. The company is expanding to Europe and surrounding countries and is looking for locations which would maximize its profits. We will attempt to find the number of warehouses and their locations by using k-means clustering. We will look at several scenarios and how they impact the proposed model.\n",
      "\n",
      "In this exercise we will using data available at: http://sedac.ciesin.columbia.edu/ . The data contains a number of (x,y) coordinates on the map, the number of inhabitants of that section and the corresponding country. "
     ]
    },
    {
     "cell_type": "code",
     "collapsed": false,
     "input": [
      "import pickle,numpy\n",
      "import scipy\n",
      "import scipy.spatial.distance\n",
      "import os\n",
      "import random\n",
      "import io,IPython,Image\n",
      "import matplotlib.pyplot as plt\n",
      "import math"
     ],
     "language": "python",
     "metadata": {},
     "outputs": [],
     "prompt_number": 122
    },
    {
     "cell_type": "markdown",
     "metadata": {},
     "source": [
      "Helping Methods are defined here for better readability later on"
     ]
    },
    {
     "cell_type": "code",
     "collapsed": false,
     "input": [
      "def plot(x, y, c, A):\n",
      "    #plot the pixel at (x, y) with brightness c (where 0 \u2264 c \u2264 1) in matrix A\n",
      "    if not math.isnan(x) and not math.isnan(y):\n",
      "        A[int(x),int(y)] -= c * 3\n",
      "    \n",
      "def ipart(x):\n",
      "    i, d = divmod(x, 1)\n",
      "    return i\n",
      " \n",
      "def line_round(x):\n",
      "    return ipart(x + 0.5)\n",
      " \n",
      "def fpart(x):\n",
      "    i, d = divmod(x, 1)\n",
      "    return d\n",
      " \n",
      "def rfpart(x):\n",
      "    return 1 - fpart(x)\n",
      " \n",
      "def drawLine(x0,y0,x1,y1,A):\n",
      "    \"\"\"\n",
      "    draw anti-aliased line with Xiaolin Wu's line algorithm\n",
      "    draw from (x0,y0) to (x1,y1) on matrix A\n",
      "    \"\"\"\n",
      "    steep = abs(y1 - y0) > abs(x1 - x0)\n",
      " \n",
      "    if steep:\n",
      "        x0, y0 = y0, x0\n",
      "        x1, y1 = y1, x1\n",
      "    if x0 > x1:\n",
      "        x0, x1 = x0, x1\n",
      "        y0, y1 = y0, y1\n",
      " \n",
      "    dx = x1 - x0\n",
      "    dy = y1 - y0\n",
      "    gradient = dy / dx\n",
      " \n",
      "    # handle first endpoint\n",
      "    xend = line_round(x0)\n",
      "    yend = y0 + gradient * (xend - x0)\n",
      "    xgap = rfpart(x0 + 0.5)\n",
      "    xpxl1 = xend   #this will be used in the main loop\n",
      "    ypxl1 = ipart(yend)\n",
      "    if steep:\n",
      "        plot(ypxl1,   xpxl1, rfpart(yend) * xgap, A)\n",
      "        plot(ypxl1+1, xpxl1,  fpart(yend) * xgap, A)\n",
      "    else:\n",
      "        plot(xpxl1, ypxl1  , rfpart(yend) * xgap, A)\n",
      "        plot(xpxl1, ypxl1+1,  fpart(yend) * xgap, A)\n",
      "    intery = yend + gradient # first y-intersection for the main loop\n",
      " \n",
      "    # handle second endpoint\n",
      " \n",
      "    xend = line_round(x1)\n",
      "    yend = y1 + gradient * (xend - x1)\n",
      "    xgap = fpart(x1 + 0.5)\n",
      "    xpxl2 = xend # this will be used in the main loop\n",
      "    ypxl2 = ipart(yend)\n",
      "    if steep:\n",
      "        plot(ypxl2  , xpxl2, rfpart(yend) * xgap, A)\n",
      "        plot(ypxl2+1, xpxl2,  fpart(yend) * xgap, A)\n",
      "    else:\n",
      "        plot(xpxl2, ypxl2,  rfpart(yend) * xgap, A)\n",
      "        plot(xpxl2, ypxl2+1, fpart(yend) * xgap, A)\n",
      "     \n",
      "    # main loop\n",
      " \n",
      "    for x in range(int(xpxl1 + 1), int(xpxl2 - 1)):\n",
      "        if  steep:\n",
      "            plot(ipart(intery)  , x, rfpart(intery), A)\n",
      "            plot(ipart(intery)+1, x,  fpart(intery), A)\n",
      "        else:\n",
      "            plot(x, ipart (intery),  rfpart(intery), A)\n",
      "            plot(x, ipart (intery)+1, fpart(intery), A)\n",
      "        \n",
      "        intery = intery + gradient\n"
     ],
     "language": "python",
     "metadata": {},
     "outputs": [],
     "prompt_number": 124
    },
    {
     "cell_type": "markdown",
     "metadata": {},
     "source": [
      "The following helper function reads the data provided. It returns:\n",
      "\n",
      "- **xnid** : an array of integers indicating the country at each latitude/longitude on the map\n",
      "- **xpop** : an array of integers counting the population size at each latitude/longitude on the map\n",
      "- **nx**   : the number of latitudes considered\n",
      "- **ny**   : the number of longitudes considered"
     ]
    },
    {
     "cell_type": "code",
     "collapsed": false,
     "input": [
      "def getData():\n",
      "\n",
      "    def reading(filename):\n",
      "        with open(filename, 'rb') as st:\n",
      "            source = pickle.loads(st.read())\n",
      "        return source\n",
      "\n",
      "    xpop = reading('data/pop.pkl')\n",
      "    xpop = numpy.array([xpop[i::5,j::5] for i in range(5) for j in range(5)]).sum(axis=0)\n",
      "    nx,ny = xpop.shape\n",
      "    \n",
      "    \n",
      "    xnid = reading('data/nid.pkl')\n",
      "    xnid = xnid[2::5,2::5]\n",
      "    return xnid, xpop, nx,ny"
     ],
     "language": "python",
     "metadata": {},
     "outputs": [],
     "prompt_number": 2
    },
    {
     "cell_type": "markdown",
     "metadata": {},
     "source": [
      "<h3>Part 1: Examine the Data and Generate Various Maps (10 P)</h3>\n",
      "\n",
      "In this section we will utilize the data to show 4 different maps:\n",
      "\n",
      "- A map containing the borders between countries in our data (already provided for you)\n",
      "- A map where every country is colored differently (or at least assignes different colors to  neighbouring countries) \n",
      "- A map which shows population density in our data\n",
      "- A map that combines border indicators and population density\n",
      "\n",
      "Sample maps are given in the folder /maps. Your maps can be generated using the function imshow of the matplotlib library. The last hybrid map will be used in the rest of the exercise sheet."
     ]
    },
    {
     "cell_type": "code",
     "collapsed": false,
     "input": [
      "# 1a: Political map\n",
      "xnid,xpop,nx,ny = getData()\n",
      "plt.imshow(xnid*(1029743.9384958475)%1)\n",
      "plt.title('political map')\n",
      "plt.show()\n",
      "\n",
      "\n"
     ],
     "language": "python",
     "metadata": {},
     "outputs": [],
     "prompt_number": 4
    },
    {
     "cell_type": "code",
     "collapsed": false,
     "input": [
      "# 1b: Map showing the borders between countries\n",
      "xnid,xpop,nx,ny = getData()\n",
      "border_map = numpy.zeros(xnid.shape)\n",
      "border_map[1:nx,1:ny] = xnid[0:nx-1,0:ny-1]\n",
      "border_map = border_map - xnid\n",
      "border_map = border_map != 0\n",
      "plt.title('borders')\n",
      "plt.imshow(border_map,cmap='Greys')\n",
      "plt.show()\n"
     ],
     "language": "python",
     "metadata": {},
     "outputs": [],
     "prompt_number": 4
    },
    {
     "cell_type": "code",
     "collapsed": false,
     "input": [
      "# 1c: Map showing population density\n",
      "xnid,xpop,nx,ny = getData()\n",
      "imgplot = plt.imshow(numpy.log(xpop))\n",
      "imgplot.set_cmap('spectral')\n",
      "plt.colorbar()\n",
      "plt.title('population density map')\n",
      "plt.show()"
     ],
     "language": "python",
     "metadata": {},
     "outputs": [],
     "prompt_number": 5
    },
    {
     "cell_type": "code",
     "collapsed": false,
     "input": [
      "# 1c: Map superposing population density and borders\n",
      "xnid,xpop,nx,ny = getData()\n",
      "dens_border = numpy.log(xpop)\n",
      "for i,x in enumerate(dens_border):\n",
      "    for j,y in enumerate(x):\n",
      "        if border_map[i,j] == True:\n",
      "            dens_border[i,j] = -10\n",
      "imgplot = plt.imshow(dens_border)\n",
      "imgplot.set_cmap('spectral')\n",
      "plt.colorbar()\n",
      "plt.title('population density map')\n",
      "plt.show()"
     ],
     "language": "python",
     "metadata": {},
     "outputs": [],
     "prompt_number": 14
    },
    {
     "cell_type": "markdown",
     "metadata": {},
     "source": [
      "<h3>Part 2: Implementing one step of weighted k-means (20 P)</h3>\n",
      "\n",
      "Your task is to implement the k-means algorithm using weighted data. Here, instead of considering each inhabitant as a separate point, we consider each geographic coordinate as an inhabitant with a different weight corresponding to the number of people living at this coordinate.\n",
      "\n",
      "- **initial centroids**: the x and y coordinates of initial centroids\n",
      "- **points** : x and y coordinates of points with number of inhabitants > 0\n",
      "- **weights** : Containing the number of people living in every section\n",
      "\n",
      "The function should output the following:\n",
      "\n",
      "- **final centroids** : the final centroids after many iterations\n",
      "- **cost function** : the value of the cost function $J(c) = \\sum_{x_i \\in \\text{points}} w_i ||x_i-c(x_i)||_2^2$ where $c(x_i)$ denotes the centroid associated to $x_i$ and $w_i$ is the weight of each data point $x_i$."
     ]
    },
    {
     "cell_type": "markdown",
     "metadata": {},
     "source": [
      "*Do not restrict your solution to only two dimensions. Avoid loops when possible.*"
     ]
    },
    {
     "cell_type": "code",
     "collapsed": false,
     "input": [
      "# Helping Variables\n",
      "lambd = 1.0\n",
      "k = 100\n",
      "\n",
      "# width and heigth of the drawn centroids\n",
      "x = 1\n",
      "y = 1"
     ],
     "language": "python",
     "metadata": {},
     "outputs": [],
     "prompt_number": 73
    },
    {
     "cell_type": "code",
     "collapsed": false,
     "input": [
      "def error_func(a,b):\n",
      "    return sum((a-b)**2)"
     ],
     "language": "python",
     "metadata": {},
     "outputs": [],
     "prompt_number": 83
    },
    {
     "cell_type": "code",
     "collapsed": false,
     "input": [
      "def wkmeans(centroids, points, weights):\n",
      "    \"\"\"\n",
      "    It is given a dataset points where each row is a single data point, a vector\n",
      "    idx of centroid assignments (i.e. each entry in range [1..K]) for each\n",
      "    example, and the number of centroids. You should return a matrix\n",
      "    centroids, where each row of centroids is the mean of the data points\n",
      "    assigned to it.\n",
      "    \"\"\"\n",
      "    \n",
      "    J = 0\n",
      "    \n",
      "    # centroid assignments idx\n",
      "    idx = numpy.zeros(points.shape)\n",
      "    for p_i,p in enumerate(points):\n",
      "        closest_c = 0\n",
      "        smallest_error = 9999\n",
      "        for c_i,c in enumerate(centroids):\n",
      "            error = weights[p_i] * error_func(p,c)\n",
      "            if error < smallest_error:\n",
      "                smallest_error = error\n",
      "                closest_c = c_i\n",
      "        idx[p_i] = closest_c\n",
      "        # updating J(c)\n",
      "        J += smallest_error\n",
      "\n",
      "    # compute new centroids\n",
      "    for c_i,c in enumerate(centroids):\n",
      "        inter = idx[:] == c_i\n",
      "        centroids[i] = sum(inter * points) / sum(inter)\n",
      "        \n",
      "            \n",
      "    return centroids,J"
     ],
     "language": "python",
     "metadata": {},
     "outputs": [],
     "prompt_number": 84
    },
    {
     "cell_type": "markdown",
     "metadata": {},
     "source": [
      "<h3>Part 3: Building an initialization heuristic (20 P)</h3>\n",
      "\n",
      "Here, you are requested to implement an heuristic for choosing initial centroids. The idea is the following: We assign a random score $s(i,j)$ to each geographical coordinate $(i,j)$. The score is computed as $s(i,j) = w(i,j) - N$ where $w(i,j)$ is the number of inhabitants at a certain location and $N$ is a random variable drawn from an exponential distribution of scale parameter $\\lambda$ to be determined. Then, the $k$ locations with largest score are assigned a centroid.\n",
      "\n",
      "(a) Implement the initialization heuristic\n",
      "\n",
      "(b) Generate a map superposing the centroids to the population density map\n",
      "\n",
      "(c) Test different parameters $\\lambda$ and $k$\n",
      "\n",
      "Comment: <br><h4>The convention is that $\\lambda = \\frac{1}{\\beta}$ is named the rate parameter which is the inverse of the scale Parameter $\\beta$. But because you explicitly called $\\lambda$ to be the scale parameter, we will not calculate any $\\beta$ or something but use $\\lambda$ directly</h4> discribed <a href=\"http://docs.scipy.org/doc/numpy/reference/generated/numpy.random.exponential.html\">here</a>"
     ]
    },
    {
     "cell_type": "code",
     "collapsed": false,
     "input": [
      "def initialize(pop,k):\n",
      "    dim = pop.shape\n",
      "    N = numpy.random.exponential(lambd,dim)\n",
      "    score = pop - N\n",
      "    centroids = numpy.zeros((k,2))\n",
      "    for l in range(k):\n",
      "        i,j = numpy.unravel_index(score.argmax(), dim)\n",
      "        centroids[l] = numpy.array([i,j])\n",
      "        score[i,j] = 0\n",
      "    return centroids"
     ],
     "language": "python",
     "metadata": {},
     "outputs": [],
     "prompt_number": 68
    },
    {
     "cell_type": "code",
     "collapsed": false,
     "input": [
      "def draw_centroids_map(centroids):\n",
      "    plt.clf()\n",
      "    dot_matrix = numpy.zeros((x*2,y*2)) - 4\n",
      "    map_image = numpy.array(dens_border, copy=True)\n",
      "    for c in centroids:\n",
      "        map_image[c[0]-x:c[0]+x,c[1]-y:c[1]+y] =  dot_matrix\n",
      "    imgplot = plt.imshow(map_image)\n",
      "    imgplot.set_cmap('spectral')\n",
      "    plt.colorbar()\n",
      "    plt.title('population density map with centroids')\n",
      "    plt.show()\n"
     ],
     "language": "python",
     "metadata": {},
     "outputs": [],
     "prompt_number": 69
    },
    {
     "cell_type": "code",
     "collapsed": false,
     "input": [
      "# testing - get Centroids\n",
      "xnid,xpop,nx,ny = getData()\n",
      "centroids = initialize(xpop,k)\n"
     ],
     "language": "python",
     "metadata": {},
     "outputs": [],
     "prompt_number": 71
    },
    {
     "cell_type": "code",
     "collapsed": false,
     "input": [
      "# testing - draw initial Map\n",
      "draw_centroids_map(centroids)"
     ],
     "language": "python",
     "metadata": {},
     "outputs": [],
     "prompt_number": 75
    },
    {
     "cell_type": "markdown",
     "metadata": {},
     "source": [
      "<h3>Part 4: Running weighted k-means (20 P)</h3>\n",
      "\n",
      "The company wishes to find good locations of warehouses. We assume that the same percentage of inhabitants of every country uses their services, so the number of users can be approximated with the number of inhabitants. We assume that the cost of transporting their products to users is proportional to the squared euclidian distance to the closest warehouse.\n",
      "\n",
      "(a) Run the k-means algorithm with the number of clusters $k = 100$. Save your results, as they will be used later. Run at least $20$ iterations of k-means.\n",
      "\n",
      "(b) Plot the path of the centroids throughout the training procedure (for example, the initial centroids as a black dot, the final centroids as a white dot and the path that they followed as a black line). The path should be plotted in superposition to the hybrid map built in Part 1."
     ]
    },
    {
     "cell_type": "code",
     "collapsed": false,
     "input": [
      "def draw_centroids_list_map(c_list):\n",
      "    plt.clf()\n",
      "    map_image = numpy.array(dens_border, copy=True)\n",
      "    for i in range(len(c_list) - 1):\n",
      "        for j in range(len(c_list[i])):\n",
      "            c1 = c_list[i][j]\n",
      "            c2 = c_list[i+1][j]\n",
      "            drawLine(c1[0],c1[1],c2[0],c2[1],map_image)    \n",
      "    imgplot = plt.imshow(map_image)\n",
      "    imgplot.set_cmap('spectral')\n",
      "    plt.colorbar()\n",
      "    plt.title('population density map with centroids')\n",
      "    plt.show()"
     ],
     "language": "python",
     "metadata": {},
     "outputs": [],
     "prompt_number": 96
    },
    {
     "cell_type": "code",
     "collapsed": false,
     "input": [
      "iterations = 2\n",
      "\n",
      "xnid, xpop, nx,ny = getData()\n",
      "points = numpy.transpose(numpy.nonzero(xpop))\n",
      "weights = numpy.ones((points.shape[0]))\n",
      "\n",
      "#Initialize centroids\n",
      "centroids = initialize(xpop,k)\n",
      "c_list = [numpy.array(centroids)]\n",
      "# start k-means\n",
      "for i in range(iterations):\n",
      "    print \"iteration \"+str(i)\n",
      "    centroids, J = wkmeans(centroids, points, weights)\n",
      "    c_list.append(numpy.array(centroids))\n",
      "    \n"
     ],
     "language": "python",
     "metadata": {},
     "outputs": [
      {
       "output_type": "stream",
       "stream": "stdout",
       "text": [
        "iteration 0\n",
        "iteration 1"
       ]
      },
      {
       "ename": "IndexError",
       "evalue": "index 328 is out of bounds for axis 0 with size 200",
       "output_type": "pyerr",
       "traceback": [
        "\u001b[1;31m---------------------------------------------------------------------------\u001b[0m\n\u001b[1;31mIndexError\u001b[0m                                Traceback (most recent call last)",
        "\u001b[1;32m<ipython-input-99-070cc28b40b6>\u001b[0m in \u001b[0;36m<module>\u001b[1;34m()\u001b[0m\n\u001b[0;32m     15\u001b[0m \u001b[1;33m\u001b[0m\u001b[0m\n\u001b[0;32m     16\u001b[0m \u001b[1;31m# Visualize results\u001b[0m\u001b[1;33m\u001b[0m\u001b[1;33m\u001b[0m\u001b[0m\n\u001b[1;32m---> 17\u001b[1;33m \u001b[0mdraw_centroids_list_map\u001b[0m\u001b[1;33m(\u001b[0m\u001b[0mc_list\u001b[0m\u001b[1;33m)\u001b[0m\u001b[1;33m\u001b[0m\u001b[0m\n\u001b[0m",
        "\u001b[1;32m<ipython-input-96-53176d3869a7>\u001b[0m in \u001b[0;36mdraw_centroids_list_map\u001b[1;34m(c_list)\u001b[0m\n\u001b[0;32m      6\u001b[0m             \u001b[0mc1\u001b[0m \u001b[1;33m=\u001b[0m \u001b[0mc_list\u001b[0m\u001b[1;33m[\u001b[0m\u001b[0mi\u001b[0m\u001b[1;33m]\u001b[0m\u001b[1;33m[\u001b[0m\u001b[0mj\u001b[0m\u001b[1;33m]\u001b[0m\u001b[1;33m\u001b[0m\u001b[0m\n\u001b[0;32m      7\u001b[0m             \u001b[0mc2\u001b[0m \u001b[1;33m=\u001b[0m \u001b[0mc_list\u001b[0m\u001b[1;33m[\u001b[0m\u001b[0mi\u001b[0m\u001b[1;33m+\u001b[0m\u001b[1;36m1\u001b[0m\u001b[1;33m]\u001b[0m\u001b[1;33m[\u001b[0m\u001b[0mj\u001b[0m\u001b[1;33m]\u001b[0m\u001b[1;33m\u001b[0m\u001b[0m\n\u001b[1;32m----> 8\u001b[1;33m             \u001b[0mdrawLine\u001b[0m\u001b[1;33m(\u001b[0m\u001b[0mc1\u001b[0m\u001b[1;33m[\u001b[0m\u001b[1;36m0\u001b[0m\u001b[1;33m]\u001b[0m\u001b[1;33m,\u001b[0m\u001b[0mc1\u001b[0m\u001b[1;33m[\u001b[0m\u001b[1;36m1\u001b[0m\u001b[1;33m]\u001b[0m\u001b[1;33m,\u001b[0m\u001b[0mc2\u001b[0m\u001b[1;33m[\u001b[0m\u001b[1;36m0\u001b[0m\u001b[1;33m]\u001b[0m\u001b[1;33m,\u001b[0m\u001b[0mc2\u001b[0m\u001b[1;33m[\u001b[0m\u001b[1;36m1\u001b[0m\u001b[1;33m]\u001b[0m\u001b[1;33m,\u001b[0m\u001b[0mmap_image\u001b[0m\u001b[1;33m)\u001b[0m\u001b[1;33m\u001b[0m\u001b[0m\n\u001b[0m\u001b[0;32m      9\u001b[0m     \u001b[0mimgplot\u001b[0m \u001b[1;33m=\u001b[0m \u001b[0mplt\u001b[0m\u001b[1;33m.\u001b[0m\u001b[0mimshow\u001b[0m\u001b[1;33m(\u001b[0m\u001b[0mmap_image\u001b[0m\u001b[1;33m)\u001b[0m\u001b[1;33m\u001b[0m\u001b[0m\n\u001b[0;32m     10\u001b[0m     \u001b[0mimgplot\u001b[0m\u001b[1;33m.\u001b[0m\u001b[0mset_cmap\u001b[0m\u001b[1;33m(\u001b[0m\u001b[1;34m'spectral'\u001b[0m\u001b[1;33m)\u001b[0m\u001b[1;33m\u001b[0m\u001b[0m\n",
        "\u001b[1;32m<ipython-input-98-6d8178143a20>\u001b[0m in \u001b[0;36mdrawLine\u001b[1;34m(x0, y0, x1, y1, A)\u001b[0m\n\u001b[0;32m     60\u001b[0m     \u001b[0mypxl2\u001b[0m \u001b[1;33m=\u001b[0m \u001b[0mipart\u001b[0m\u001b[1;33m(\u001b[0m\u001b[0myend\u001b[0m\u001b[1;33m)\u001b[0m\u001b[1;33m\u001b[0m\u001b[0m\n\u001b[0;32m     61\u001b[0m     \u001b[1;32mif\u001b[0m \u001b[0msteep\u001b[0m\u001b[1;33m:\u001b[0m\u001b[1;33m\u001b[0m\u001b[0m\n\u001b[1;32m---> 62\u001b[1;33m         \u001b[0mplot\u001b[0m\u001b[1;33m(\u001b[0m\u001b[0mypxl2\u001b[0m  \u001b[1;33m,\u001b[0m \u001b[0mxpxl2\u001b[0m\u001b[1;33m,\u001b[0m \u001b[0mrfpart\u001b[0m\u001b[1;33m(\u001b[0m\u001b[0myend\u001b[0m\u001b[1;33m)\u001b[0m \u001b[1;33m*\u001b[0m \u001b[0mxgap\u001b[0m\u001b[1;33m,\u001b[0m \u001b[0mA\u001b[0m\u001b[1;33m)\u001b[0m\u001b[1;33m\u001b[0m\u001b[0m\n\u001b[0m\u001b[0;32m     63\u001b[0m         \u001b[0mplot\u001b[0m\u001b[1;33m(\u001b[0m\u001b[0mypxl2\u001b[0m\u001b[1;33m+\u001b[0m\u001b[1;36m1\u001b[0m\u001b[1;33m,\u001b[0m \u001b[0mxpxl2\u001b[0m\u001b[1;33m,\u001b[0m  \u001b[0mfpart\u001b[0m\u001b[1;33m(\u001b[0m\u001b[0myend\u001b[0m\u001b[1;33m)\u001b[0m \u001b[1;33m*\u001b[0m \u001b[0mxgap\u001b[0m\u001b[1;33m,\u001b[0m \u001b[0mA\u001b[0m\u001b[1;33m)\u001b[0m\u001b[1;33m\u001b[0m\u001b[0m\n\u001b[0;32m     64\u001b[0m     \u001b[1;32melse\u001b[0m\u001b[1;33m:\u001b[0m\u001b[1;33m\u001b[0m\u001b[0m\n",
        "\u001b[1;32m<ipython-input-98-6d8178143a20>\u001b[0m in \u001b[0;36mplot\u001b[1;34m(x, y, c, A)\u001b[0m\n\u001b[0;32m      1\u001b[0m \u001b[1;32mdef\u001b[0m \u001b[0mplot\u001b[0m\u001b[1;33m(\u001b[0m\u001b[0mx\u001b[0m\u001b[1;33m,\u001b[0m \u001b[0my\u001b[0m\u001b[1;33m,\u001b[0m \u001b[0mc\u001b[0m\u001b[1;33m,\u001b[0m \u001b[0mA\u001b[0m\u001b[1;33m)\u001b[0m\u001b[1;33m:\u001b[0m\u001b[1;33m\u001b[0m\u001b[0m\n\u001b[0;32m      2\u001b[0m     \u001b[1;31m#plot the pixel at (x, y) with brightness c (where 0 \u2264 c \u2264 1) in matrix A\u001b[0m\u001b[1;33m\u001b[0m\u001b[1;33m\u001b[0m\u001b[0m\n\u001b[1;32m----> 3\u001b[1;33m     \u001b[0mA\u001b[0m\u001b[1;33m[\u001b[0m\u001b[0mx\u001b[0m\u001b[1;33m,\u001b[0m\u001b[0my\u001b[0m\u001b[1;33m]\u001b[0m \u001b[1;33m-=\u001b[0m \u001b[0mc\u001b[0m \u001b[1;33m*\u001b[0m \u001b[1;36m3\u001b[0m\u001b[1;33m\u001b[0m\u001b[0m\n\u001b[0m\u001b[0;32m      4\u001b[0m \u001b[1;33m\u001b[0m\u001b[0m\n\u001b[0;32m      5\u001b[0m \u001b[1;32mdef\u001b[0m \u001b[0mipart\u001b[0m\u001b[1;33m(\u001b[0m\u001b[0mx\u001b[0m\u001b[1;33m)\u001b[0m\u001b[1;33m:\u001b[0m\u001b[1;33m\u001b[0m\u001b[0m\n",
        "\u001b[1;31mIndexError\u001b[0m: index 328 is out of bounds for axis 0 with size 200"
       ]
      },
      {
       "output_type": "stream",
       "stream": "stdout",
       "text": [
        "\n"
       ]
      }
     ],
     "prompt_number": 99
    },
    {
     "cell_type": "code",
     "collapsed": false,
     "input": [
      "# Visualize results\n",
      "\n",
      "draw_centroids_list_map(c_list)"
     ],
     "language": "python",
     "metadata": {},
     "outputs": [
      {
       "output_type": "stream",
       "stream": "stderr",
       "text": [
        "-c:36: RuntimeWarning: invalid value encountered in double_scalars\n"
       ]
      }
     ],
     "prompt_number": 125
    },
    {
     "cell_type": "markdown",
     "metadata": {},
     "source": [
      "<h3>Part 5: Focusing on the German market (10 P)</h3>\n",
      "\n",
      "We have determined that our initial assumption that the number of customers in a country is proportional to its number of inhabitants is incorrect. Analysis has shown that customers in Germany (xnid=111), Austria(xnid=104) and Switzerland (xnid=109) are three times more likely to buy the product than customers in other countries.\n",
      "\n",
      "(a) Explain how the model should be modified to take into account this new constraint\n",
      "\n",
      "(b) Run k-means on this new problem with $k = 50$ and show the same type of map as in Part 5 for this new setting.\n",
      "\n",
      "(c) Describe the qualitative change in the allocation of factories accross Europe."
     ]
    },
    {
     "cell_type": "code",
     "collapsed": false,
     "input": [
      "xnid, xpop, nx,ny = getData()\n"
     ],
     "language": "python",
     "metadata": {},
     "outputs": [],
     "prompt_number": 9
    },
    {
     "cell_type": "markdown",
     "metadata": {},
     "source": [
      "<h3>Part 6: Shipping restrictions (10pt)</h3>\n",
      "\n",
      "Due to new shipping regulations in the EU, transporting the product across borders is now taxed heavily.\n",
      "\n",
      "(a) Explain how the new problem can be understood as a k-means problem in a higher-dimensional space (i.e. extending the original longitude/latitude two-dimensional space to more dimensions).\n",
      "\n",
      "(b) Implement the higher-dimensional k-means problem and produce a map similar to the one produced in Part 5.\n",
      "\n",
      "(c) Explain what are the qualitative difference between the distribution of factories as a function of the level of cross-border taxation."
     ]
    },
    {
     "cell_type": "code",
     "collapsed": false,
     "input": [],
     "language": "python",
     "metadata": {},
     "outputs": []
    },
    {
     "cell_type": "markdown",
     "metadata": {},
     "source": [
      "<h3>Part 7: Discussion (10pt)</h3>\n",
      "\n",
      "Discuss in approximately three paragraphs what are the advantages and limitation of the k-means model to the problem of optimal resource allocation. The discussion could cover points such as validity of the Euclidean distance as a measure of shipping cost, temporal evolution of consumer demand, supply side constraints. Then, discuss how the basic model could be extended to these more realistic scenarios."
     ]
    },
    {
     "cell_type": "markdown",
     "metadata": {},
     "source": [
      "<h3>Submission guidelines</h3>\n",
      "\n",
      "To facilitate grading, please export the notebook to PDF format. This can be done easily by installing the required packages and running\n",
      "\n",
      "**Do not upload the data**\n",
      "\n",
      "<code>ipython nbconvert --to latex sheet07.ipynb && pdflatex sheet07.tex</code>"
     ]
    }
   ],
   "metadata": {}
  }
 ]
}