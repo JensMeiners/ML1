{
 "metadata": {
  "name": ""
 },
 "nbformat": 3,
 "nbformat_minor": 0,
 "worksheets": [
  {
   "cells": [
    {
     "cell_type": "markdown",
     "metadata": {},
     "source": [
      "<h1>Exercise Sheet 7: K-means Clustering (100 P)</h1>\n",
      "\n",
      "**Intro:** In this scenario we will simulate finding good locations for warehouses of a multi-national company and some scenarios which can occur. The company is expanding to Europe and surrounding countries and is looking for locations which would maximize its profits. We will attempt to find the number of warehouses and their locations by using k-means clustering. We will look at several scenarios and how they impact the proposed model.\n",
      "\n",
      "In this exercise we will using data available at: http://sedac.ciesin.columbia.edu/ . The data contains a number of (x,y) coordinates on the map, the number of inhabitants of that section and the corresponding country. "
     ]
    },
    {
     "cell_type": "code",
     "collapsed": false,
     "input": [
      "import pickle,numpy\n",
      "import scipy\n",
      "import scipy.spatial.distance\n",
      "import os\n",
      "import random\n",
      "import io,IPython,Image\n",
      "import matplotlib.pyplot as plt\n",
      "import math"
     ],
     "language": "python",
     "metadata": {},
     "outputs": [],
     "prompt_number": 1
    },
    {
     "cell_type": "markdown",
     "metadata": {},
     "source": [
      "Helping Methods are defined here for better readability later on"
     ]
    },
    {
     "cell_type": "code",
     "collapsed": false,
     "input": [
      "def plot(x, y, c, A, i):\n",
      "    #plot the pixel at (x, y) with brightness c (where 0 \u2264 c \u2264 1) in matrix A at iteration i\n",
      "    if not math.isnan(x) and not math.isnan(y):\n",
      "        if x >= A.shape[0]:\n",
      "            x = A.shape[0] -1\n",
      "        if y >= A.shape[1]:\n",
      "            y = A.shape[1] -1\n",
      "        x, y = int(round(x)),int(round(y))\n",
      "        A[x,y] = -3 - i*0.5 #+ A[int(x),int(y)]*(1-c)\n",
      "        if A[x,y] < -10:\n",
      "            A[x,y] = -10\n",
      "    else:\n",
      "        print \"failed plot (\" +str(x)+\", \"+str(y)+\")\"\n",
      "    \n",
      "def ipart(x):\n",
      "    i, d = divmod(x, 1)\n",
      "    return i\n",
      " \n",
      "def line_round(x):\n",
      "    return ipart(x + 0.5)\n",
      " \n",
      "def fpart(x):\n",
      "    i, d = divmod(x, 1)\n",
      "    return d\n",
      " \n",
      "def rfpart(x):\n",
      "    return 1 - fpart(x)\n",
      " \n",
      "def drawLine(x0,y0,x1,y1,A, i):\n",
      "    \"\"\"\n",
      "    draw anti-aliased line with Xiaolin Wu's line algorithm\n",
      "    draw from (x0,y0) to (x1,y1) on matrix A at iteration i\n",
      "    \"\"\"\n",
      "    if x0 == x1 and y0 == y1:\n",
      "        return\n",
      "    #print \"draw line from (\"+str(x0)+\", \"+str(y0)+\") to (\"+str(x1)+\", \"+str(y1)+\")\"\n",
      "    steep = abs(y1 - y0) > abs(x1 - x0)\n",
      " \n",
      "    if steep:\n",
      "        x0, y0 = y0, x0\n",
      "        x1, y1 = y1, x1\n",
      "    if x0 > x1:\n",
      "        x0, x1 = x0, x1\n",
      "        y0, y1 = y0, y1\n",
      " \n",
      "    dx = x1 - x0\n",
      "    dy = y1 - y0\n",
      "    gradient = dy / dx\n",
      " \n",
      "    # handle first endpoint\n",
      "    xend = line_round(x0)\n",
      "    yend = y0 + gradient * (xend - x0)\n",
      "    xgap = rfpart(x0 + 0.5)\n",
      "    xpxl1 = xend   #this will be used in the main loop\n",
      "    ypxl1 = ipart(yend)\n",
      "    if steep:\n",
      "        plot(ypxl1,   xpxl1, rfpart(yend) * xgap, A, i)\n",
      "        plot(ypxl1+1, xpxl1,  fpart(yend) * xgap, A, i)\n",
      "    else:\n",
      "        plot(xpxl1, ypxl1  , rfpart(yend) * xgap, A, i)\n",
      "        plot(xpxl1, ypxl1+1,  fpart(yend) * xgap, A, i)\n",
      "    intery = yend + gradient # first y-intersection for the main loop\n",
      " \n",
      "    # handle second endpoint\n",
      " \n",
      "    xend = line_round(x1)\n",
      "    yend = y1 + gradient * (xend - x1)\n",
      "    xgap = fpart(x1 + 0.5)\n",
      "    xpxl2 = xend # this will be used in the main loop\n",
      "    ypxl2 = ipart(yend)\n",
      "    if steep:\n",
      "        plot(ypxl2  , xpxl2, rfpart(yend) * xgap, A, i)\n",
      "        plot(ypxl2+1, xpxl2,  fpart(yend) * xgap, A, i)\n",
      "    else:\n",
      "        plot(xpxl2, ypxl2,  rfpart(yend) * xgap, A, i)\n",
      "        plot(xpxl2, ypxl2+1, fpart(yend) * xgap, A, i)\n",
      "     \n",
      "    # main loop\n",
      " \n",
      "    for x in range(int(xpxl1 + 1), int(xpxl2 - 1)):\n",
      "        if  steep:\n",
      "            plot(ipart(intery)  , x, rfpart(intery), A, i)\n",
      "            plot(ipart(intery)+1, x,  fpart(intery), A, i)\n",
      "        else:\n",
      "            plot(x, ipart (intery),  rfpart(intery), A, i)\n",
      "            plot(x, ipart (intery)+1, fpart(intery), A, i)\n",
      "        \n",
      "        intery = intery + gradient\n"
     ],
     "language": "python",
     "metadata": {},
     "outputs": [],
     "prompt_number": 2
    },
    {
     "cell_type": "markdown",
     "metadata": {},
     "source": [
      "The following helper function reads the data provided. It returns:\n",
      "\n",
      "- **xnid** : an array of integers indicating the country at each latitude/longitude on the map\n",
      "- **xpop** : an array of integers counting the population size at each latitude/longitude on the map\n",
      "- **nx**   : the number of latitudes considered\n",
      "- **ny**   : the number of longitudes considered"
     ]
    },
    {
     "cell_type": "code",
     "collapsed": false,
     "input": [
      "def getData():\n",
      "\n",
      "    def reading(filename):\n",
      "        with open(filename, 'rb') as st:\n",
      "            source = pickle.loads(st.read())\n",
      "        return source\n",
      "\n",
      "    xpop = reading('data/pop.pkl')\n",
      "    xpop = numpy.array([xpop[i::5,j::5] for i in range(5) for j in range(5)]).sum(axis=0)\n",
      "    nx,ny = xpop.shape\n",
      "    \n",
      "    \n",
      "    xnid = reading('data/nid.pkl')\n",
      "    xnid = xnid[2::5,2::5]\n",
      "    return xnid, xpop, nx,ny"
     ],
     "language": "python",
     "metadata": {},
     "outputs": [],
     "prompt_number": 3
    },
    {
     "cell_type": "markdown",
     "metadata": {},
     "source": [
      "<h3>Part 1: Examine the Data and Generate Various Maps (10 P)</h3>\n",
      "\n",
      "In this section we will utilize the data to show 4 different maps:\n",
      "\n",
      "- A map containing the borders between countries in our data (already provided for you)\n",
      "- A map where every country is colored differently (or at least assignes different colors to  neighbouring countries) \n",
      "- A map which shows population density in our data\n",
      "- A map that combines border indicators and population density\n",
      "\n",
      "Sample maps are given in the folder /maps. Your maps can be generated using the function imshow of the matplotlib library. The last hybrid map will be used in the rest of the exercise sheet."
     ]
    },
    {
     "cell_type": "code",
     "collapsed": false,
     "input": [
      "# 1a: Political map\n",
      "xnid,xpop,nx,ny = getData()\n",
      "plt.imshow(xnid*(1029743.9384958475)%1)\n",
      "plt.title('political map')\n",
      "plt.show()\n",
      "\n",
      "\n"
     ],
     "language": "python",
     "metadata": {},
     "outputs": [],
     "prompt_number": 4
    },
    {
     "cell_type": "code",
     "collapsed": false,
     "input": [
      "# 1b: Map showing the borders between countries\n",
      "xnid,xpop,nx,ny = getData()\n",
      "border_map = numpy.zeros(xnid.shape)\n",
      "border_map[1:nx,1:ny] = xnid[0:nx-1,0:ny-1]\n",
      "border_map = border_map - xnid\n",
      "border_map = border_map != 0\n",
      "plt.title('borders')\n",
      "plt.imshow(border_map,cmap='Greys')\n",
      "plt.show()\n"
     ],
     "language": "python",
     "metadata": {},
     "outputs": [],
     "prompt_number": 5
    },
    {
     "cell_type": "code",
     "collapsed": false,
     "input": [
      "# 1c: Map showing population density\n",
      "xnid,xpop,nx,ny = getData()\n",
      "imgplot = plt.imshow(numpy.log(xpop))\n",
      "imgplot.set_cmap('spectral')\n",
      "plt.colorbar()\n",
      "plt.title('population density map')\n",
      "plt.show()"
     ],
     "language": "python",
     "metadata": {},
     "outputs": [
      {
       "output_type": "stream",
       "stream": "stderr",
       "text": [
        "-c:3: RuntimeWarning: divide by zero encountered in log\n"
       ]
      }
     ],
     "prompt_number": 6
    },
    {
     "cell_type": "code",
     "collapsed": false,
     "input": [
      "# 1c: Map superposing population density and borders\n",
      "xnid,xpop,nx,ny = getData()\n",
      "dens_border = numpy.log(xpop)\n",
      "for i,x in enumerate(dens_border):\n",
      "    for j,y in enumerate(x):\n",
      "        if border_map[i,j] == True:\n",
      "            dens_border[i,j] = -10\n",
      "imgplot = plt.imshow(dens_border)\n",
      "imgplot.set_cmap('spectral')\n",
      "plt.colorbar()\n",
      "plt.title('population density map')\n",
      "plt.show()"
     ],
     "language": "python",
     "metadata": {},
     "outputs": [],
     "prompt_number": 7
    },
    {
     "cell_type": "markdown",
     "metadata": {},
     "source": [
      "<h3>Part 2: Implementing one step of weighted k-means (20 P)</h3>\n",
      "\n",
      "Your task is to implement the k-means algorithm using weighted data. Here, instead of considering each inhabitant as a separate point, we consider each geographic coordinate as an inhabitant with a different weight corresponding to the number of people living at this coordinate.\n",
      "\n",
      "- **initial centroids**: the x and y coordinates of initial centroids\n",
      "- **points** : x and y coordinates of points with number of inhabitants > 0\n",
      "- **weights** : Containing the number of people living in every section\n",
      "\n",
      "The function should output the following:\n",
      "\n",
      "- **final centroids** : the final centroids after many iterations\n",
      "- **cost function** : the value of the cost function $J(c) = \\sum_{x_i \\in \\text{points}} w_i ||x_i-c(x_i)||_2^2$ where $c(x_i)$ denotes the centroid associated to $x_i$ and $w_i$ is the weight of each data point $x_i$."
     ]
    },
    {
     "cell_type": "markdown",
     "metadata": {},
     "source": [
      "*Do not restrict your solution to only two dimensions. Avoid loops when possible.*"
     ]
    },
    {
     "cell_type": "code",
     "collapsed": false,
     "input": [
      "# Helping Variables\n",
      "lambd = 1.0\n",
      "k = 100\n",
      "\n",
      "# width and heigth of the drawn centroids\n",
      "x = 2\n",
      "y = 2"
     ],
     "language": "python",
     "metadata": {},
     "outputs": [],
     "prompt_number": 8
    },
    {
     "cell_type": "code",
     "collapsed": false,
     "input": [
      "def error_func(a,b):\n",
      "    return sum((a-b)**2)"
     ],
     "language": "python",
     "metadata": {},
     "outputs": [],
     "prompt_number": 9
    },
    {
     "cell_type": "code",
     "collapsed": false,
     "input": [
      "def wkmeans(centroids, points, weights):\n",
      "    \"\"\"\n",
      "    It is given a dataset points where each row is a single data point, a vector\n",
      "    idx of centroid assignments (i.e. each entry in range [1..K]) for each\n",
      "    example, and the number of centroids. You should return a matrix\n",
      "    centroids, where each row of centroids is the mean of the data points\n",
      "    assigned to it.\n",
      "    \"\"\"\n",
      "    \n",
      "    J = 0\n",
      "    \n",
      "    # centroid assignments idx\n",
      "    idx = numpy.zeros(points.shape)\n",
      "    for p_i,p in enumerate(points):\n",
      "        closest_c = 0\n",
      "        smallest_error = 9999\n",
      "        for c_i,c in enumerate(centroids):\n",
      "            error = weights[p_i] * error_func(p,c)\n",
      "            if error < smallest_error:\n",
      "                smallest_error = error\n",
      "                closest_c = c_i\n",
      "        idx[p_i] = closest_c\n",
      "        # updating J(c)\n",
      "        J += smallest_error\n",
      "\n",
      "    # compute new centroids\n",
      "    for c_i,c in enumerate(centroids):\n",
      "        inter = idx[:] == c_i\n",
      "        centroids[c_i] = sum(inter * points) / sum(inter)\n",
      "        \n",
      "            \n",
      "    return centroids,J"
     ],
     "language": "python",
     "metadata": {},
     "outputs": [],
     "prompt_number": 10
    },
    {
     "cell_type": "markdown",
     "metadata": {},
     "source": [
      "<h3>Part 3: Building an initialization heuristic (20 P)</h3>\n",
      "\n",
      "Here, you are requested to implement an heuristic for choosing initial centroids. The idea is the following: We assign a random score $s(i,j)$ to each geographical coordinate $(i,j)$. The score is computed as $s(i,j) = w(i,j) - N$ where $w(i,j)$ is the number of inhabitants at a certain location and $N$ is a random variable drawn from an exponential distribution of scale parameter $\\lambda$ to be determined. Then, the $k$ locations with largest score are assigned a centroid.\n",
      "\n",
      "(a) Implement the initialization heuristic\n",
      "\n",
      "(b) Generate a map superposing the centroids to the population density map\n",
      "\n",
      "(c) Test different parameters $\\lambda$ and $k$\n",
      "\n",
      "Comment: <br><h4>The convention is that $\\lambda = \\frac{1}{\\beta}$ is named the rate parameter which is the inverse of the scale Parameter $\\beta$. But because you explicitly called $\\lambda$ to be the scale parameter, we will not calculate any $\\beta$ or something but use $\\lambda$ directly</h4> discribed <a href=\"http://docs.scipy.org/doc/numpy/reference/generated/numpy.random.exponential.html\">here</a>"
     ]
    },
    {
     "cell_type": "code",
     "collapsed": false,
     "input": [
      "def initialize(pop,k):\n",
      "    dim = pop.shape\n",
      "    N = numpy.random.exponential(lambd,dim)\n",
      "    score = pop - N\n",
      "    centroids = numpy.zeros((k,2))\n",
      "    for l in range(k):\n",
      "        i,j = numpy.unravel_index(score.argmax(), dim)\n",
      "        centroids[l] = numpy.array([i,j])\n",
      "        score[i,j] = 0\n",
      "    return centroids"
     ],
     "language": "python",
     "metadata": {},
     "outputs": [],
     "prompt_number": 11
    },
    {
     "cell_type": "code",
     "collapsed": false,
     "input": [
      "def draw_centroids_map(centroids):\n",
      "    plt.clf()\n",
      "    dot_matrix = numpy.zeros((x*2,y*2)) - 4\n",
      "    map_image = numpy.array(dens_border, copy=True)\n",
      "    for c in centroids:\n",
      "        map_image[c[0]-x:c[0]+x,c[1]-y:c[1]+y] =  dot_matrix\n",
      "    imgplot = plt.imshow(map_image)\n",
      "    imgplot.set_cmap('spectral')\n",
      "    plt.colorbar()\n",
      "    plt.title('population density map with centroids')\n",
      "    plt.show()\n"
     ],
     "language": "python",
     "metadata": {},
     "outputs": [],
     "prompt_number": 12
    },
    {
     "cell_type": "code",
     "collapsed": false,
     "input": [
      "# testing - get Centroids\n",
      "xnid,xpop,nx,ny = getData()\n",
      "centroids = initialize(xpop,k)\n"
     ],
     "language": "python",
     "metadata": {},
     "outputs": [],
     "prompt_number": 71
    },
    {
     "cell_type": "code",
     "collapsed": false,
     "input": [
      "# testing - draw initial Map\n",
      "draw_centroids_map(centroids)"
     ],
     "language": "python",
     "metadata": {},
     "outputs": [],
     "prompt_number": 75
    },
    {
     "cell_type": "markdown",
     "metadata": {},
     "source": [
      "<h3>Part 4: Running weighted k-means (20 P)</h3>\n",
      "\n",
      "The company wishes to find good locations of warehouses. We assume that the same percentage of inhabitants of every country uses their services, so the number of users can be approximated with the number of inhabitants. We assume that the cost of transporting their products to users is proportional to the squared euclidian distance to the closest warehouse.\n",
      "\n",
      "(a) Run the k-means algorithm with the number of clusters $k = 100$. Save your results, as they will be used later. Run at least $20$ iterations of k-means.\n",
      "\n",
      "(b) Plot the path of the centroids throughout the training procedure (for example, the initial centroids as a black dot, the final centroids as a white dot and the path that they followed as a black line). The path should be plotted in superposition to the hybrid map built in Part 1."
     ]
    },
    {
     "cell_type": "code",
     "collapsed": false,
     "input": [
      "def draw_centroids_list_map(c_list):\n",
      "    plt.clf()\n",
      "    dot_matrix = numpy.zeros((x*2,y*2),dtype=float) - float('Inf')\n",
      "    for i,a in enumerate(dot_matrix):\n",
      "        for j,b in enumerate(a):\n",
      "            if i == 0 or j == 0:\n",
      "                dot_matrix[i,j] = -10\n",
      "            if i == dot_matrix.shape[0]-1 or j == dot_matrix.shape[1]-1:\n",
      "                dot_matrix[i,j] = -10\n",
      "    map_image = numpy.array(dens_border, copy=True)\n",
      "    #draw lines\n",
      "    for i in range(len(c_list) - 1):\n",
      "        for j in range(len(c_list[i])):\n",
      "            c1 = c_list[i][j]\n",
      "            c2 = c_list[i+1][j]\n",
      "            drawLine(c1[0],c1[1],c2[0],c2[1],map_image,i) \n",
      "            if j == 10:\n",
      "                print c1,c2\n",
      "                \n",
      "    #draw final centroids\n",
      "    for c in c_list[-1]:\n",
      "        map_image[c[0]-x:c[0]+x,c[1]-y:c[1]+y] = dot_matrix\n",
      "        \n",
      "    imgplot = plt.imshow(map_image)\n",
      "    imgplot.set_cmap('spectral')\n",
      "    plt.colorbar()\n",
      "    plt.title('population density map with centroids')\n",
      "    print \"\"\n",
      "    plt.show()"
     ],
     "language": "python",
     "metadata": {},
     "outputs": [],
     "prompt_number": 13
    },
    {
     "cell_type": "code",
     "collapsed": false,
     "input": [
      "iterations = 10\n",
      "\n",
      "xnid, xpop, nx,ny = getData()\n",
      "points = numpy.transpose(numpy.nonzero(xpop))\n",
      "weights = numpy.ones((points.shape[0]))\n",
      "\n",
      "#Initialize centroids\n",
      "centroids = initialize(xpop,k)\n",
      "c_list = [numpy.array(centroids)]\n",
      "# start k-means\n",
      "for i in range(iterations):\n",
      "    print \"iteration \"+str(i)\n",
      "    centroids, J = wkmeans(centroids, points, weights)\n",
      "    c_list.append(numpy.array(centroids))\n",
      "    \n"
     ],
     "language": "python",
     "metadata": {},
     "outputs": [
      {
       "output_type": "stream",
       "stream": "stdout",
       "text": [
        "iteration 0\n",
        "iteration 1"
       ]
      },
      {
       "output_type": "stream",
       "stream": "stdout",
       "text": [
        "\n",
        "iteration 2"
       ]
      },
      {
       "output_type": "stream",
       "stream": "stdout",
       "text": [
        "\n",
        "iteration 3"
       ]
      },
      {
       "output_type": "stream",
       "stream": "stdout",
       "text": [
        "\n",
        "iteration 4"
       ]
      },
      {
       "output_type": "stream",
       "stream": "stdout",
       "text": [
        "\n",
        "iteration 5"
       ]
      },
      {
       "output_type": "stream",
       "stream": "stdout",
       "text": [
        "\n",
        "iteration 6"
       ]
      },
      {
       "output_type": "stream",
       "stream": "stdout",
       "text": [
        "\n",
        "iteration 7"
       ]
      },
      {
       "output_type": "stream",
       "stream": "stdout",
       "text": [
        "\n",
        "iteration 8"
       ]
      },
      {
       "output_type": "stream",
       "stream": "stdout",
       "text": [
        "\n",
        "iteration 9"
       ]
      },
      {
       "output_type": "stream",
       "stream": "stdout",
       "text": [
        "\n"
       ]
      }
     ],
     "prompt_number": 173
    },
    {
     "cell_type": "code",
     "collapsed": false,
     "input": [
      "# Visualize results\n",
      "draw_centroids_list_map(c_list)"
     ],
     "language": "python",
     "metadata": {},
     "outputs": [],
     "prompt_number": "*"
    },
    {
     "cell_type": "code",
     "collapsed": false,
     "input": [
      "# centroid assignments idx\n",
      "def get_idx(i):\n",
      "    idx = numpy.zeros(points.shape)\n",
      "    for p_i,p in enumerate(points):\n",
      "        closest_c = 0\n",
      "        smallest_error = 9999\n",
      "        for c_i,c in enumerate(c_list[i]):\n",
      "            error = weights[p_i] * error_func(p,c)\n",
      "            if error < smallest_error:\n",
      "                smallest_error = error\n",
      "                closest_c = c_i\n",
      "        idx[p_i] = closest_c\n",
      "    return idx"
     ],
     "language": "python",
     "metadata": {},
     "outputs": [],
     "prompt_number": 306
    },
    {
     "cell_type": "code",
     "collapsed": false,
     "input": [
      "# Visualize Results 2\n",
      "plt.clf()\n",
      "dot_matrix = numpy.zeros((x*2,y*2),dtype=float) - float('Inf')\n",
      "for i,a in enumerate(dot_matrix):\n",
      "    for j,b in enumerate(a):\n",
      "        if i == 0 or j == 0:\n",
      "            dot_matrix[i,j] = -10\n",
      "        if i == dot_matrix.shape[0]-1 or j == dot_matrix.shape[1]-1:\n",
      "            dot_matrix[i,j] = -10\n",
      "\n",
      "# centroids countries    \n",
      "map_image = numpy.zeros(dens_border.shape)\n",
      "map_image[numpy.nonzero(xpop)] = get_idx(-1)[:,0]\n",
      "            \n",
      "#draw final centroids\n",
      "for c in c_list[-1]:\n",
      "    map_image[c[0]-x:c[0]+x,c[1]-y:c[1]+y] = dot_matrix\n",
      "    \n",
      "# draw borders\n",
      "for i,a in enumerate(map_image):\n",
      "    for j,b in enumerate(a):\n",
      "        if border_map[i,j]:\n",
      "            map_image[i,j] = -10\n",
      "    \n",
      "imgplot = plt.imshow(map_image)\n",
      "plt.title('centroids assignments as countries')\n",
      "print \"\"\n",
      "plt.show()"
     ],
     "language": "python",
     "metadata": {},
     "outputs": [],
     "prompt_number": "*"
    },
    {
     "cell_type": "markdown",
     "metadata": {},
     "source": [
      "<h3>Part 5: Focusing on the German market (10 P)</h3>\n",
      "\n",
      "We have determined that our initial assumption that the number of customers in a country is proportional to its number of inhabitants is incorrect. Analysis has shown that customers in Germany (xnid=111), Austria(xnid=104) and Switzerland (xnid=109) are three times more likely to buy the product than customers in other countries.\n",
      "\n",
      "(a) Explain how the model should be modified to take into account this new constraint\n",
      "\n",
      "(b) Run k-means on this new problem with $k = 50$ and show the same type of map as in Part 5 for this new setting.\n",
      "\n",
      "(c) Describe the qualitative change in the allocation of factories accross Europe."
     ]
    },
    {
     "cell_type": "markdown",
     "metadata": {},
     "source": [
      "<h4>a) in order to take this new contraint into account we have to weight the points located in the defined countries more than we do normal points</h4>"
     ]
    },
    {
     "cell_type": "code",
     "collapsed": false,
     "input": [
      "iterations = 10\n",
      "\n",
      "xnid, xpop, nx,ny = getData()\n",
      "points = numpy.transpose(numpy.nonzero(xpop))\n",
      "weights = numpy.ones((points.shape[0]))\n",
      "\n",
      "#apply new weights:\n",
      "countries = xnid[numpy.nonzero(xpop)] \n",
      "weights[countries[:] == 111] = 3\n",
      "weights[countries[:] == 104] = 3\n",
      "weights[countries[:] == 109] = 3\n",
      "\n",
      "#Initialize centroids\n",
      "centroids = initialize(xpop,k)\n",
      "c_list = [numpy.array(centroids)]\n",
      "# start k-means\n",
      "for i in range(iterations):\n",
      "    print \"iteration \"+str(i)\n",
      "    centroids, J = wkmeans(centroids, points, weights)\n",
      "    c_list.append(numpy.array(centroids))\n"
     ],
     "language": "python",
     "metadata": {},
     "outputs": [
      {
       "output_type": "stream",
       "stream": "stdout",
       "text": [
        "iteration 0\n",
        "iteration 1"
       ]
      },
      {
       "output_type": "stream",
       "stream": "stdout",
       "text": [
        "\n",
        "iteration 2"
       ]
      },
      {
       "output_type": "stream",
       "stream": "stdout",
       "text": [
        "\n",
        "iteration 3"
       ]
      },
      {
       "output_type": "stream",
       "stream": "stdout",
       "text": [
        "\n",
        "iteration 4"
       ]
      },
      {
       "output_type": "stream",
       "stream": "stdout",
       "text": [
        "\n",
        "iteration 5"
       ]
      },
      {
       "output_type": "stream",
       "stream": "stdout",
       "text": [
        "\n",
        "iteration 6"
       ]
      },
      {
       "output_type": "stream",
       "stream": "stdout",
       "text": [
        "\n",
        "iteration 7"
       ]
      },
      {
       "output_type": "stream",
       "stream": "stdout",
       "text": [
        "\n",
        "iteration 8"
       ]
      },
      {
       "output_type": "stream",
       "stream": "stdout",
       "text": [
        "\n",
        "iteration 9"
       ]
      },
      {
       "output_type": "stream",
       "stream": "stdout",
       "text": [
        "\n"
       ]
      }
     ],
     "prompt_number": 14
    },
    {
     "cell_type": "code",
     "collapsed": false,
     "input": [
      "# Visualize results\n",
      "draw_centroids_list_map(c_list)"
     ],
     "language": "python",
     "metadata": {},
     "outputs": [
      {
       "output_type": "stream",
       "stream": "stdout",
       "text": [
        "[ 194.  296.] [ 194.  295.]\n",
        "[ 194.  295.] [ 194.  297.]\n",
        "[ 194.  297.] [ 194.  298.]\n",
        "[ 194.  298.] [ 193.  299.]\n",
        "[ 193.  299.] [ 193.  301.]\n",
        "[ 193.  301.] [ 193.  303.]\n",
        "[ 193.  303.]"
       ]
      },
      {
       "output_type": "stream",
       "stream": "stdout",
       "text": [
        " [ 193.  304.]\n",
        "[ 193.  304.] [ 193.  305.]\n",
        "[ 193.  305.] [ 193.  306.]\n",
        "[ 193.  306.] [ 192.  307.]\n"
       ]
      },
      {
       "output_type": "stream",
       "stream": "stdout",
       "text": [
        "\n"
       ]
      }
     ],
     "prompt_number": 15
    },
    {
     "cell_type": "markdown",
     "metadata": {},
     "source": [
      "<h3>Part 6: Shipping restrictions (10pt)</h3>\n",
      "\n",
      "Due to new shipping regulations in the EU, transporting the product across borders is now taxed heavily.\n",
      "\n",
      "(a) Explain how the new problem can be understood as a k-means problem in a higher-dimensional space (i.e. extending the original longitude/latitude two-dimensional space to more dimensions).\n",
      "\n",
      "(b) Implement the higher-dimensional k-means problem and produce a map similar to the one produced in Part 5.\n",
      "\n",
      "(c) Explain what are the qualitative difference between the distribution of factories as a function of the level of cross-border taxation."
     ]
    },
    {
     "cell_type": "code",
     "collapsed": false,
     "input": [],
     "language": "python",
     "metadata": {},
     "outputs": []
    },
    {
     "cell_type": "markdown",
     "metadata": {},
     "source": [
      "<h3>Part 7: Discussion (10pt)</h3>\n",
      "\n",
      "Discuss in approximately three paragraphs what are the advantages and limitation of the k-means model to the problem of optimal resource allocation. The discussion could cover points such as validity of the Euclidean distance as a measure of shipping cost, temporal evolution of consumer demand, supply side constraints. Then, discuss how the basic model could be extended to these more realistic scenarios."
     ]
    },
    {
     "cell_type": "markdown",
     "metadata": {},
     "source": [
      "<h3>Submission guidelines</h3>\n",
      "\n",
      "To facilitate grading, please export the notebook to PDF format. This can be done easily by installing the required packages and running\n",
      "\n",
      "**Do not upload the data**\n",
      "\n",
      "<code>ipython nbconvert --to latex sheet07.ipynb && pdflatex sheet07.tex</code>"
     ]
    }
   ],
   "metadata": {}
  }
 ]
}