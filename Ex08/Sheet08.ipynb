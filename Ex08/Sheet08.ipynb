{
 "metadata": {
  "name": ""
 },
 "nbformat": 3,
 "nbformat_minor": 0,
 "worksheets": [
  {
   "cells": [
    {
     "cell_type": "markdown",
     "metadata": {},
     "source": [
      "<h1>Exercise Sheet 07</h1>\n",
      "<h2>Expectation Maximization</h2>\n",
      "\n",
      "In this assignment we will be using the Expectation Maximization method to estimate the parameters of the three coin experiment. We will examine the results of the method for various combinations of $\\lambda$, $p_1$ and $p_2$. \n"
     ]
    },
    {
     "cell_type": "code",
     "collapsed": false,
     "input": [
      "import numpy as np\n",
      "import random as rand\n",
      "import matplotlib.pyplot as plt\n",
      "%matplotlib inline"
     ],
     "language": "python",
     "metadata": {},
     "outputs": [],
     "prompt_number": 1
    },
    {
     "cell_type": "markdown",
     "metadata": {},
     "source": [
      "<h2>Part 1: Generating the Data</h2>\n",
      "\n",
      "Implement a function which generates the data for the three coin experiment.\n",
      "\n",
      "The parameters are:\n",
      "\n",
      "- $\\lambda$ := The probability of heads on the secret coin S\n",
      "\n",
      "- $p_1$ := The probability of heads on coin A\n",
      "\n",
      "- $p_2$ := The probability of heads on coin B\n",
      "\n",
      "$N$ samples are collected the following way:\n",
      "\n",
      "- The secret coin (S) is tossed\n",
      "\n",
      "- If the result was heads, coin A is tossed $m$ times and the results are recorded\n",
      "\n",
      "- If the result was tails, coin B is tossed $m$ times and the results are recorded\n",
      "\n",
      "**Heads are recorded as 1.** \n",
      "\n",
      "**Tails are recorded as 0.**\n",
      "\n",
      "The data is returned as an **$m$x$N$** matrix, where each of the $N$ columns contains the results of the corresponding sample (generated eiher by coin A or by coin B). "
     ]
    },
    {
     "cell_type": "code",
     "collapsed": false,
     "input": [
      "def generateData(lam, p1, p2, N, M):\n",
      "    \"\"\"\n",
      "    returns: An mxN matrix, containing 1 for heads and 0 for tails.\n",
      "    \"\"\"\n",
      "    prob = [p2,p1]\n",
      "    p = 0\n",
      "    \n",
      "    data = np.zeros((M,N))\n",
      "    for j in range(N):\n",
      "        # toss S\n",
      "        # if true the index p of propabilities is set to 1 and we choose coin A \n",
      "        # otherwise its B. thats why the propabilities array is sorted [p2,p1]\n",
      "        p = rand.random() < lam\n",
      "        for i in range(M):\n",
      "            # toss A or B := prob[p]\n",
      "            data[i,j] = rand.random() < prob[p]\n",
      "    \n",
      "    return data"
     ],
     "language": "python",
     "metadata": {},
     "outputs": [],
     "prompt_number": 2
    },
    {
     "cell_type": "markdown",
     "metadata": {},
     "source": [
      "<h2>Part 2: Implementing EM for the model</h2>\n",
      "\n",
      "Implement a function which iteratively determines the values of $\\lambda$, $p_1$ and $p_2$. The function starts with some initial estimates for the parameters and returns the results of the method for those parameters.\n",
      "\n",
      "In each iteration, the following update rules are used for the parameters:\n",
      "\n",
      "<h2>$\\lambda^{new}$ $=$ $\\frac{E(\\#heads(coin\\_S))}{\\#throws(coin\\_S)}$ $=$ $\\frac{1}{N}\\sum_{i=1}^{N}\\frac{\\lambda p_1^{h(x_i)}(1-p_1)^{t(x_i)}}{\\lambda p_1^{h(x_i)}(1-p_1)^{t(x_i)}) + (1-\\lambda)p_2^{h(x_i)}(1-p_2)^{t(x_i)})}$</h2>  \n",
      "where $h(x_i)$ and $t(x_i)$ denote the number of heads and tails in sample i, respectively.\n",
      "\n",
      "<h3>Let us denote $R_1(i)$ =$\\frac{\\lambda p_1^{h(x_i)}(1-p_1)^{t(x_i)}}{\\lambda p_1^{h(x_i)}(1-p_1)^{t(x_i)}) + (1-\\lambda)p_2^{h(x_i)}(1-p_2)^{t(x_i)})}$</h3>\n",
      "\n",
      "<h3>And $R_2(i)$ = $\\frac{(1-\\lambda) p_2^{h(x_i)}(1-p_2)^{t(x_i)}}{\\lambda p_1^{h(x_i)}(1-p_1)^{t(x_i)}) + (1-\\lambda)p_2^{h(x_i)}(1-p_2)^{t(x_i)})}$</h3>\n",
      "\n",
      "The update rules for the remaining parameters are:\n",
      "\n",
      "<h2>$p_1^{new}$ $=$ $\\frac{E(\\#heads(coin\\_A))}{E(\\#throws(coin\\_A))}$ $=$ $\\frac{\\sum_{i=1}^{N}R_1(i)h(x_i)}{m\\sum_{i=1}^{N}R_1(i)}$</h2>\n",
      "\n",
      "<h2>$p_2^{new}$ $=$ $\\frac{E(\\#heads(coin\\_B))}{E(\\#throws(coin\\_B))}$ $=$ $\\frac{\\sum_{i=1}^{N}R_2(i)h(x_i)}{m\\sum_{i=1}^{N}R_2(i)}$</h2>\n",
      "\n",
      "\n",
      "Apply the update rule while |$\\lambda^{new}-\\lambda$| + |$p_1^{new}-p_1$| + |$p_2^{new}-p_2$| > t, where t is some small threshold."
     ]
    },
    {
     "cell_type": "code",
     "collapsed": false,
     "input": [
      "def EM(lam,p1,p2,X,N,M):\n",
      "    threshhold = 1e-4\n",
      "    iterations = 0\n",
      "    \n",
      "    lam_new = 0\n",
      "    p1_new = 0\n",
      "    p2_new = 0\n",
      "    # do while with break condition further down\n",
      "    while True:\n",
      "        # number of heads for every N\n",
      "        h = sum(X,0)\n",
      "        # number of tails is the number of tosses minus the number of heads for every series.\n",
      "        t = M - h\n",
      "        tmp1 = (lam*(p1**h) * ((1-p1)**t))\n",
      "        den = (tmp1 + (1 - lam)*(p2**h) * ((1-p2)**t))\n",
      "        R1 = tmp1 / den\n",
      "        lam_new = sum(R1) / N \n",
      "        tmp2 = ((1-lam)*(p2**h) * ((1-p2)**t))\n",
      "        R2 = tmp2 / den\n",
      "        p1_new = sum(R1 * h) / (M * sum(R1))\n",
      "        p2_new = sum(R2 * h) / (M * sum(R2))\n",
      "        \n",
      "        #print \"lam_new: \"+str(lam_new)\n",
      "        #print \"lam: \"+str(lam)\n",
      "        #print \"p1_new: \"+str(p1_new)\n",
      "        #print \"p1: \"+str(p1)\n",
      "        #print \"p2_new: \"+str(p2_new)\n",
      "        #print \"p2: \"+str(p2)\n",
      "        #print (abs(lam_new - lam) + abs(p1_new - p1) + abs(p2_new - p2))\n",
      "        iterations += 1\n",
      "        if abs(lam_new - lam) + abs(p1_new - p1) + abs(p2_new - p2) < threshhold:\n",
      "            break\n",
      "        else:\n",
      "            lam = float(lam_new)\n",
      "            p1 = float(p1_new)\n",
      "            p2 = float(p2_new)\n",
      "            \n",
      "    print \"EM Interations: \"+str(iterations)\n",
      "    return lam, p1,p2"
     ],
     "language": "python",
     "metadata": {},
     "outputs": [],
     "prompt_number": 45
    },
    {
     "cell_type": "markdown",
     "metadata": {},
     "source": [
      "<h2>Part 3: Testing the Solution</h2>\n",
      "\n",
      "Examine how the method behaves w.r.t varying parameters of the generated data. For each combination you test, generate the data once and run EM 20 times with different random initialization values (the values you feed into the EM function). Then show the following in one plot for every estimated parameter separately (total of 3 plots) ($\\lambda$,$p_1$,$p_2$):\n",
      "\n",
      "- the true value (mark it with a star)\n",
      "\n",
      "- the mean (mark it with a circle)\n",
      "\n",
      "- mean + standard deviation\n",
      "\n",
      "- mean - standard deviation\n",
      "\n",
      "- minimum\n",
      "\n",
      "- maximum\n",
      "\n",
      "Add the hyperparameters to the x axis (for example using xtick).\n",
      "\n",
      "Take care that the following may occur: if the true parameters are ($\\lambda$,$p_1$,$p_2$) = (0.3,0.7,0.4) the method may estimate (0.7,0.4,0.7), i.e. determine (1-$\\lambda$) and swap the values of coins A and B. Account for this in your solution"
     ]
    },
    {
     "cell_type": "code",
     "collapsed": false,
     "input": [
      "sets = np.array([[0.5, 0.9, 0.3],[0.5,0.7,0.4], [0.5,0.6,0.5], [0.5,0.55,0.45], [0.8, 0.7,0.4], \n",
      "                 [0.8,0.6,0.4],[0.8,0.5,0.45], [0.8, 0.51,0.49], [0.6, 0.5, 0.3], [0.1,0.5,0.3]])\n",
      "set_labels = ['lam', 'p1', 'p2']\n",
      "N = 20\n",
      "M = 10\n",
      "for sample in sets:\n",
      "    results = []\n",
      "    lam = sample[0]\n",
      "    p1 = sample[1]\n",
      "    p2 = sample[2]\n",
      "    # generate the data\n",
      "    old_res = (0,0,0)\n",
      "    data = generateData(lam, p1, p2, N, M)\n",
      "    # run EM 20 times\n",
      "    for i in range(20):\n",
      "        # generate random initialization values\n",
      "        init_lam, init_p1, init_p2 = rand.random(), rand.random(), rand.random()\n",
      "        # run EM\n",
      "        res = list(EM(init_lam,init_p1,init_p2,data,N,M))\n",
      "        # maybe the results switched p1 and p2\n",
      "        if abs(old_res[1] - res[2]) < abs(old_res[1] - res[1]):\n",
      "            res[1], res[2] = res[2], res[1]\n",
      "            res[0] = 1 - res[0]\n",
      "        results.append(res)\n",
      "        old_res = res\n",
      "    \n",
      "    results = (np.array(results)).T\n",
      "    print \"results pre: \"+str(results)\n",
      "    \n",
      "    # maybe the results switched p1 and p2\n",
      "    means = sum(results.T)/len(results[0])\n",
      "    print \"means pre: \"+str(means)\n",
      "    if abs(means[1]-sample[2]) < abs(means[1]-sample[1]):\n",
      "        # exchange the results if so\n",
      "        print \"exchange results\"\n",
      "        means[1], means[2] = means[2], means[1]\n",
      "        results[1], results[2] = np.array(results[2]), np.array(results[1])\n",
      "        \n",
      "    if abs(means[0] - sample[0]) > abs(1-means[0]-sample[0]):\n",
      "        print \"exchange lambda\"\n",
      "        results[0] = 1-results[0]\n",
      "        means[0] = 1-means[0]\n",
      "\n",
      "    print \"results post: \"+str(results)\n",
      "    print \"means post: \"+str(means)\n",
      "    print \"samples post: \"+str(sample)\n",
      "    \n",
      "    # plot the EM generated parameters \n",
      "    f, ax = plt.subplots(3, sharex=True)\n",
      "    #plt.title(\"lam: \"+str(sample[0])+\", p1: \"+str(sample[1])+\", p2: \"+str(sample[2]))\n",
      "    ax[0].set_title(\"lam: \"+str(sample[0])+\", p1: \"+str(sample[1])+\", p2: \"+str(sample[2]))\n",
      "    for i in range(3):\n",
      "        ax[i].plot(results[i], np.zeros(results[i].shape), marker = '+')\n",
      "        # - the true value (mark it with a star)\n",
      "        ax[i].plot(sample[i], 0, marker = '*')\n",
      "        # - the mean (mark it with a circle)\n",
      "        ax[i].plot(means[i], 0, marker = 'o')\n",
      "        # - mean + standard deviation\n",
      "        # - mean - standard deviation\n",
      "        # - minimum\n",
      "        # - maximum\n",
      "        # Add the hyperparameters to the x axis (for example using xtick).\n",
      "        \n",
      "        ax[i].set_xticks([0,sample[0],sample[1],sample[2],1])\n",
      "        ax[i].set_xticklabels(['0',str(set_labels[0])+'\\n'+str(sample[0]),str(set_labels[1])+'\\n'+str(sample[1]),str(set_labels[2])+'\\n'+str(sample[2]),'1'])\n",
      "        ax[i].set_yticks([0])\n",
      "        ax[i].set_yticklabels(' ')\n",
      "        ax[i].set_autoscalex_on(False)\n",
      "        ax[i].set_xlim([0,1])\n",
      "    plt.show()\n",
      "    "
     ],
     "language": "python",
     "metadata": {},
     "outputs": [
      {
       "output_type": "stream",
       "stream": "stdout",
       "text": [
        "EM Interations: 16\n",
        "EM Interations: 13\n",
        "EM Interations: 14\n",
        "EM Interations: 11\n",
        "EM Interations: 15\n",
        "EM Interations: 12\n",
        "EM Interations: 12\n",
        "EM Interations: 9\n",
        "EM Interations: 9\n",
        "EM Interations: 10\n",
        "EM Interations: 15\n",
        "EM Interations: 12\n",
        "EM Interations: 11\n",
        "EM Interations: 10\n",
        "EM Interations: 7\n",
        "EM Interations: 13\n",
        "EM Interations: 15\n",
        "EM Interations: 12\n",
        "EM Interations: 9\n",
        "EM Interations: 11\n",
        "results pre: [[ 0.59342732  0.59341095  0.59343275  0.59342375  0.5934289   0.59343024\n",
        "   0.59340839  0.59351686  0.59352983  0.59343334  0.59340823  0.59342351\n",
        "   0.59342701  0.59351528  0.59349903  0.59343955  0.59342212  0.5934394\n",
        "   0.59342702  0.5934104 ]\n",
        " [ 0.33990762  0.33989955  0.3399103   0.33990586  0.3399084   0.33990906\n",
        "   0.33989828  0.33995185  0.33995825  0.3399106   0.3398982   0.33990575\n",
        "   0.33990747  0.33995106  0.33994303  0.33991366  0.33990506  0.33991359\n",
        "   0.33990747  0.33989927]\n",
        " [ 0.90583934  0.90582835  0.90584299  0.90583694  0.90584041  0.9058413\n",
        "   0.90582663  0.90589944  0.90590813  0.90584339  0.90582652  0.90583679\n",
        "   0.90583914  0.90589838  0.90588748  0.90584756  0.90583585  0.90584746\n",
        "   0.90583914  0.90582798]]\n",
        "means pre: [ 0.59344269  0.33991522  0.90584966]\n",
        "exchange results\n",
        "results post: [[ 0.59342732  0.59341095  0.59343275  0.59342375  0.5934289   0.59343024\n",
        "   0.59340839  0.59351686  0.59352983  0.59343334  0.59340823  0.59342351\n",
        "   0.59342701  0.59351528  0.59349903  0.59343955  0.59342212  0.5934394\n",
        "   0.59342702  0.5934104 ]\n",
        " [ 0.90583934  0.90582835  0.90584299  0.90583694  0.90584041  0.9058413\n",
        "   0.90582663  0.90589944  0.90590813  0.90584339  0.90582652  0.90583679\n",
        "   0.90583914  0.90589838  0.90588748  0.90584756  0.90583585  0.90584746\n",
        "   0.90583914  0.90582798]\n",
        " [ 0.33990762  0.33989955  0.3399103   0.33990586  0.3399084   0.33990906\n",
        "   0.33989828  0.33995185  0.33995825  0.3399106   0.3398982   0.33990575\n",
        "   0.33990747  0.33995106  0.33994303  0.33991366  0.33990506  0.33991359\n",
        "   0.33990747  0.33989927]]\n",
        "means post: [ 0.59344269  0.90584966  0.33991522]\n",
        "samples post: [ 0.5  0.9  0.3]\n"
       ]
      },
      {
       "metadata": {},
       "output_type": "display_data",
       "png": "[encoded data removed]",
       "text": [
        "<matplotlib.figure.Figure at 0x4cbff10>"
       ]
      },
      {
       "output_type": "stream",
       "stream": "stdout",
       "text": [
        "EM Interations: 21\n",
        "EM Interations: 86\n",
        "EM Interations: 85\n",
        "EM Interations: 101\n",
        "EM Interations: 62"
       ]
      },
      {
       "output_type": "stream",
       "stream": "stdout",
       "text": [
        "\n",
        "EM Interations: 76\n",
        "EM Interations: 81\n",
        "EM Interations: 65\n",
        "EM Interations: 34\n",
        "EM Interations: 29\n",
        "EM Interations: 69\n",
        "EM Interations: 70"
       ]
      },
      {
       "output_type": "stream",
       "stream": "stdout",
       "text": [
        "\n",
        "EM Interations: 69\n",
        "EM Interations: 62\n",
        "EM Interations: 72\n",
        "EM Interations: 85\n",
        "EM Interations: 60\n",
        "EM Interations: 55"
       ]
      },
      {
       "output_type": "stream",
       "stream": "stdout",
       "text": [
        "\n",
        "EM Interations: 62\n",
        "EM Interations: 49\n",
        "results pre: [[ 0.5915767   0.59155074  0.59156567  0.59157905  0.59157668  0.59299683\n",
        "   0.59160734  0.59300853  0.59159821  0.59156334  0.59302223  0.59301376\n",
        "   0.59156947  0.59157926  0.59158911  0.59157219  0.59157041  0.5930062\n",
        "   0.59160758  0.59156742]\n",
        " [ 0.43550276  0.43549625  0.4355      0.43550335  0.43550276  0.43585911\n",
        "   0.43551045  0.43586204  0.43550816  0.43549941  0.43586548  0.43586336\n",
        "   0.43550095  0.43550341  0.43550588  0.43550163  0.43550119  0.43586146\n",
        "   0.43551051  0.43550044]\n",
        " [ 0.70360019  0.70359258  0.70359696  0.70360088  0.70360018  0.70401646\n",
        "   0.70360917  0.70401989  0.7036065   0.70359628  0.70402391  0.70402142\n",
        "   0.70359807  0.70360094  0.70360383  0.70359887  0.70359835  0.70401921\n",
        "   0.70360924  0.70359747]]\n",
        "means pre: [ 0.59193604  0.43559293  0.70370552]\n",
        "exchange results\n",
        "results post: [[ 0.5915767   0.59155074  0.59156567  0.59157905  0.59157668  0.59299683\n",
        "   0.59160734  0.59300853  0.59159821  0.59156334  0.59302223  0.59301376\n",
        "   0.59156947  0.59157926  0.59158911  0.59157219  0.59157041  0.5930062\n",
        "   0.59160758  0.59156742]\n",
        " [ 0.70360019  0.70359258  0.70359696  0.70360088  0.70360018  0.70401646\n",
        "   0.70360917  0.70401989  0.7036065   0.70359628  0.70402391  0.70402142\n",
        "   0.70359807  0.70360094  0.70360383  0.70359887  0.70359835  0.70401921\n",
        "   0.70360924  0.70359747]\n",
        " [ 0.43550276  0.43549625  0.4355      0.43550335  0.43550276  0.43585911\n",
        "   0.43551045  0.43586204  0.43550816  0.43549941  0.43586548  0.43586336\n",
        "   0.43550095  0.43550341  0.43550588  0.43550163  0.43550119  0.43586146\n",
        "   0.43551051  0.43550044]]\n",
        "means post: [ 0.59193604  0.70370552  0.43559293]\n",
        "samples post: [ 0.5  0.7  0.4]\n"
       ]
      },
      {
       "metadata": {},
       "output_type": "display_data",
       "png": "[encoded data removed]",
       "text": [
        "<matplotlib.figure.Figure at 0x34f4e10>"
       ]
      },
      {
       "output_type": "stream",
       "stream": "stdout",
       "text": [
        "EM Interations: 36\n",
        "EM Interations: 10\n",
        "EM Interations: 37\n",
        "EM Interations: 21\n",
        "EM Interations: 53\n",
        "EM Interations: 36\n",
        "EM Interations: 38\n",
        "EM Interations: 38\n",
        "EM Interations: 16\n",
        "EM Interations: 39\n",
        "EM Interations: 37\n",
        "EM Interations: 37\n",
        "EM Interations: 12\n",
        "EM Interations: 37"
       ]
      },
      {
       "output_type": "stream",
       "stream": "stdout",
       "text": [
        "\n",
        "EM Interations: 16\n",
        "EM Interations: 18\n",
        "EM Interations: 39\n",
        "EM Interations: 51\n",
        "EM Interations: 38\n",
        "EM Interations: 39\n",
        "results pre: [[ 0.97993331  0.97069259  0.11587741  0.97072308  0.88877446  0.98457672\n",
        "   0.95813188  0.99555722  0.9707056   0.51229732  0.25405392  0.17583808\n",
        "   0.97070742  0.05546348  0.97071765  0.97072387  0.02573279  0.88392797\n",
        "   0.91029804  0.44960623]\n",
        " [ 0.48998519  0.50126349  0.49070612  0.50125232  0.49008227  0.48998807\n",
        "   0.48996673  0.48999649  0.5012585   0.49035272  0.49052968  0.49063136\n",
        "   0.50125782  0.49071677  0.50125426  0.50125206  0.49074473  0.4900916\n",
        "   0.48993511  0.48959483]\n",
        " [ 0.49072304  0.11694113  0.48990745  0.11691127  0.48934263  0.49076146\n",
        "   0.49076131  0.49078712  0.11693605  0.48962949  0.4898196   0.4898653\n",
        "   0.11693477  0.48995791  0.11691822  0.11690968  0.48998033  0.4893024\n",
        "   0.49065853  0.49033098]]\n",
        "means pre: [ 0.70071695  0.49354301  0.37816893]\n",
        "exchange results\n",
        "results post: [[ 0.97993331  0.97069259  0.11587741  0.97072308  0.88877446  0.98457672\n",
        "   0.95813188  0.99555722  0.9707056   0.51229732  0.25405392  0.17583808\n",
        "   0.97070742  0.05546348  0.97071765  0.97072387  0.02573279  0.88392797\n",
        "   0.91029804  0.44960623]\n",
        " [ 0.49072304  0.11694113  0.48990745  0.11691127  0.48934263  0.49076146\n",
        "   0.49076131  0.49078712  0.11693605  0.48962949  0.4898196   0.4898653\n",
        "   0.11693477  0.48995791  0.11691822  0.11690968  0.48998033  0.4893024\n",
        "   0.49065853  0.49033098]\n",
        " [ 0.48998519  0.50126349  0.49070612  0.50125232  0.49008227  0.48998807\n",
        "   0.48996673  0.48999649  0.5012585   0.49035272  0.49052968  0.49063136\n",
        "   0.50125782  0.49071677  0.50125426  0.50125206  0.49074473  0.4900916\n",
        "   0.48993511  0.48959483]]\n",
        "means post: [ 0.70071695  0.37816893  0.49354301]\n",
        "samples post: [ 0.5  0.6  0.5]\n"
       ]
      },
      {
       "metadata": {},
       "output_type": "display_data",
       "png": "[encoded data removed]",
       "text": [
        "<matplotlib.figure.Figure at 0x20d6290>"
       ]
      },
      {
       "output_type": "stream",
       "stream": "stdout",
       "text": [
        "EM Interations: 410\n",
        "EM Interations: 538"
       ]
      },
      {
       "output_type": "stream",
       "stream": "stdout",
       "text": [
        "\n",
        "EM Interations: 311\n",
        "EM Interations: 68"
       ]
      },
      {
       "output_type": "stream",
       "stream": "stdout",
       "text": [
        "\n",
        "EM Interations: 419"
       ]
      },
      {
       "output_type": "stream",
       "stream": "stdout",
       "text": [
        "\n",
        "EM Interations: 237\n",
        "EM Interations: 831"
       ]
      },
      {
       "output_type": "stream",
       "stream": "stdout",
       "text": [
        "\n",
        "EM Interations: 69\n",
        "EM Interations: 592"
       ]
      },
      {
       "output_type": "stream",
       "stream": "stdout",
       "text": [
        "\n",
        "EM Interations: 440"
       ]
      },
      {
       "output_type": "stream",
       "stream": "stdout",
       "text": [
        "\n",
        "EM Interations: 805"
       ]
      },
      {
       "output_type": "stream",
       "stream": "stdout",
       "text": [
        "\n",
        "EM Interations: 152\n",
        "EM Interations: 356"
       ]
      },
      {
       "output_type": "stream",
       "stream": "stdout",
       "text": [
        "\n",
        "EM Interations: 289\n",
        "EM Interations: 287"
       ]
      },
      {
       "output_type": "stream",
       "stream": "stdout",
       "text": [
        "\n",
        "EM Interations: 495"
       ]
      },
      {
       "output_type": "stream",
       "stream": "stdout",
       "text": [
        "\n",
        "EM Interations: 24\n",
        "EM Interations: 618"
       ]
      },
      {
       "output_type": "stream",
       "stream": "stdout",
       "text": [
        "\n",
        "EM Interations: 738"
       ]
      },
      {
       "output_type": "stream",
       "stream": "stdout",
       "text": [
        "\n",
        "EM Interations: 196\n",
        "results pre: [[ 0.86139163  0.86133643  0.86134466  0.87122332  0.86135139  0.8613468\n",
        "   0.86137844  0.12016446  0.86133531  0.8613798   0.86133826  0.86135834\n",
        "   0.86134838  0.86137501  0.86138787  0.86137239  0.86971778  0.86138672\n",
        "   0.86134761  0.87120505]\n",
        " [ 0.45340649  0.45340031  0.45340123  0.45453964  0.45340198  0.45340147\n",
        "   0.45340501  0.44050142  0.45340018  0.45340517  0.45340051  0.45340276\n",
        "   0.45340165  0.45340463  0.45340607  0.45340434  0.45440654  0.45340594\n",
        "   0.45340156  0.45453749]\n",
        " [ 0.6091944   0.6091708   0.60917432  0.61342214  0.6091772   0.60917523\n",
        "   0.60918876  0.47971168  0.60917032  0.60918934  0.60917158  0.60918017\n",
        "   0.60917591  0.6091873   0.6091928   0.60918618  0.61247459  0.6091923\n",
        "   0.60917558  0.61341414]]\n",
        "means pre: [ 0.82570448  0.45292172  0.60329624]\n",
        "exchange results\n",
        "results post: [[ 0.86139163  0.86133643  0.86134466  0.87122332  0.86135139  0.8613468\n",
        "   0.86137844  0.12016446  0.86133531  0.8613798   0.86133826  0.86135834\n",
        "   0.86134838  0.86137501  0.86138787  0.86137239  0.86971778  0.86138672\n",
        "   0.86134761  0.87120505]\n",
        " [ 0.6091944   0.6091708   0.60917432  0.61342214  0.6091772   0.60917523\n",
        "   0.60918876  0.47971168  0.60917032  0.60918934  0.60917158  0.60918017\n",
        "   0.60917591  0.6091873   0.6091928   0.60918618  0.61247459  0.6091923\n",
        "   0.60917558  0.61341414]\n",
        " [ 0.45340649  0.45340031  0.45340123  0.45453964  0.45340198  0.45340147\n",
        "   0.45340501  0.44050142  0.45340018  0.45340517  0.45340051  0.45340276\n",
        "   0.45340165  0.45340463  0.45340607  0.45340434  0.45440654  0.45340594\n",
        "   0.45340156  0.45453749]]\n",
        "means post: [ 0.82570448  0.60329624  0.45292172]\n",
        "samples post: [ 0.5   0.55  0.45]\n"
       ]
      },
      {
       "metadata": {},
       "output_type": "display_data",
       "png": "[encoded data removed]",
       "text": [
        "<matplotlib.figure.Figure at 0x4cc29d0>"
       ]
      },
      {
       "output_type": "stream",
       "stream": "stdout",
       "text": [
        "EM Interations: 11\n",
        "EM Interations: 11\n",
        "EM Interations: 11\n",
        "EM Interations: 11\n",
        "EM Interations: 2\n",
        "EM Interations: 11\n",
        "EM Interations: 11\n",
        "EM Interations: 11\n",
        "EM Interations: 12\n",
        "EM Interations: 12\n",
        "EM Interations: 13\n",
        "EM Interations: 11\n",
        "EM Interations: 11\n",
        "EM Interations: 12\n",
        "EM Interations: 11\n",
        "EM Interations: 13\n",
        "EM Interations: 12\n",
        "EM Interations: 13\n",
        "EM Interations: 12\n",
        "EM Interations: 11\n",
        "results pre: [[  5.78590764e-01   7.48963574e-02   3.91215132e-04   5.80836872e-02\n",
        "    6.75403480e-01   9.45767060e-01   9.87726845e-01   8.76587925e-01\n",
        "    5.08921043e-01   5.05692551e-01   1.53498064e-01   7.60409149e-01\n",
        "    9.00016207e-01   6.23341116e-01   9.24700514e-01   9.34485404e-01\n",
        "    7.82927041e-01   8.86704147e-01   6.58789425e-01   8.04570966e-01]\n",
        " [  6.44917588e-01   6.44885160e-01   6.44832949e-01   6.44836867e-01\n",
        "    6.44938962e-01   6.45010256e-01   6.45001518e-01   6.45014672e-01\n",
        "    6.45055931e-01   6.45051400e-01   6.45101687e-01   6.45037213e-01\n",
        "    6.45012873e-01   6.44956129e-01   6.45010995e-01   6.44987970e-01\n",
        "    6.44964358e-01   6.44983005e-01   6.44957014e-01   6.45036751e-01]\n",
        " [  6.45113151e-01   6.45009297e-01   6.45000065e-01   6.45010060e-01\n",
        "    6.45127004e-01   6.44821147e-01   6.44877851e-01   6.44895783e-01\n",
        "    6.44942037e-01   6.44947417e-01   6.44981561e-01   6.44881893e-01\n",
        "    6.44884123e-01   6.45072603e-01   6.44864976e-01   6.45171598e-01\n",
        "    6.45128551e-01   6.45133008e-01   6.45082994e-01   6.44848700e-01]]\n",
        "means pre: [ 0.63207515  0.64497966  0.64498969]\n",
        "results post: [[  5.78590764e-01   7.48963574e-02   3.91215132e-04   5.80836872e-02\n",
        "    6.75403480e-01   9.45767060e-01   9.87726845e-01   8.76587925e-01\n",
        "    5.08921043e-01   5.05692551e-01   1.53498064e-01   7.60409149e-01\n",
        "    9.00016207e-01   6.23341116e-01   9.24700514e-01   9.34485404e-01\n",
        "    7.82927041e-01   8.86704147e-01   6.58789425e-01   8.04570966e-01]\n",
        " [  6.44917588e-01   6.44885160e-01   6.44832949e-01   6.44836867e-01\n",
        "    6.44938962e-01   6.45010256e-01   6.45001518e-01   6.45014672e-01\n",
        "    6.45055931e-01   6.45051400e-01   6.45101687e-01   6.45037213e-01\n",
        "    6.45012873e-01   6.44956129e-01   6.45010995e-01   6.44987970e-01\n",
        "    6.44964358e-01   6.44983005e-01   6.44957014e-01   6.45036751e-01]\n",
        " [  6.45113151e-01   6.45009297e-01   6.45000065e-01   6.45010060e-01\n",
        "    6.45127004e-01   6.44821147e-01   6.44877851e-01   6.44895783e-01\n",
        "    6.44942037e-01   6.44947417e-01   6.44981561e-01   6.44881893e-01\n",
        "    6.44884123e-01   6.45072603e-01   6.44864976e-01   6.45171598e-01\n",
        "    6.45128551e-01   6.45133008e-01   6.45082994e-01   6.44848700e-01]]\n",
        "means post: [ 0.63207515  0.64497966  0.64498969]\n",
        "samples post: [ 0.8  0.7  0.4]\n"
       ]
      },
      {
       "metadata": {},
       "output_type": "display_data",
       "png": "[encoded data removed]",
       "text": [
        "<matplotlib.figure.Figure at 0x414b550>"
       ]
      },
      {
       "output_type": "stream",
       "stream": "stdout",
       "text": [
        "EM Interations: 55\n",
        "EM Interations: 10\n",
        "EM Interations: 61\n",
        "EM Interations: 41\n",
        "EM Interations: 8\n",
        "EM Interations: 13\n",
        "EM Interations: 16\n",
        "EM Interations: 17\n",
        "EM Interations: 21\n",
        "EM Interations: 26\n",
        "EM Interations: 9\n",
        "EM Interations: 10\n",
        "EM Interations: 18\n",
        "EM Interations: 24\n",
        "EM Interations: 26\n",
        "EM Interations: 19\n",
        "EM Interations: 18\n",
        "EM Interations: 5\n",
        "EM Interations: 8\n",
        "EM Interations: 9\n",
        "results pre: [[ 0.14290136  0.1428314   0.14290468  0.14291476  0.14282421  0.14292103\n",
        "   0.14289289  0.14290828  0.14289923  0.14289811  0.14288768  0.14280938\n",
        "   0.14288985  0.14291385  0.14290175  0.14291337  0.14292352  0.14286722\n",
        "   0.14291881  0.14290812]\n",
        " [ 0.176307    0.17621413  0.17631147  0.17632505  0.1762048   0.17633358\n",
        "   0.17629562  0.17631631  0.17630414  0.17630263  0.17628862  0.17618551\n",
        "   0.17629155  0.17632382  0.17630752  0.17632317  0.17633688  0.17621297\n",
        "   0.1763304   0.17631608]\n",
        " [ 0.62980556  0.62978402  0.62980658  0.62980964  0.62978177  0.62981154\n",
        "   0.62980298  0.62980767  0.62980491  0.62980457  0.62980139  0.62977714\n",
        "   0.62980205  0.62980937  0.62980568  0.62980922  0.62981231  0.62980317\n",
        "   0.62981089  0.62980763]]\n",
        "means pre: [ 0.14289148  0.17629156  0.6298029 ]\n",
        "exchange results\n",
        "exchange lambda\n",
        "results post: [[ 0.85709864  0.8571686   0.85709532  0.85708524  0.85717579  0.85707897\n",
        "   0.85710711  0.85709172  0.85710077  0.85710189  0.85711232  0.85719062\n",
        "   0.85711015  0.85708615  0.85709825  0.85708663  0.85707648  0.85713278\n",
        "   0.85708119  0.85709188]\n",
        " [ 0.62980556  0.62978402  0.62980658  0.62980964  0.62978177  0.62981154\n",
        "   0.62980298  0.62980767  0.62980491  0.62980457  0.62980139  0.62977714\n",
        "   0.62980205  0.62980937  0.62980568  0.62980922  0.62981231  0.62980317\n",
        "   0.62981089  0.62980763]\n",
        " [ 0.176307    0.17621413  0.17631147  0.17632505  0.1762048   0.17633358\n",
        "   0.17629562  0.17631631  0.17630414  0.17630263  0.17628862  0.17618551\n",
        "   0.17629155  0.17632382  0.17630752  0.17632317  0.17633688  0.17621297\n",
        "   0.1763304   0.17631608]]\n",
        "means post: [ 0.85710852  0.6298029   0.17629156]\n",
        "samples post: [ 0.8  0.6  0.4]"
       ]
      },
      {
       "output_type": "stream",
       "stream": "stdout",
       "text": [
        "\n"
       ]
      },
      {
       "metadata": {},
       "output_type": "display_data",
       "png": "[encoded data removed]",
       "text": [
        "<matplotlib.figure.Figure at 0x4e83810>"
       ]
      },
      {
       "output_type": "stream",
       "stream": "stdout",
       "text": [
        "EM Interations: 8\n",
        "EM Interations: 7\n",
        "EM Interations: 9\n",
        "EM Interations: 9\n",
        "EM Interations: 9\n",
        "EM Interations: 9\n",
        "EM Interations: 9\n",
        "EM Interations: 8\n",
        "EM Interations: 8\n",
        "EM Interations: 7\n",
        "EM Interations: 8\n",
        "EM Interations: 5\n",
        "EM Interations: 9\n",
        "EM Interations: 8\n",
        "EM Interations: 5\n",
        "EM Interations: 8\n",
        "EM Interations: 7\n",
        "EM Interations: 7\n",
        "EM Interations: 8\n",
        "EM Interations: 8\n",
        "results pre: [[  1.20120612e-02   2.03145243e-01   2.71065404e-01   9.25213754e-01\n",
        "    9.52051328e-01   6.55819857e-01   5.12491900e-01   9.96270356e-01\n",
        "    7.49836699e-01   4.91686746e-01   3.50697212e-05   5.59055263e-01\n",
        "    9.95544279e-01   8.88968526e-01   4.50514271e-01   6.92101069e-01\n",
        "    6.99312015e-01   6.81967164e-01   8.80658371e-01   4.67659309e-01]\n",
        " [  5.04875206e-01   5.04917966e-01   5.04955046e-01   5.04991435e-01\n",
        "    5.04994970e-01   5.05018945e-01   5.05029817e-01   5.05000315e-01\n",
        "    5.04971909e-01   5.04939321e-01   5.04886209e-01   5.04965789e-01\n",
        "    5.04999441e-01   5.05012061e-01   5.05065745e-01   5.05017862e-01\n",
        "    5.05026304e-01   5.05039216e-01   5.05014336e-01   5.05045189e-01]\n",
        " [  5.05001517e-01   5.05020913e-01   5.05016717e-01   5.05105967e-01\n",
        "    5.05099877e-01   5.04963901e-01   5.04968655e-01   5.04915734e-01\n",
        "    5.05084200e-01   5.05058694e-01   5.05000004e-01   5.05043375e-01\n",
        "    5.05124947e-01   5.04903436e-01   5.04946097e-01   5.04959849e-01\n",
        "    5.04938823e-01   5.04915908e-01   5.04894208e-01   5.04960301e-01]]\n",
        "means pre: [ 0.60427043  0.50498835  0.50499616]\n",
        "results post: [[  1.20120612e-02   2.03145243e-01   2.71065404e-01   9.25213754e-01\n",
        "    9.52051328e-01   6.55819857e-01   5.12491900e-01   9.96270356e-01\n",
        "    7.49836699e-01   4.91686746e-01   3.50697212e-05   5.59055263e-01\n",
        "    9.95544279e-01   8.88968526e-01   4.50514271e-01   6.92101069e-01\n",
        "    6.99312015e-01   6.81967164e-01   8.80658371e-01   4.67659309e-01]\n",
        " [  5.04875206e-01   5.04917966e-01   5.04955046e-01   5.04991435e-01\n",
        "    5.04994970e-01   5.05018945e-01   5.05029817e-01   5.05000315e-01\n",
        "    5.04971909e-01   5.04939321e-01   5.04886209e-01   5.04965789e-01\n",
        "    5.04999441e-01   5.05012061e-01   5.05065745e-01   5.05017862e-01\n",
        "    5.05026304e-01   5.05039216e-01   5.05014336e-01   5.05045189e-01]\n",
        " [  5.05001517e-01   5.05020913e-01   5.05016717e-01   5.05105967e-01\n",
        "    5.05099877e-01   5.04963901e-01   5.04968655e-01   5.04915734e-01\n",
        "    5.05084200e-01   5.05058694e-01   5.05000004e-01   5.05043375e-01\n",
        "    5.05124947e-01   5.04903436e-01   5.04946097e-01   5.04959849e-01\n",
        "    5.04938823e-01   5.04915908e-01   5.04894208e-01   5.04960301e-01]]\n",
        "means post: [ 0.60427043  0.50498835  0.50499616]\n",
        "samples post: [ 0.8   0.5   0.45]\n"
       ]
      },
      {
       "metadata": {},
       "output_type": "display_data",
       "png": "[encoded data removed]",
       "text": [
        "<matplotlib.figure.Figure at 0x3516650>"
       ]
      },
      {
       "output_type": "stream",
       "stream": "stdout",
       "text": [
        "EM Interations: 93\n",
        "EM Interations: 95\n",
        "EM Interations: 106\n",
        "EM Interations: 74\n",
        "EM Interations: 31\n",
        "EM Interations: 115"
       ]
      },
      {
       "output_type": "stream",
       "stream": "stdout",
       "text": [
        "\n",
        "EM Interations: 69\n",
        "EM Interations: 118\n",
        "EM Interations: 129\n",
        "EM Interations: 84"
       ]
      },
      {
       "output_type": "stream",
       "stream": "stdout",
       "text": [
        "\n",
        "EM Interations: 110\n",
        "EM Interations: 106\n",
        "EM Interations: 65\n",
        "EM Interations: 90\n",
        "EM Interations: 92"
       ]
      },
      {
       "output_type": "stream",
       "stream": "stdout",
       "text": [
        "\n",
        "EM Interations: 61\n",
        "EM Interations: 115\n",
        "EM Interations: 114\n",
        "EM Interations: 93\n",
        "EM Interations: 113"
       ]
      },
      {
       "output_type": "stream",
       "stream": "stdout",
       "text": [
        "\n",
        "results pre: [[ 0.3748976   0.37280754  0.37490438  0.37284459  0.37285456  0.37489801\n",
        "   0.37285095  0.37493851  0.37493277  0.37493825  0.37490396  0.37489062\n",
        "   0.37281858  0.3728566   0.37282893  0.372817    0.37489125  0.3748952\n",
        "   0.37281833  0.37492169]\n",
        " [ 0.2768312   0.27615249  0.2768334   0.27616453  0.27616777  0.27683133\n",
        "   0.27616659  0.27684447  0.27684261  0.27684439  0.27683326  0.27682894\n",
        "   0.27615608  0.27616843  0.27615944  0.27615556  0.27682914  0.27683042\n",
        "   0.27615599  0.27683902]\n",
        " [ 0.53785851  0.5373921   0.53786002  0.53740037  0.5374026   0.5378586\n",
        "   0.53740179  0.53786763  0.53786635  0.53786758  0.53785993  0.53785696\n",
        "   0.53739456  0.53740305  0.53739687  0.53739421  0.5378571   0.53785798\n",
        "   0.53739451  0.53786388]]\n",
        "means pre: [ 0.37397547  0.27653175  0.53765273]\n",
        "exchange results\n",
        "exchange lambda\n",
        "results post: [[ 0.6251024   0.62719246  0.62509562  0.62715541  0.62714544  0.62510199\n",
        "   0.62714905  0.62506149  0.62506723  0.62506175  0.62509604  0.62510938\n",
        "   0.62718142  0.6271434   0.62717107  0.627183    0.62510875  0.6251048\n",
        "   0.62718167  0.62507831]\n",
        " [ 0.53785851  0.5373921   0.53786002  0.53740037  0.5374026   0.5378586\n",
        "   0.53740179  0.53786763  0.53786635  0.53786758  0.53785993  0.53785696\n",
        "   0.53739456  0.53740305  0.53739687  0.53739421  0.5378571   0.53785798\n",
        "   0.53739451  0.53786388]\n",
        " [ 0.2768312   0.27615249  0.2768334   0.27616453  0.27616777  0.27683133\n",
        "   0.27616659  0.27684447  0.27684261  0.27684439  0.27683326  0.27682894\n",
        "   0.27615608  0.27616843  0.27615944  0.27615556  0.27682914  0.27683042\n",
        "   0.27615599  0.27683902]]\n",
        "means post: [ 0.62602453  0.53765273  0.27653175]\n",
        "samples post: [ 0.8   0.51  0.49]\n"
       ]
      },
      {
       "metadata": {},
       "output_type": "display_data",
       "png": "[encoded data removed]",
       "text": [
        "<matplotlib.figure.Figure at 0x4e65bd0>"
       ]
      },
      {
       "output_type": "stream",
       "stream": "stdout",
       "text": [
        "EM Interations: 53\n",
        "EM Interations: 12\n",
        "EM Interations: 24\n",
        "EM Interations: 28\n",
        "EM Interations: 25\n",
        "EM Interations: 33\n",
        "EM Interations: 18\n",
        "EM Interations: 19\n",
        "EM Interations: 23\n",
        "EM Interations: 32\n",
        "EM Interations: 47\n",
        "EM Interations: 37\n",
        "EM Interations: 14\n",
        "EM Interations: 74\n",
        "EM Interations: 23"
       ]
      },
      {
       "output_type": "stream",
       "stream": "stdout",
       "text": [
        "\n",
        "EM Interations: 73\n",
        "EM Interations: 9\n",
        "EM Interations: 22\n",
        "EM Interations: 36\n",
        "EM Interations: 25\n",
        "results pre: [[  8.30560741e-01   9.55044667e-01   8.30575075e-01   8.30547300e-01\n",
        "    8.30587846e-01   9.55045354e-01   8.30920096e-01   8.30900271e-01\n",
        "    8.30578000e-01   8.30585415e-01   8.30585015e-01   8.30556017e-01\n",
        "    9.55030713e-01   8.30582599e-01   8.30572103e-01   8.30574535e-01\n",
        "    9.55062939e-01   8.30910210e-01   8.30926424e-01   8.30918545e-01]\n",
        " [  3.31727050e-01   4.08357856e-01   3.31730391e-01   3.31723917e-01\n",
        "    3.31733369e-01   4.08357562e-01   3.31811017e-01   3.31806374e-01\n",
        "    3.31731074e-01   3.31732802e-01   3.31732709e-01   3.31725949e-01\n",
        "    4.08363830e-01   3.31732146e-01   3.31729699e-01   3.31730266e-01\n",
        "    4.08349974e-01   3.31808701e-01   3.31812499e-01   3.31810654e-01]\n",
        " [  6.75643509e-01   1.62635679e-07   6.75656224e-01   6.75631584e-01\n",
        "    6.75667552e-01   1.83214175e-07   6.75961811e-01   6.75944276e-01\n",
        "    6.75658819e-01   6.75665396e-01   6.75665041e-01   6.75639318e-01\n",
        "    3.05515998e-09   6.75662898e-01   6.75653588e-01   6.75655745e-01\n",
        "    1.63555896e-06   6.75953067e-01   6.75967406e-01   6.75960439e-01]]\n",
        "means pre: [ 0.85555319  0.34707539  0.54059943]\n",
        "exchange results\n",
        "results post: [[  8.30560741e-01   9.55044667e-01   8.30575075e-01   8.30547300e-01\n",
        "    8.30587846e-01   9.55045354e-01   8.30920096e-01   8.30900271e-01\n",
        "    8.30578000e-01   8.30585415e-01   8.30585015e-01   8.30556017e-01\n",
        "    9.55030713e-01   8.30582599e-01   8.30572103e-01   8.30574535e-01\n",
        "    9.55062939e-01   8.30910210e-01   8.30926424e-01   8.30918545e-01]\n",
        " [  6.75643509e-01   1.62635679e-07   6.75656224e-01   6.75631584e-01\n",
        "    6.75667552e-01   1.83214175e-07   6.75961811e-01   6.75944276e-01\n",
        "    6.75658819e-01   6.75665396e-01   6.75665041e-01   6.75639318e-01\n",
        "    3.05515998e-09   6.75662898e-01   6.75653588e-01   6.75655745e-01\n",
        "    1.63555896e-06   6.75953067e-01   6.75967406e-01   6.75960439e-01]\n",
        " [  3.31727050e-01   4.08357856e-01   3.31730391e-01   3.31723917e-01\n",
        "    3.31733369e-01   4.08357562e-01   3.31811017e-01   3.31806374e-01\n",
        "    3.31731074e-01   3.31732802e-01   3.31732709e-01   3.31725949e-01\n",
        "    4.08363830e-01   3.31732146e-01   3.31729699e-01   3.31730266e-01\n",
        "    4.08349974e-01   3.31808701e-01   3.31812499e-01   3.31810654e-01]]\n",
        "means post: [ 0.85555319  0.54059943  0.34707539]\n",
        "samples post: [ 0.6  0.5  0.3]\n"
       ]
      },
      {
       "metadata": {},
       "output_type": "display_data",
       "png": "[encoded data removed]",
       "text": [
        "<matplotlib.figure.Figure at 0x3719cd0>"
       ]
      },
      {
       "output_type": "stream",
       "stream": "stdout",
       "text": [
        "EM Interations: 126\n",
        "EM Interations: 131\n",
        "EM Interations: 121\n",
        "EM Interations: 139\n",
        "EM Interations: 151"
       ]
      },
      {
       "output_type": "stream",
       "stream": "stdout",
       "text": [
        "\n",
        "EM Interations: 118\n",
        "EM Interations: 96\n",
        "EM Interations: 125\n",
        "EM Interations: 119"
       ]
      },
      {
       "output_type": "stream",
       "stream": "stdout",
       "text": [
        "\n",
        "EM Interations: 142\n",
        "EM Interations: 62\n",
        "EM Interations: 157\n",
        "EM Interations: 139"
       ]
      },
      {
       "output_type": "stream",
       "stream": "stdout",
       "text": [
        "\n",
        "EM Interations: 120\n",
        "EM Interations: 152\n",
        "EM Interations: 153"
       ]
      },
      {
       "output_type": "stream",
       "stream": "stdout",
       "text": [
        "\n",
        "EM Interations: 122\n",
        "EM Interations: 107\n",
        "EM Interations: 91\n",
        "EM Interations: 114"
       ]
      },
      {
       "output_type": "stream",
       "stream": "stdout",
       "text": [
        "\n",
        "results pre: [[ 0.68091695  0.68090637  0.68091203  0.68398542  0.68089126  0.68400555\n",
        "   0.68398531  0.68396329  0.68396183  0.6809091   0.68090406  0.68086737\n",
        "   0.68397787  0.68400453  0.68399061  0.68398494  0.68398692  0.6839849\n",
        "   0.68396252  0.68401454]\n",
        " [ 0.31894278  0.31894107  0.31894198  0.31944217  0.31893861  0.31944545\n",
        "   0.31944215  0.31943856  0.31943832  0.31894151  0.31894069  0.31893474\n",
        "   0.31944094  0.31944529  0.31944302  0.31944209  0.31944241  0.31944208\n",
        "   0.31943843  0.31944692]\n",
        " [ 0.5259648   0.5259616   0.52596331  0.52689409  0.52595703  0.5269002\n",
        "   0.52689406  0.52688738  0.52688694  0.52596243  0.5259609   0.52594981\n",
        "   0.5268918   0.52689989  0.52689567  0.52689394  0.52689455  0.52689393\n",
        "   0.52688714  0.52690292]]\n",
        "means pre: [ 0.68290577  0.31926646  0.52656712]\n",
        "exchange results\n",
        "exchange lambda\n",
        "results post: [[ 0.31908305  0.31909363  0.31908797  0.31601458  0.31910874  0.31599445\n",
        "   0.31601469  0.31603671  0.31603817  0.3190909   0.31909594  0.31913263\n",
        "   0.31602213  0.31599547  0.31600939  0.31601506  0.31601308  0.3160151\n",
        "   0.31603748  0.31598546]\n",
        " [ 0.5259648   0.5259616   0.52596331  0.52689409  0.52595703  0.5269002\n",
        "   0.52689406  0.52688738  0.52688694  0.52596243  0.5259609   0.52594981\n",
        "   0.5268918   0.52689989  0.52689567  0.52689394  0.52689455  0.52689393\n",
        "   0.52688714  0.52690292]\n",
        " [ 0.31894278  0.31894107  0.31894198  0.31944217  0.31893861  0.31944545\n",
        "   0.31944215  0.31943856  0.31943832  0.31894151  0.31894069  0.31893474\n",
        "   0.31944094  0.31944529  0.31944302  0.31944209  0.31944241  0.31944208\n",
        "   0.31943843  0.31944692]]\n",
        "means post: [ 0.31709423  0.52656712  0.31926646]\n",
        "samples post: [ 0.1  0.5  0.3]\n"
       ]
      },
      {
       "metadata": {},
       "output_type": "display_data",
       "png": "[encoded data removed]",
       "text": [
        "<matplotlib.figure.Figure at 0x20d2fd0>"
       ]
      }
     ],
     "prompt_number": 44
    },
    {
     "cell_type": "code",
     "collapsed": false,
     "input": [
      "#Run the same code for N = 200 and M = 100\n",
      "#TODO"
     ],
     "language": "python",
     "metadata": {},
     "outputs": [],
     "prompt_number": 28
    },
    {
     "cell_type": "markdown",
     "metadata": {},
     "source": [
      "<h3>Analysis</h3>\n",
      "** When does the method provide estimates close to the true values? When are the estimates further away from the true values? In general, when would you expect the method to behave well with low variance? **\n",
      "\n",
      "\n",
      "*TODO: Your analysis here*"
     ]
    },
    {
     "cell_type": "markdown",
     "metadata": {},
     "source": [
      "<h3>Export your ipynb file as a pdf</h3>\n",
      "\n",
      "Make sure **all** of your code can be read within the pdfs and the individual plots aren't split across pages."
     ]
    }
   ],
   "metadata": {}
  }
 ]
}