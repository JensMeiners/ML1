{
 "metadata": {
  "name": ""
 },
 "nbformat": 3,
 "nbformat_minor": 0,
 "worksheets": [
  {
   "cells": [
    {
     "cell_type": "heading",
     "level": 1,
     "metadata": {},
     "source": [
      "\u00dcbung 02 - Aufgabe 01"
     ]
    },
    {
     "cell_type": "heading",
     "level": 2,
     "metadata": {},
     "source": [
      "Gruppe: <br>\n",
      "Felix Bauer 331805 <br>\n",
      "Marius Schulz <br>\n",
      "Jens Meiners 332697"
     ]
    },
    {
     "cell_type": "markdown",
     "metadata": {},
     "source": [
      "Die Variablen Q\n",
      "1\n",
      ",\n",
      "..., Q\n",
      "n\n",
      "des CSP repr\u00e4sentieren die\n",
      "n\n",
      "Spalten des Bretts. Der Wertebereich\n",
      "(Dom\u00e4ne) jeder Variable Q\n",
      "i\n",
      "ist D\n",
      "i\n",
      "= {\n",
      "1, 2\n",
      ", ...,\n",
      "n\n",
      "}. Der Wert einer Variablen Q\n",
      "i\n",
      "repr\u00e4sentiert\n",
      "die Zeile der i\n",
      "-\n",
      "ten Spalte in der die i\n",
      "-\n",
      "te Dame steht. Die Constraints sind durch logische\n",
      "Ausdr\u00fccke der Form <br>\n",
      "i\n",
      "\u2260\n",
      "j\n",
      "\u21d2\n",
      "Q\n",
      "i\n",
      "\u2260\n",
      "Q\n",
      "j\n",
      "(k\n",
      "eine zwei Damen in derselben Zeile) und <br>\n",
      "i\n",
      "\u2260\n",
      "j\n",
      "\u21d2\n",
      "\u239f\n",
      "Q\n",
      "i\n",
      "\u2212\n",
      "Q\n",
      "j\n",
      "\u239f\n",
      "\u2260\n",
      "\u239f\n",
      "i\n",
      "\u2212\n",
      "j\n",
      "\u239f\n",
      "(keine zwei Damen in derselben\n",
      "Diagonale\n",
      ") "
     ]
    },
    {
     "cell_type": "raw",
     "metadata": {},
     "source": [
      "Imports:"
     ]
    },
    {
     "cell_type": "code",
     "collapsed": false,
     "input": [
      "import numpy as np"
     ],
     "language": "python",
     "metadata": {},
     "outputs": [],
     "prompt_number": 1
    },
    {
     "cell_type": "raw",
     "metadata": {},
     "source": [
      "Classes:"
     ]
    },
    {
     "cell_type": "code",
     "collapsed": false,
     "input": [
      "class Q:\n",
      "    \"\"\"\n",
      "    This class is designed to present one column of our imagined chess board.\n",
      "    i represents the column number and\n",
      "    j represents the row where the respective queen is located. j is it's value recording to the \u00dcbungszettel\n",
      "    \"\"\"\n",
      "    def __init__(self, i = 0, j = 0):\n",
      "            self.i = i\n",
      "            self.j = j\n",
      "            \n",
      "    def str(self):\n",
      "        return \"Q_\"+str(self.i)+\" val: \"+str(self.j)\n",
      "    def __repr__(self):\n",
      "        return self.str()\n",
      "    \"\"\"\n",
      "    override the quality method to compare instances of this object via the in operator or something alike\n",
      "    in order to test the contraints!\n",
      "    NOTE: we dont check for the equility of i because we are cautious with the usage of this class, you should too ;)\n",
      "    \"\"\"\n",
      "    def __eq__(self, q):\n",
      "        if self.j == q.j:\n",
      "            return true\n",
      "        if abs(self.i - self.j) == abs(i - j):\n",
      "            return true\n",
      "        return false"
     ],
     "language": "python",
     "metadata": {},
     "outputs": [],
     "prompt_number": 35
    },
    {
     "cell_type": "raw",
     "metadata": {},
     "source": [
      "Helper:"
     ]
    },
    {
     "cell_type": "code",
     "collapsed": false,
     "input": [
      "q_list = []\n",
      "def init(n = 30):\n",
      "    for i in range(n):\n",
      "        q_list.append(Q(i))\n",
      "init()\n",
      "print q_list"
     ],
     "language": "python",
     "metadata": {},
     "outputs": [
      {
       "output_type": "stream",
       "stream": "stdout",
       "text": [
        "[Q_0 val: 0, Q_1 val: 0, Q_2 val: 0, Q_3 val: 0, Q_4 val: 0, Q_5 val: 0, Q_6 val: 0, Q_7 val: 0, Q_8 val: 0, Q_9 val: 0, Q_10 val: 0, Q_11 val: 0, Q_12 val: 0, Q_13 val: 0, Q_14 val: 0, Q_15 val: 0, Q_16 val: 0, Q_17 val: 0, Q_18 val: 0, Q_19 val: 0, Q_20 val: 0, Q_21 val: 0, Q_22 val: 0, Q_23 val: 0, Q_24 val: 0, Q_25 val: 0, Q_26 val: 0, Q_27 val: 0, Q_28 val: 0, Q_29 val: 0]\n"
       ]
      }
     ],
     "prompt_number": 37
    },
    {
     "cell_type": "raw",
     "metadata": {},
     "source": [
      "Algos:"
     ]
    },
    {
     "cell_type": "code",
     "collapsed": false,
     "input": [
      "def BT():\n",
      "    pass"
     ],
     "language": "python",
     "metadata": {},
     "outputs": [],
     "prompt_number": 5
    },
    {
     "cell_type": "code",
     "collapsed": false,
     "input": [
      "def MRV():\n",
      "    pass"
     ],
     "language": "python",
     "metadata": {},
     "outputs": [],
     "prompt_number": 6
    },
    {
     "cell_type": "code",
     "collapsed": false,
     "input": [
      "def FC():\n",
      "    pass"
     ],
     "language": "python",
     "metadata": {},
     "outputs": [],
     "prompt_number": 7
    },
    {
     "cell_type": "code",
     "collapsed": false,
     "input": [
      "def AC():\n",
      "    pass"
     ],
     "language": "python",
     "metadata": {},
     "outputs": [],
     "prompt_number": 8
    },
    {
     "cell_type": "markdown",
     "metadata": {},
     "source": [
      "a) L\u00f6sen Sie das n\n",
      "-\n",
      "Damen Problem f\u00fcr n = 5, 6, ..., 30 mit den im Anhang beschriebenen\n",
      "Algorithmen A =\n",
      "{\n",
      "BT, BT+MRV+FC, BT+MRV+AC\n",
      "}"
     ]
    },
    {
     "cell_type": "code",
     "collapsed": false,
     "input": [],
     "language": "python",
     "metadata": {},
     "outputs": [],
     "prompt_number": 5
    }
   ],
   "metadata": {}
  }
 ]
}