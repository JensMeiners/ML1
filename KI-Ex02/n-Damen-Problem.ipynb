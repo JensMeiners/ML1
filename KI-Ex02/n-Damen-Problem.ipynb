{
 "metadata": {
  "name": ""
 },
 "nbformat": 3,
 "nbformat_minor": 0,
 "worksheets": [
  {
   "cells": [
    {
     "cell_type": "heading",
     "level": 1,
     "metadata": {},
     "source": [
      "\u00dcbung 02 - Aufgabe 01"
     ]
    },
    {
     "cell_type": "heading",
     "level": 2,
     "metadata": {},
     "source": [
      "Gruppe: <br>\n",
      "Felix Bauer 331805 <br>\n",
      "Marius Schulz <br>\n",
      "Jens Meiners 332697"
     ]
    },
    {
     "cell_type": "markdown",
     "metadata": {},
     "source": [
      "Die Variablen Q\n",
      "1\n",
      ",\n",
      "..., Q\n",
      "n\n",
      "des CSP repr\u00e4sentieren die\n",
      "n\n",
      "Spalten des Bretts. Der Wertebereich\n",
      "(Dom\u00e4ne) jeder Variable Q\n",
      "i\n",
      "ist D\n",
      "i\n",
      "= {\n",
      "1, 2\n",
      ", ...,\n",
      "n\n",
      "}. Der Wert einer Variablen Q\n",
      "i\n",
      "repr\u00e4sentiert\n",
      "die Zeile der i\n",
      "-\n",
      "ten Spalte in der die i\n",
      "-\n",
      "te Dame steht. Die Constraints sind durch logische\n",
      "Ausdr\u00fccke der Form <br>\n",
      "i\n",
      "\u2260\n",
      "j\n",
      "\u21d2\n",
      "Q\n",
      "i\n",
      "\u2260\n",
      "Q\n",
      "j\n",
      "(k\n",
      "eine zwei Damen in derselben Zeile) und <br>\n",
      "i\n",
      "\u2260\n",
      "j\n",
      "\u21d2\n",
      "\u239f\n",
      "Q\n",
      "i\n",
      "\u2212\n",
      "Q\n",
      "j\n",
      "\u239f\n",
      "\u2260\n",
      "\u239f\n",
      "i\n",
      "\u2212\n",
      "j\n",
      "\u239f\n",
      "(keine zwei Damen in derselben\n",
      "Diagonale\n",
      ") "
     ]
    },
    {
     "cell_type": "raw",
     "metadata": {},
     "source": [
      "Imports:"
     ]
    },
    {
     "cell_type": "code",
     "collapsed": false,
     "input": [
      "import numpy as np"
     ],
     "language": "python",
     "metadata": {},
     "outputs": [],
     "prompt_number": 1
    },
    {
     "cell_type": "raw",
     "metadata": {},
     "source": [
      "Classes:"
     ]
    },
    {
     "cell_type": "code",
     "collapsed": false,
     "input": [
      "class Q:\n",
      "    def __init__(self, i = 0, j = 0):\n",
      "            self.i = i\n",
      "            self.j = j"
     ],
     "language": "python",
     "metadata": {},
     "outputs": [],
     "prompt_number": 3
    },
    {
     "cell_type": "raw",
     "metadata": {},
     "source": [
      "Algos:"
     ]
    },
    {
     "cell_type": "code",
     "collapsed": false,
     "input": [
      "def BT():\n",
      "    pass"
     ],
     "language": "python",
     "metadata": {},
     "outputs": [],
     "prompt_number": 5
    },
    {
     "cell_type": "markdown",
     "metadata": {},
     "source": [
      "a) L\u00f6sen Sie das n\n",
      "-\n",
      "Damen Problem f\u00fcr n = 5, 6, ..., 30 mit den im Anhang beschriebenen\n",
      "Algorithmen A =\n",
      "{\n",
      "BT, BT+MRV+FC, BT+MRV+AC\n",
      "}"
     ]
    },
    {
     "cell_type": "code",
     "collapsed": false,
     "input": [],
     "language": "python",
     "metadata": {},
     "outputs": [],
     "prompt_number": 5
    }
   ],
   "metadata": {}
  }
 ]
}